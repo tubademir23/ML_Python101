{
 "cells": [
  {
   "cell_type": "code",
   "execution_count": 126,
   "metadata": {},
   "outputs": [
    {
     "output_type": "execute_result",
     "data": {
      "text/plain": "str"
     },
     "metadata": {},
     "execution_count": 126
    }
   ],
   "source": [
    "type('selam')"
   ]
  },
  {
   "cell_type": "code",
   "execution_count": 127,
   "metadata": {},
   "outputs": [
    {
     "output_type": "execute_result",
     "data": {
      "text/plain": "'selam tuba nasil'"
     },
     "metadata": {},
     "execution_count": 127
    }
   ],
   "source": [
    "ad=\"tuba\"\n",
    "\"selam \"+ ad + \" nasil\""
   ]
  },
  {
   "cell_type": "code",
   "execution_count": 128,
   "metadata": {},
   "outputs": [
    {
     "output_type": "execute_result",
     "data": {
      "text/plain": "'pythonpython'"
     },
     "metadata": {},
     "execution_count": 128
    }
   ],
   "source": [
    "\"python\"*2"
   ]
  },
  {
   "cell_type": "code",
   "execution_count": 129,
   "metadata": {},
   "outputs": [
    {
     "output_type": "stream",
     "name": "stdout",
     "text": "7.111111111111111\n7\n"
    }
   ],
   "source": [
    "first=1\n",
    "second=2\n",
    "first,second=second, first\n",
    "first**=6\n",
    "print(first/9)\n",
    "print(first//9)#kalansız bölme"
   ]
  },
  {
   "cell_type": "code",
   "execution_count": 130,
   "metadata": {},
   "outputs": [
    {
     "output_type": "execute_result",
     "data": {
      "text/plain": "['False',\n 'None',\n 'True',\n 'and',\n 'as',\n 'assert',\n 'async',\n 'await',\n 'break',\n 'class',\n 'continue',\n 'def',\n 'del',\n 'elif',\n 'else',\n 'except',\n 'finally',\n 'for',\n 'from',\n 'global',\n 'if',\n 'import',\n 'in',\n 'is',\n 'lambda',\n 'nonlocal',\n 'not',\n 'or',\n 'pass',\n 'raise',\n 'return',\n 'try',\n 'while',\n 'with',\n 'yield']"
     },
     "metadata": {},
     "execution_count": 130
    }
   ],
   "source": [
    "import keyword\n",
    "keyword.kwlist\n"
   ]
  },
  {
   "cell_type": "code",
   "execution_count": 131,
   "metadata": {},
   "outputs": [
    {
     "output_type": "stream",
     "name": "stdout",
     "text": "64\n"
    },
    {
     "output_type": "error",
     "ename": "NameError",
     "evalue": "name 'first' is not defined",
     "traceback": [
      "\u001b[1;31m---------------------------------------------------------------------------\u001b[0m",
      "\u001b[1;31mNameError\u001b[0m                                 Traceback (most recent call last)",
      "\u001b[1;32m<ipython-input-131-d56c8f4fc1d5>\u001b[0m in \u001b[0;36m<module>\u001b[1;34m\u001b[0m\n\u001b[0;32m      1\u001b[0m \u001b[0mprint\u001b[0m\u001b[1;33m(\u001b[0m\u001b[0mfirst\u001b[0m\u001b[1;33m)\u001b[0m\u001b[1;33m\u001b[0m\u001b[1;33m\u001b[0m\u001b[0m\n\u001b[0;32m      2\u001b[0m \u001b[1;32mdel\u001b[0m \u001b[0mfirst\u001b[0m\u001b[1;33m\u001b[0m\u001b[1;33m\u001b[0m\u001b[0m\n\u001b[1;32m----> 3\u001b[1;33m \u001b[0mprint\u001b[0m\u001b[1;33m(\u001b[0m\u001b[0mfirst\u001b[0m\u001b[1;33m)\u001b[0m\u001b[1;33m\u001b[0m\u001b[1;33m\u001b[0m\u001b[0m\n\u001b[0m",
      "\u001b[1;31mNameError\u001b[0m: name 'first' is not defined"
     ]
    }
   ],
   "source": [
    "print(first)\n",
    "del first\n",
    "print(first)"
   ]
  },
  {
   "cell_type": "code",
   "execution_count": 134,
   "metadata": {},
   "outputs": [
    {
     "output_type": "stream",
     "name": "stdout",
     "text": "[0, 1, 2, 3, 4, 5, 6, 7, 8]\n[0, 1, 2, 3, 4, 5, 6, 7, 8]\n[0, 1, 2, 3, 4, 5, 6, 7, 8]\n"
    }
   ],
   "source": [
    "matrix=[[0,1,2],[3,4,5],[6,7,8]]\n",
    "for i in matrix:\n",
    "    list=[]\n",
    "    for j in matrix:\n",
    "        list.extend(j)\n",
    "    print(list)"
   ]
  },
  {
   "cell_type": "code",
   "execution_count": null,
   "metadata": {},
   "outputs": [],
   "source": []
  },
  {
   "cell_type": "code",
   "execution_count": 154,
   "metadata": {},
   "outputs": [
    {
     "output_type": "stream",
     "name": "stdout",
     "text": "{'selam': 'merhaba', 'aney': 'anne'}\n{'selam': 'merhaba', 'aney': 'anne', 'hello': 'slm', 'yogurt': 'yogurt'}\n"
    }
   ],
   "source": [
    "sozluk={}\n",
    "sozluk[\"selam\"]=\"merhaba\"\n",
    "sozluk[\"aney\"]=\"anne\"\n",
    "print(sozluk)\n",
    "sozlukkey=sozluk.keys\n",
    "sozlukvalue=sozluk.values\n",
    "sozluk.setdefault('hello','slm')\n",
    "sozluk.setdefault('yogurt','yogurt')\n",
    "print(sozluk)\n",
    "\n",
    "sozlukeng={}\n",
    "sozlukeng[\"yogurt\"]=\"yogurt\"\n"
   ]
  },
  {
   "cell_type": "code",
   "execution_count": 164,
   "metadata": {},
   "outputs": [
    {
     "output_type": "stream",
     "name": "stdout",
     "text": "{'yogurt', 'selam', 'hello', 'aney'}\n{'yogurt'}\nKesişim:  {'yogurt'}\nBirleşim:  {'selam', 'hello', 'yogurt', 'aney'}\n"
    }
   ],
   "source": [
    "kume1=set(sozluk)\n",
    "kume2=set(sozlukeng)\n",
    "print(kume1)\n",
    "print(kume2)\n",
    "print(\"Kesişim: \", kume1.intersection(kume2))\n",
    "print(\"Birleşim: \", kume1.union(kume2))"
   ]
  },
  {
   "cell_type": "code",
   "execution_count": null,
   "metadata": {},
   "outputs": [],
   "source": [
    "liste1= sozluk"
   ]
  },
  {
   "cell_type": "code",
   "execution_count": 170,
   "metadata": {},
   "outputs": [
    {
     "output_type": "stream",
     "name": "stdout",
     "text": "(0, 'aney') (1, 'hello') (2, 'selam') (3, 'yogurt')\n"
    }
   ],
   "source": [
    "listem=sorted(sozluk)\n",
    "print(*enumerate(listem))"
   ]
  },
  {
   "cell_type": "code",
   "execution_count": 180,
   "metadata": {},
   "outputs": [
    {
     "output_type": "stream",
     "name": "stdout",
     "text": "N: 0 V: aney\nN: 1 V: hello\nN: 2 V: selam\nN: 3 V: yogurt\n"
    }
   ],
   "source": [
    "for no, value in enumerate(listem,0):\n",
    "    print('N: {0} V: {1}'.format(no,value ))"
   ]
  },
  {
   "cell_type": "code",
   "execution_count": 181,
   "metadata": {},
   "outputs": [
    {
     "output_type": "stream",
     "name": "stdout",
     "text": "\nİsim: Ahmet DENİZ\nOrtalama: 78.33\nHarf notu: C\n--------------------\nİsim: Aylin TÜRK\nOrtalama: 45.00\nHarf notu: F\n--------------------\nİsim: Murat YILMAZ\nOrtalama: 95.00\nHarf notu: A\n--------------------\nSınıf ort: 72\n--------------------"
    }
   ],
   "source": [
    "sinif=[0,0]\n",
    "def not_hesaplama(ad, puanlar):\n",
    "    sinif[0]+= len(puanlar)\n",
    "    sinif[1]+= sum(puanlar) \n",
    "    ortalama = 0\n",
    "    for puan in puanlar:\n",
    "        ortalama += puan\n",
    "    ortalama /= len(puanlar)\n",
    "    #ortalama = sum(puanlar) / len(puanlar)\n",
    "    \n",
    "    if ortalama > 90:\n",
    "        harf = 'A'\n",
    "    elif ortalama > 80:\n",
    "        harf = 'B'\n",
    "    elif ortalama > 60:\n",
    "        harf = 'C'\n",
    "    elif ortalama > 50:\n",
    "        harf = 'D'\n",
    "    else:\n",
    "        harf = 'F'\n",
    "    \n",
    "    print(f'\\nİsim: {ad}\\nOrtalama: {ortalama:.2f}\\nHarf notu: {harf}\\n', end=\"-\"*20)\n",
    "\n",
    "not_hesaplama('Ahmet DENİZ', (60, 100, 75))\n",
    "not_hesaplama('Aylin TÜRK', (20, 50, 65))\n",
    "not_hesaplama('Murat YILMAZ', (100, 100, 85))\n",
    "sinif_ort= sinif[1]//sinif[0]\n",
    "print(f'\\nSınıf ort: {sinif_ort}\\n', end=\"-\"*20)"
   ]
  },
  {
   "cell_type": "code",
   "execution_count": 196,
   "metadata": {},
   "outputs": [
    {
     "output_type": "stream",
     "name": "stdout",
     "text": "40320 40320 8\n"
    }
   ],
   "source": [
    "a=8\n",
    "sonuc=1\n",
    "def factorial(a):\n",
    "    global sonuc\n",
    "    if(a==1):       \n",
    "        return 1\n",
    "    sonuc=factorial(a-1)*a\n",
    "    return sonuc\n",
    "print(f\"{factorial(a)} {sonuc} {a}\")\n"
   ]
  },
  {
   "cell_type": "code",
   "execution_count": null,
   "metadata": {},
   "outputs": [],
   "source": []
  },
  {
   "cell_type": "code",
   "execution_count": null,
   "metadata": {},
   "outputs": [],
   "source": []
  }
 ],
 "metadata": {
  "language_info": {
   "codemirror_mode": {
    "name": "ipython",
    "version": 3
   },
   "file_extension": ".py",
   "mimetype": "text/x-python",
   "name": "python",
   "nbconvert_exporter": "python",
   "pygments_lexer": "ipython3",
   "version": "3.8.3-final"
  },
  "orig_nbformat": 2,
  "kernelspec": {
   "name": "python3",
   "display_name": "Python 3"
  }
 },
 "nbformat": 4,
 "nbformat_minor": 2
}