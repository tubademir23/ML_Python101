{
 "cells": [
  {
   "cell_type": "code",
   "execution_count": 3,
   "metadata": {},
   "outputs": [
    {
     "output_type": "stream",
     "name": "stdout",
     "text": "\n(1) topla\n(2) çıkar\n(3) çarp\n(4) böl\n(5) karesini hesapla\n(6) karekök hesapla\n\n65 - 28 = 37\n"
    }
   ],
   "source": [
    "giriş = \"\"\"\n",
    "(1) topla\n",
    "(2) çıkar\n",
    "(3) çarp\n",
    "(4) böl\n",
    "(5) karesini hesapla\n",
    "(6) karekök hesapla\n",
    "\"\"\"\n",
    "print(giriş)\n",
    "soru = input(\"Yapmak istediğiniz işlemin numarasını girin: \")\n",
    "\n",
    "if soru == \"1\":\n",
    "    sayı1 = int(input(\"Toplama işlemi için ilk sayıyı girin: \"))\n",
    "    sayı2 = int(input(\"Toplama işlemi için ikinci sayıyı girin: \"))\n",
    "    print(sayı1, \"+\", sayı2, \"=\", sayı1 + sayı2)\n",
    "elif soru == \"2\":\n",
    "    sayı3 = int(input(\"Çıkarma işlemi için ilk sayıyı girin: \"))\n",
    "    sayı4 = int(input(\"Çıkarma işlemi için ikinci sayıyı girin: \"))\n",
    "    print(sayı3, \"-\", sayı4, \"=\", sayı3 - sayı4)\n",
    "elif soru == \"3\":\n",
    "    sayı5 = int(input(\"Çarpma işlemi için ilk sayıyı girin: \"))\n",
    "    sayı6 = int(input(\"Çarpma işlemi için ikinci sayıyı girin: \"))\n",
    "    print(sayı5, \"x\", sayı6, \"=\", sayı5 * sayı6)\n",
    "elif soru == \"4\":\n",
    "    sayı7 = int(input(\"Bölme işlemi için ilk sayıyı girin: \"))\n",
    "    sayı8 = int(input(\"Bölme işlemi için ikinci sayıyı girin: \"))\n",
    "    print(sayı7, \"/\", sayı8, \"=\", sayı7 / sayı8)\n",
    "elif soru == \"5\":\n",
    "    sayı9 = int(input(\"Karesini hesaplamak istediğiniz sayıyı girin: \"))\n",
    "    print(sayı9, \"sayısının karesi =\", sayı9 ** 2)\n",
    "elif soru == \"6\":\n",
    "    sayı10 = int(input(\"Karekökünü hesaplamak istediğiniz sayıyı girin: \"))\n",
    "    print(sayı10, \"sayısının karekökü = \", sayı10 ** 0.5)\n",
    "else:\n",
    "    print(\"Yanlış giriş.\")\n",
    "    print(\"Aşağıdaki seçeneklerden birini giriniz:\", giriş)\n"
   ]
  },
  {
   "cell_type": "code",
   "execution_count": 4,
   "metadata": {},
   "outputs": [
    {
     "output_type": "stream",
     "name": "stdout",
     "text": "Bildiginiz gibi, internet uzerinde bazen Turkce karakterleri kullanamiyoruz.\n"
    }
   ],
   "source": [
    "kaynak = \"şçöğüıŞÇÖĞÜİ\"\n",
    "hedef  = \"scoguiSCOGUI\"\n",
    "\n",
    "çeviri_tablosu = str.maketrans(kaynak, hedef)\n",
    "\n",
    "metin = \"Bildiğiniz gibi, internet üzerinde bazen Türkçe karakterleri kullanamıyoruz.\"\n",
    "\n",
    "print(metin.translate(çeviri_tablosu))"
   ]
  },
  {
   "cell_type": "code",
   "execution_count": 5,
   "metadata": {},
   "outputs": [
    {
     "output_type": "stream",
     "name": "stdout",
     "text": "{351: 115, 231: 99, 246: 111, 287: 103, 252: 117, 305: 105, 350: 83, 199: 67, 214: 79, 286: 71, 220: 85, 304: 73}\n"
    }
   ],
   "source": [
    "kaynak = \"şçöğüıŞÇÖĞÜİ\"\n",
    "hedef  = \"scoguiSCOGUI\"\n",
    "\n",
    "çeviri_tablosu = str.maketrans(kaynak, hedef)\n",
    "\n",
    "print(çeviri_tablosu)"
   ]
  },
  {
   "cell_type": "code",
   "execution_count": 6,
   "metadata": {},
   "outputs": [
    {
     "output_type": "stream",
     "name": "stdout",
     "text": "351 ş\n231 ç\n246 ö\n287 ğ\n252 ü\n305 ı\n350 Ş\n199 Ç\n214 Ö\n286 Ğ\n220 Ü\n304 İ\n"
    }
   ],
   "source": [
    "for i in çeviri_tablosu:\n",
    "    print(i, chr(i))"
   ]
  },
  {
   "cell_type": "code",
   "execution_count": 18,
   "metadata": {},
   "outputs": [
    {
     "output_type": "stream",
     "name": "stdout",
     "text": "115 s\n99 c\n111 o\n103 g\n117 u\n105 i\n83 S\n67 C\n79 O\n71 G\n85 U\n73 I\n"
    }
   ],
   "source": [
    "for i in çeviri_tablosu.values():\n",
    "    print(i, chr(i))"
   ]
  },
  {
   "cell_type": "code",
   "execution_count": 3,
   "metadata": {},
   "outputs": [],
   "source": [
    "import numpy as np\n",
    "import pandas as pd\n",
    "import matplotlib.pyplot as plt\n",
    "import datetime\n",
    "\n",
    "# hide warnings\n",
    "import warnings\n",
    "warnings.filterwarnings('ignore')"
   ]
  },
  {
   "cell_type": "code",
   "execution_count": 4,
   "metadata": {},
   "outputs": [
    {
     "output_type": "execute_result",
     "data": {
      "text/plain": "      Province/State         Country/Region       Date  Confirmed  Deaths  \\\n0                               Afghanistan 2020-01-22          0       0   \n1                                   Albania 2020-01-22          0       0   \n2                                   Algeria 2020-01-22          0       0   \n3                                   Andorra 2020-01-22          0       0   \n4                                    Angola 2020-01-22          0       0   \n...              ...                    ...        ...        ...     ...   \n36787                 Sao Tome and Principe 2020-06-15        662      12   \n36788                                 Yemen 2020-06-15        844     208   \n36789                               Comoros 2020-06-15        176       2   \n36790                            Tajikistan 2020-06-15       5097      50   \n36791                               Lesotho 2020-06-15          4       0   \n\n       Recovered  \n0              0  \n1              0  \n2              0  \n3              0  \n4              0  \n...          ...  \n36787        177  \n36788         79  \n36789        114  \n36790       3503  \n36791          2  \n\n[36792 rows x 6 columns]",
      "text/html": "<div>\n<style scoped>\n    .dataframe tbody tr th:only-of-type {\n        vertical-align: middle;\n    }\n\n    .dataframe tbody tr th {\n        vertical-align: top;\n    }\n\n    .dataframe thead th {\n        text-align: right;\n    }\n</style>\n<table border=\"1\" class=\"dataframe\">\n  <thead>\n    <tr style=\"text-align: right;\">\n      <th></th>\n      <th>Province/State</th>\n      <th>Country/Region</th>\n      <th>Date</th>\n      <th>Confirmed</th>\n      <th>Deaths</th>\n      <th>Recovered</th>\n    </tr>\n  </thead>\n  <tbody>\n    <tr>\n      <th>0</th>\n      <td></td>\n      <td>Afghanistan</td>\n      <td>2020-01-22</td>\n      <td>0</td>\n      <td>0</td>\n      <td>0</td>\n    </tr>\n    <tr>\n      <th>1</th>\n      <td></td>\n      <td>Albania</td>\n      <td>2020-01-22</td>\n      <td>0</td>\n      <td>0</td>\n      <td>0</td>\n    </tr>\n    <tr>\n      <th>2</th>\n      <td></td>\n      <td>Algeria</td>\n      <td>2020-01-22</td>\n      <td>0</td>\n      <td>0</td>\n      <td>0</td>\n    </tr>\n    <tr>\n      <th>3</th>\n      <td></td>\n      <td>Andorra</td>\n      <td>2020-01-22</td>\n      <td>0</td>\n      <td>0</td>\n      <td>0</td>\n    </tr>\n    <tr>\n      <th>4</th>\n      <td></td>\n      <td>Angola</td>\n      <td>2020-01-22</td>\n      <td>0</td>\n      <td>0</td>\n      <td>0</td>\n    </tr>\n    <tr>\n      <th>...</th>\n      <td>...</td>\n      <td>...</td>\n      <td>...</td>\n      <td>...</td>\n      <td>...</td>\n      <td>...</td>\n    </tr>\n    <tr>\n      <th>36787</th>\n      <td></td>\n      <td>Sao Tome and Principe</td>\n      <td>2020-06-15</td>\n      <td>662</td>\n      <td>12</td>\n      <td>177</td>\n    </tr>\n    <tr>\n      <th>36788</th>\n      <td></td>\n      <td>Yemen</td>\n      <td>2020-06-15</td>\n      <td>844</td>\n      <td>208</td>\n      <td>79</td>\n    </tr>\n    <tr>\n      <th>36789</th>\n      <td></td>\n      <td>Comoros</td>\n      <td>2020-06-15</td>\n      <td>176</td>\n      <td>2</td>\n      <td>114</td>\n    </tr>\n    <tr>\n      <th>36790</th>\n      <td></td>\n      <td>Tajikistan</td>\n      <td>2020-06-15</td>\n      <td>5097</td>\n      <td>50</td>\n      <td>3503</td>\n    </tr>\n    <tr>\n      <th>36791</th>\n      <td></td>\n      <td>Lesotho</td>\n      <td>2020-06-15</td>\n      <td>4</td>\n      <td>0</td>\n      <td>2</td>\n    </tr>\n  </tbody>\n</table>\n<p>36792 rows × 6 columns</p>\n</div>"
     },
     "metadata": {},
     "execution_count": 4
    }
   ],
   "source": [
    "#check the old format\n",
    "confirmed_df = pd.read_csv('https://raw.githubusercontent.com/CSSEGISandData/COVID-19/master/csse_covid_19_data/csse_covid_19_time_series/time_series_covid19_confirmed_global.csv')\n",
    "death_df = pd.read_csv('https://raw.githubusercontent.com/CSSEGISandData/COVID-19/master/csse_covid_19_data/csse_covid_19_time_series/time_series_covid19_deaths_global.csv')\n",
    "recovered_df = pd.read_csv('https://raw.githubusercontent.com/CSSEGISandData/COVID-19/master/csse_covid_19_data/csse_covid_19_time_series/time_series_covid19_recovered_global.csv')\n",
    "\n",
    "confirmed_table = confirmed_df.melt(id_vars=[\"Province/State\", \"Country/Region\", \"Lat\", \"Long\"], var_name=\"Date\", value_name=\"Confirmed\").fillna('').drop(['Lat', 'Long'], axis=1)\n",
    "death_table = death_df.melt(id_vars=[\"Province/State\", \"Country/Region\", \"Lat\", \"Long\"], var_name=\"Date\", value_name=\"Deaths\").fillna('').drop(['Lat', 'Long'], axis=1)\n",
    "recovered_table = recovered_df.melt(id_vars=[\"Province/State\", \"Country/Region\", \"Lat\", \"Long\"], var_name=\"Date\", value_name=\"Recovered\").fillna('').drop(['Lat', 'Long'], axis=1)\n",
    "\n",
    "full_table = confirmed_table.merge(death_table).merge(recovered_table)\n",
    "\n",
    "full_table['Date'] = pd.to_datetime(full_table['Date'])\n",
    "full_table"
   ]
  },
  {
   "cell_type": "code",
   "execution_count": 5,
   "metadata": {},
   "outputs": [
    {
     "output_type": "execute_result",
     "data": {
      "text/plain": "      Province/State         Country/Region       Date  Confirmed  Deaths  \\\n0                               Afghanistan 2020-01-22          0       0   \n1                                   Albania 2020-01-22          0       0   \n2                                   Algeria 2020-01-22          0       0   \n3                                   Andorra 2020-01-22          0       0   \n4                                    Angola 2020-01-22          0       0   \n...              ...                    ...        ...        ...     ...   \n36787                 Sao Tome and Principe 2020-06-15        662      12   \n36788                                 Yemen 2020-06-15        844     208   \n36789                               Comoros 2020-06-15        176       2   \n36790                            Tajikistan 2020-06-15       5097      50   \n36791                               Lesotho 2020-06-15          4       0   \n\n       Recovered  Active  \n0              0       0  \n1              0       0  \n2              0       0  \n3              0       0  \n4              0       0  \n...          ...     ...  \n36787        177     473  \n36788         79     557  \n36789        114      60  \n36790       3503    1544  \n36791          2       2  \n\n[36792 rows x 7 columns]",
      "text/html": "<div>\n<style scoped>\n    .dataframe tbody tr th:only-of-type {\n        vertical-align: middle;\n    }\n\n    .dataframe tbody tr th {\n        vertical-align: top;\n    }\n\n    .dataframe thead th {\n        text-align: right;\n    }\n</style>\n<table border=\"1\" class=\"dataframe\">\n  <thead>\n    <tr style=\"text-align: right;\">\n      <th></th>\n      <th>Province/State</th>\n      <th>Country/Region</th>\n      <th>Date</th>\n      <th>Confirmed</th>\n      <th>Deaths</th>\n      <th>Recovered</th>\n      <th>Active</th>\n    </tr>\n  </thead>\n  <tbody>\n    <tr>\n      <th>0</th>\n      <td></td>\n      <td>Afghanistan</td>\n      <td>2020-01-22</td>\n      <td>0</td>\n      <td>0</td>\n      <td>0</td>\n      <td>0</td>\n    </tr>\n    <tr>\n      <th>1</th>\n      <td></td>\n      <td>Albania</td>\n      <td>2020-01-22</td>\n      <td>0</td>\n      <td>0</td>\n      <td>0</td>\n      <td>0</td>\n    </tr>\n    <tr>\n      <th>2</th>\n      <td></td>\n      <td>Algeria</td>\n      <td>2020-01-22</td>\n      <td>0</td>\n      <td>0</td>\n      <td>0</td>\n      <td>0</td>\n    </tr>\n    <tr>\n      <th>3</th>\n      <td></td>\n      <td>Andorra</td>\n      <td>2020-01-22</td>\n      <td>0</td>\n      <td>0</td>\n      <td>0</td>\n      <td>0</td>\n    </tr>\n    <tr>\n      <th>4</th>\n      <td></td>\n      <td>Angola</td>\n      <td>2020-01-22</td>\n      <td>0</td>\n      <td>0</td>\n      <td>0</td>\n      <td>0</td>\n    </tr>\n    <tr>\n      <th>...</th>\n      <td>...</td>\n      <td>...</td>\n      <td>...</td>\n      <td>...</td>\n      <td>...</td>\n      <td>...</td>\n      <td>...</td>\n    </tr>\n    <tr>\n      <th>36787</th>\n      <td></td>\n      <td>Sao Tome and Principe</td>\n      <td>2020-06-15</td>\n      <td>662</td>\n      <td>12</td>\n      <td>177</td>\n      <td>473</td>\n    </tr>\n    <tr>\n      <th>36788</th>\n      <td></td>\n      <td>Yemen</td>\n      <td>2020-06-15</td>\n      <td>844</td>\n      <td>208</td>\n      <td>79</td>\n      <td>557</td>\n    </tr>\n    <tr>\n      <th>36789</th>\n      <td></td>\n      <td>Comoros</td>\n      <td>2020-06-15</td>\n      <td>176</td>\n      <td>2</td>\n      <td>114</td>\n      <td>60</td>\n    </tr>\n    <tr>\n      <th>36790</th>\n      <td></td>\n      <td>Tajikistan</td>\n      <td>2020-06-15</td>\n      <td>5097</td>\n      <td>50</td>\n      <td>3503</td>\n      <td>1544</td>\n    </tr>\n    <tr>\n      <th>36791</th>\n      <td></td>\n      <td>Lesotho</td>\n      <td>2020-06-15</td>\n      <td>4</td>\n      <td>0</td>\n      <td>2</td>\n      <td>2</td>\n    </tr>\n  </tbody>\n</table>\n<p>36792 rows × 7 columns</p>\n</div>"
     },
     "metadata": {},
     "execution_count": 5
    }
   ],
   "source": [
    "# Active Case = confirmed - deaths - recovered\n",
    "full_table['Active'] = full_table['Confirmed'] - full_table['Deaths'] - full_table['Recovered']\n",
    "\n",
    "# replacing Mainland china with just China\n",
    "full_table['Country/Region'] = full_table['Country/Region'].replace('Mainland China', 'China')\n",
    "\n",
    "# filling missing values \n",
    "full_table[['Province/State']] = full_table[['Province/State']].fillna('')\n",
    "# full_table[cases] = full_table[cases].fillna(0)\n",
    "full_table"
   ]
  },
  {
   "cell_type": "code",
   "execution_count": 6,
   "metadata": {},
   "outputs": [
    {
     "output_type": "execute_result",
     "data": {
      "text/plain": "            Confirmed  Deaths  Recovered  Active\nDate                                            \n2020-06-06     169218    4669     135322   29227\n2020-06-07     170132    4692     137969   27471\n2020-06-08     171121    4711     141380   25030\n2020-06-09     172114    4729     144598   22787\n2020-06-10     173036    4746     146839   21451\n2020-06-11     174023    4763     147860   21400\n2020-06-12     175218    4778     149102   21338\n2020-06-13     176677    4792     150087   21798\n2020-06-14     178239    4807     151417   22015\n2020-06-15     179831    4825     152364   22642",
      "text/html": "<div>\n<style scoped>\n    .dataframe tbody tr th:only-of-type {\n        vertical-align: middle;\n    }\n\n    .dataframe tbody tr th {\n        vertical-align: top;\n    }\n\n    .dataframe thead th {\n        text-align: right;\n    }\n</style>\n<table border=\"1\" class=\"dataframe\">\n  <thead>\n    <tr style=\"text-align: right;\">\n      <th></th>\n      <th>Confirmed</th>\n      <th>Deaths</th>\n      <th>Recovered</th>\n      <th>Active</th>\n    </tr>\n    <tr>\n      <th>Date</th>\n      <th></th>\n      <th></th>\n      <th></th>\n      <th></th>\n    </tr>\n  </thead>\n  <tbody>\n    <tr>\n      <th>2020-06-06</th>\n      <td>169218</td>\n      <td>4669</td>\n      <td>135322</td>\n      <td>29227</td>\n    </tr>\n    <tr>\n      <th>2020-06-07</th>\n      <td>170132</td>\n      <td>4692</td>\n      <td>137969</td>\n      <td>27471</td>\n    </tr>\n    <tr>\n      <th>2020-06-08</th>\n      <td>171121</td>\n      <td>4711</td>\n      <td>141380</td>\n      <td>25030</td>\n    </tr>\n    <tr>\n      <th>2020-06-09</th>\n      <td>172114</td>\n      <td>4729</td>\n      <td>144598</td>\n      <td>22787</td>\n    </tr>\n    <tr>\n      <th>2020-06-10</th>\n      <td>173036</td>\n      <td>4746</td>\n      <td>146839</td>\n      <td>21451</td>\n    </tr>\n    <tr>\n      <th>2020-06-11</th>\n      <td>174023</td>\n      <td>4763</td>\n      <td>147860</td>\n      <td>21400</td>\n    </tr>\n    <tr>\n      <th>2020-06-12</th>\n      <td>175218</td>\n      <td>4778</td>\n      <td>149102</td>\n      <td>21338</td>\n    </tr>\n    <tr>\n      <th>2020-06-13</th>\n      <td>176677</td>\n      <td>4792</td>\n      <td>150087</td>\n      <td>21798</td>\n    </tr>\n    <tr>\n      <th>2020-06-14</th>\n      <td>178239</td>\n      <td>4807</td>\n      <td>151417</td>\n      <td>22015</td>\n    </tr>\n    <tr>\n      <th>2020-06-15</th>\n      <td>179831</td>\n      <td>4825</td>\n      <td>152364</td>\n      <td>22642</td>\n    </tr>\n  </tbody>\n</table>\n</div>"
     },
     "metadata": {},
     "execution_count": 6
    }
   ],
   "source": [
    "def get_time_series(country):\n",
    "    # for some countries, data is spread over several Provinces\n",
    "    if full_table[full_table['Country/Region'] == country]['Province/State'].nunique() > 1:\n",
    "        country_table = full_table[full_table['Country/Region'] == country]\n",
    "        country_df = pd.DataFrame(pd.pivot_table(country_table, values = ['Confirmed', 'Deaths', 'Recovered', 'Active'],\n",
    "                              index='Date', aggfunc=sum).to_records())\n",
    "        return country_df.set_index('Date')[['Confirmed', 'Deaths', 'Recovered', 'Active']]\n",
    "    df = full_table[(full_table['Country/Region'] == country) \n",
    "                & (full_table['Province/State'].isin(['', country]))]\n",
    "    return df.set_index('Date')[['Confirmed', 'Deaths', 'Recovered', 'Active']]\n",
    "\n",
    "\n",
    "def get_time_series_province(province):\n",
    "    # for some countries, data is spread over several Provinces\n",
    "    df = full_table[(full_table['Province/State'] == province)]\n",
    "    return df.set_index('Date')[['Confirmed', 'Deaths', 'Recovered', 'Active']]\n",
    "\n",
    "country = 'Turkey'\n",
    "df = get_time_series(country)\n",
    "if len(df) > 1 and df.iloc[-2,0] >= df.iloc[-1,0]:\n",
    "    df.drop(df.tail(1).index,inplace=True)\n",
    "df.tail(10)"
   ]
  },
  {
   "cell_type": "code",
   "execution_count": null,
   "metadata": {},
   "outputs": [],
   "source": []
  }
 ],
 "metadata": {
  "language_info": {
   "codemirror_mode": {
    "name": "ipython",
    "version": 3
   },
   "file_extension": ".py",
   "mimetype": "text/x-python",
   "name": "python",
   "nbconvert_exporter": "python",
   "pygments_lexer": "ipython3",
   "version": "3.8.3-final"
  },
  "orig_nbformat": 2,
  "kernelspec": {
   "name": "python38332bit4ed4a64d07b444ef843d8628821f8e98",
   "display_name": "Python 3.8.3 32-bit"
  }
 },
 "nbformat": 4,
 "nbformat_minor": 2
}