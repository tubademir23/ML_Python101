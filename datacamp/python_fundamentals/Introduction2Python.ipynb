{
 "metadata": {
  "language_info": {
   "codemirror_mode": {
    "name": "ipython",
    "version": 3
   },
   "file_extension": ".py",
   "mimetype": "text/x-python",
   "name": "python",
   "nbconvert_exporter": "python",
   "pygments_lexer": "ipython3",
   "version": "3.8.3-final"
  },
  "orig_nbformat": 2,
  "kernelspec": {
   "name": "python38332bit74facea1a310476ca0c9492d821273ec",
   "display_name": "Python 3.8.3 32-bit"
  }
 },
 "nbformat": 4,
 "nbformat_minor": 2,
 "cells": [
  {
   "cell_type": "markdown",
   "metadata": {},
   "source": [
    "**Question:Python is a pretty versatile language. For which applications can you use Python?**\n",
    "\n",
    "* You want to do some quick calculations.\n",
    "* For your new business, you want to develop a database-driven website.\n",
    "* Your boss asks you to clean and analyze the results of the latest satisfaction survey.\n",
    "* All of the above.\n",
    "\n",
    "_All of the above_"
   ]
  },
  {
   "cell_type": "code",
   "execution_count": 2,
   "metadata": {
    "tags": []
   },
   "outputs": [
    {
     "output_type": "stream",
     "name": "stdout",
     "text": "<class 'numpy.ndarray'>\n"
    }
   ],
   "source": [
    "# Create list baseball\n",
    "baseball = [180, 215, 210, 210, 188, 176, 209, 200]\n",
    "\n",
    "# Import the numpy package as np\n",
    "import numpy as np\n",
    "\n",
    "# Create a numpy array from baseball: np_baseball\n",
    "np_baseball= np.array(baseball)\n",
    "\n",
    "# Print out type of np_baseball\n",
    "print(type(np_baseball))"
   ]
  },
  {
   "cell_type": "code",
   "execution_count": 15,
   "metadata": {
    "tags": []
   },
   "outputs": [
    {
     "output_type": "stream",
     "name": "stdout",
     "text": "[74 74 72 ... 75 75 73]\n"
    }
   ],
   "source": [
    "import pandas as pd\n",
    "df=pd.read_csv('../datasets/baseball.csv', header=0)\n",
    "height_in=np.array(df.values[:,3])\n",
    "weight_lb=np.array(df.values[:,4])\n",
    "print(height_in)"
   ]
  },
  {
   "cell_type": "code",
   "execution_count": 16,
   "metadata": {
    "tags": []
   },
   "outputs": [
    {
     "output_type": "stream",
     "name": "stdout",
     "text": "[74 74 72 ... 75 75 73]\n[1.8796 1.8796 1.8288 ... 1.905 1.905 1.8541999999999998]\n"
    }
   ],
   "source": [
    "# height is available as a regular list\n",
    "\n",
    "# Import numpy\n",
    "import numpy as np\n",
    "\n",
    "# Create a numpy array from height_in: np_height_in\n",
    "np_height_in=np.array(height_in)\n",
    "\n",
    "# Print out np_height_in\n",
    "print(np_height_in)\n",
    "\n",
    "# Convert np_height_in to m: np_height_m\n",
    "m=0.0254\n",
    "np_height_m=np_height_in*m\n",
    "\n",
    "# Print np_height_m\n",
    "print(np_height_m)"
   ]
  },
  {
   "cell_type": "code",
   "execution_count": 17,
   "metadata": {
    "tags": []
   },
   "outputs": [
    {
     "output_type": "stream",
     "name": "stdout",
     "text": "[23.11037638875862 27.604060686572797 28.48080464679448 ...\n 25.62295933480756 23.74810865177286 25.726863613607133]\n"
    }
   ],
   "source": [
    "# height and weight are available as regular lists\n",
    "\n",
    "# Import numpy\n",
    "import numpy as np\n",
    "\n",
    "# Create array from height_in with metric units: np_height_m\n",
    "np_height_m = np.array(height_in) * 0.0254\n",
    "\n",
    "# Create array from weight_lb with metric units: np_weight_kg\n",
    "\n",
    "np_weight_kg=np.array(weight_lb) * 0.453592\n",
    "# Calculate the BMI: bmi\n",
    "bmi=np_weight_kg/np_height_m**2\n",
    "\n",
    "# Print out bmi\n",
    "print(bmi)"
   ]
  },
  {
   "cell_type": "code",
   "execution_count": 18,
   "metadata": {
    "tags": []
   },
   "outputs": [
    {
     "output_type": "stream",
     "name": "stdout",
     "text": "[23.11037638875862 27.604060686572797 28.48080464679448 ...\n 25.62295933480756 23.74810865177286 25.726863613607133]\n"
    }
   ],
   "source": [
    "# height and weight are available as regular lists\n",
    "\n",
    "# Import numpy\n",
    "import numpy as np\n",
    "\n",
    "# Create array from height_in with metric units: np_height_m\n",
    "np_height_m = np.array(height_in) * 0.0254\n",
    "\n",
    "# Create array from weight_lb with metric units: np_weight_kg\n",
    "\n",
    "np_weight_kg=np.array(weight_lb) * 0.453592\n",
    "# Calculate the BMI: bmi\n",
    "bmi=np_weight_kg/np_height_m**2\n",
    "\n",
    "# Print out bmi\n",
    "print(bmi)"
   ]
  },
  {
   "cell_type": "code",
   "execution_count": 19,
   "metadata": {
    "tags": []
   },
   "outputs": [
    {
     "output_type": "stream",
     "name": "stdout",
     "text": "[False False False ... False False False]\n[20.542556790007662 20.542556790007662 20.69282047151352 20.69282047151352\n 20.343431890567484 20.343431890567484 20.69282047151352\n 20.158834718074228 19.498447103560874 20.69282047151352 20.92052190452328]\n"
    }
   ],
   "source": [
    "# height and weight are available as a regular lists\n",
    "\n",
    "# Import numpy\n",
    "import numpy as np\n",
    "\n",
    "# Calculate the BMI: bmi\n",
    "np_height_m = np.array(height_in) * 0.0254\n",
    "np_weight_kg = np.array(weight_lb) * 0.453592\n",
    "bmi = np_weight_kg / np_height_m ** 2\n",
    "\n",
    "# Create the light array\n",
    "light=bmi<21\n",
    "\n",
    "# Print out light\n",
    "print(light)\n",
    "\n",
    "# Print out BMIs of all baseball players whose BMI is below 21\n",
    "print(bmi[bmi<21])"
   ]
  },
  {
   "cell_type": "code",
   "execution_count": 20,
   "metadata": {
    "tags": []
   },
   "outputs": [
    {
     "output_type": "stream",
     "name": "stdout",
     "text": "200\n[73 74 72 73 69 72 73 75 75 73 72]\n"
    }
   ],
   "source": [
    "# height and weight are available as a regular lists\n",
    "\n",
    "# Import numpy\n",
    "import numpy as np\n",
    "\n",
    "# Store weight and height lists as numpy arrays\n",
    "np_weight_lb = np.array(weight_lb)\n",
    "np_height_in = np.array(height_in)\n",
    "\n",
    "# Print out the weight at index 50\n",
    "print(np_weight_lb[50])\n",
    "\n",
    "# Print out sub-array of np_height_in: index 100 up to and including index 110\n",
    "np_height_in_sub=np_height_in[100:111]\n",
    "print(np_height_in_sub)"
   ]
  },
  {
   "cell_type": "markdown",
   "metadata": {},
   "source": [
    "# 2D Numpy Arrays"
   ]
  },
  {
   "cell_type": "code",
   "execution_count": 21,
   "metadata": {
    "tags": []
   },
   "outputs": [
    {
     "output_type": "stream",
     "name": "stdout",
     "text": "<class 'numpy.ndarray'>\n(4, 2)\n"
    }
   ],
   "source": [
    "# Create baseball, a list of lists\n",
    "baseball = [[180, 78.4],\n",
    "            [215, 102.7],\n",
    "            [210, 98.5],\n",
    "            [188, 75.2]]\n",
    "\n",
    "# Import numpy\n",
    "import numpy as np\n",
    "\n",
    "# Create a 2D numpy array from baseball: np_baseball\n",
    "np_baseball=np.array(baseball)\n",
    "\n",
    "# Print out the type of np_baseball\n",
    "print(type(np_baseball))\n",
    "\n",
    "# Print out the shape of np_baseball\n",
    "print(np_baseball.shape)"
   ]
  },
  {
   "cell_type": "code",
   "execution_count": 22,
   "metadata": {
    "tags": []
   },
   "outputs": [
    {
     "output_type": "stream",
     "name": "stdout",
     "text": "(4, 2)\n"
    }
   ],
   "source": [
    "# baseball is available as a regular list of lists\n",
    "\n",
    "# Import numpy package\n",
    "import numpy as np\n",
    "\n",
    "# Create a 2D numpy array from baseball: np_baseball\n",
    "np_baseball=np.array(baseball)\n",
    "\n",
    "# Print out the shape of np_baseball\n",
    "print(np_baseball.shape)"
   ]
  },
  {
   "cell_type": "code",
   "execution_count": 26,
   "metadata": {
    "tags": []
   },
   "outputs": [
    {
     "output_type": "stream",
     "name": "stdout",
     "text": "(1015, 2)\n[70 195]\n[180 215 210 ... 205 190 195]\n75\n"
    }
   ],
   "source": [
    "# baseball is available as a regular list of lists\n",
    "# baseball = [[180, 78.4],\n",
    "#            [215, 102.7],\n",
    "#            [210, 98.5],\n",
    "#            [188, 75.2]]\n",
    "# Import numpy package\n",
    "import numpy as np\n",
    "baseball=list(df.values[:,[3,4]])\n",
    "# Create np_baseball (2 cols)\n",
    "np_baseball = np.array(baseball)\n",
    "print(np_baseball.shape)\n",
    "# Print out the 50th row of np_baseball\n",
    "print(np_baseball[49])\n",
    "\n",
    "# Select the entire second column of np_baseball: np_weight_lb\n",
    "np_weight_lb=np_baseball[:,1]\n",
    "print(np_weight_lb)\n",
    "# Print out height of 124th player\n",
    "print(np_baseball[123,0])"
   ]
  },
  {
   "cell_type": "markdown",
   "metadata": {},
   "source": [
    "_update array is individiual for going on exercies _"
   ]
  },
  {
   "cell_type": "code",
   "execution_count": 43,
   "metadata": {
    "tags": []
   },
   "outputs": [
    {
     "output_type": "stream",
     "name": "stdout",
     "text": "(1015, 3)\n(0, 1015, 3)\n[]\n[[1.8796 81.64656 22.99]\n [1.8796 97.52228 34.69]\n [1.8288 95.25431999999999 30.78]\n ...\n [1.905 92.98636 25.19]\n [1.905 86.18248 31.01]\n [1.8541999999999998 88.45044 27.92]]\n"
    }
   ],
   "source": [
    "# baseball is available as a regular list of lists\n",
    "# updated is available as 2D numpy array\n",
    "\n",
    "# Import numpy package\n",
    "import numpy as np\n",
    "\n",
    "# Create np_baseball (3 cols)\n",
    "np_baseball =np.array( df.values[:,[3,4,5]])\n",
    "\n",
    "print(np_baseball.shape)\n",
    "updated=np_baseball*np.random.rand(0,1,3)\n",
    "print(updated.shape)\n",
    "# Print out addition of np_baseball and updated\n",
    "print(np_baseball+updated)\n",
    "# Create numpy array: conversion\n",
    "conversion=np.array([0.0254, 0.453592,1])\n",
    "\n",
    "# Print out product of np_baseball and conversion\n",
    "result=np_baseball*conversion\n",
    "print(result)"
   ]
  },
  {
   "cell_type": "code",
   "execution_count": 44,
   "metadata": {
    "tags": []
   },
   "outputs": [
    {
     "output_type": "stream",
     "name": "stdout",
     "text": "73.6896551724138\n74.0\n"
    }
   ],
   "source": [
    "# np_baseball is available\n",
    "\n",
    "# Import numpy\n",
    "import numpy as np\n",
    "\n",
    "# Create np_height_in from np_baseball\n",
    "np_height_in=np.array(np_baseball[:,0])\n",
    "\n",
    "# Print out the mean of np_height_in\n",
    "print(np.mean(np_height_in))\n",
    "\n",
    "# Print out the median of np_height_in\n",
    "print(np.median(np_height_in))"
   ]
  },
  {
   "cell_type": "code",
   "execution_count": 49,
   "metadata": {
    "tags": []
   },
   "outputs": [
    {
     "output_type": "stream",
     "name": "stdout",
     "text": "Average: 73.6896551724138\nMedian: 74.0\nStandard Deviation: 2.312791881046546\nCorrelation: [[1.         0.53153932]\n [0.53153932 1.        ]]\n"
    }
   ],
   "source": [
    "# np_baseball is available\n",
    "\n",
    "# Import numpy\n",
    "import numpy as np\n",
    "\n",
    "np_baseball=np.array(np_baseball, dtype=float)\n",
    "# Print mean height (first column)\n",
    "avg = np.mean(np_baseball[:,0])\n",
    "print(\"Average: \" + str(avg))\n",
    "\n",
    "# Print median height. Replace 'None'\n",
    "med = np.median(np_baseball[:,0])\n",
    "print(\"Median: \" + str(med))\n",
    "\n",
    "# Print out the standard deviation on height. Replace 'None'\n",
    "stddev = np.std(np_baseball[:,0])\n",
    "print(\"Standard Deviation: \" + str(stddev))\n",
    "\n",
    "# Print out correlation between first and second column. Replace 'None'\n",
    "corr = np.corrcoef(np_baseball[:,0],np_baseball[:,1]) \n",
    "print(\"Correlation: \" + str(corr))"
   ]
  },
  {
   "cell_type": "markdown",
   "metadata": {},
   "source": [
    "* take positions and height from fifa.csv"
   ]
  },
  {
   "cell_type": "code",
   "execution_count": 54,
   "metadata": {},
   "outputs": [],
   "source": [
    "import pandas as pd\n",
    "df=pd.read_csv('../datasets/fifa.csv', header=0)\n",
    "positions=(df.values[:,3])\n",
    "heights=(df.values[:,4])"
   ]
  },
  {
   "cell_type": "code",
   "execution_count": 64,
   "metadata": {
    "tags": []
   },
   "outputs": [
    {
     "output_type": "stream",
     "name": "stdout",
     "text": "[191 193 190 185 188 187 189 196 190 189 188 189 188 188 190 193 181 191\n 193 190 183 183 193 193 196 184 190 186 195 191 187 185 186 185 186 190\n 185 185 187 188 188 186 187 193 183 185 190 186 182 191 194 191 194 188\n 185 189 187 188 184 176 187 186 191 188 191 192 190 188 189 184 180 191\n 197 189 185 191 190 190 185 186 186 189 193 182 189 188 190 191 183 189\n 189 190 188 184 194 188 194 193 186 186 188 187 191 192 196 187 187 187\n 192 184 189 184 185 187 202 190 185 182 188 188 195 187 183 197 188 190\n 193 191 187 184 183 185 193 180 191 185 188 188 186 188 188 184 186 189\n 193 194 183 178 184 190 183 184 188 194 190 183 194 188 180 173 187 183\n 184 193 188 183 190 191 199 186 198 188 189 189 185 193 191 188 185 185\n 188 190 180 188 184 187 183 181 179 185 182 188 188 184 196 192 187 187\n 193 190 189 194 188 185 193 185 193 187 196 194 198 196 188 188 195 186\n 190 191 188 187 188 192 199 185 190 185 188 196 188 196 185 185 188 188\n 179 187 190 185 198 193 193 188 188 180 183 185 185 186 186 180 184 188\n 185 186 183 188 193 185 181 186 189 193 188 188 193 198 182 185 181 186\n 188 198 190 183 184 188 191 177 193 189 187 187 193 179 184 186 190 188\n 191 189 197 190 180 196 193 186 189 187 185 187 178 184 187 178 196 189\n 188 182 183 188 191 197 187 191 193 191 185 184 193 184 196 194 193 189\n 186 187 193 188 185 188 183 188 189 197 183 193 190 180 185 181 179 194\n 187 185 186 185 191 193 191 187 193 185 191 190 188 192 180 186 183 188\n 191 186 186 186 186 192 190 180 183 185 184 188 184 193 190 180 187 187\n 185 180 188 188 195 182 191 182 195 186 192 191 188 181 182 198 185 189\n 198 185 192 188 185 193 184 193 185 196 188 188 185 185 185 188 196 190\n 189 180 191 183 201 190 178 182 190 196 188 190 192 185 192 193 193 191\n 180 188 183 188 183 194 185 187 184 184 196 188 186 182 195 185 183 183\n 189 185 183 183 193 188 187 185 185 179 183 187 183 185 189 189 180 184\n 185 199 192 184 183 182 187 191 190 192 190 190 186 186 186 190 181 202\n 195 185 191 183 184 184 189 194 188 185 194 186 188 193 193 194 185 193\n 185 191 197 186 185 185 185 187 183 188 185 188 190 187 191 191 192 184\n 194 181 189 186 190 187 187 194 184 184 193 186 189 193 188 189 193 192\n 190 190 188 190 191 185 184 197 188 183 191 184 194 193 187 185 189 197\n 194 190 195 191 187 190 185 208 192 192 185 188 195 188 194 184 185 191\n 183 193 191 185 185 192 186 196 181 193 188 190 188 189 186 185 188 193\n 195 196 192 180 187 199 197 189 183 181 191 188 185 202 186 189 190 188\n 188 193 187 187 193 192 186 186 196 195 189 190 186 193 188 183 183 188\n 192 188 192 191 191 183 193 193 192 189 190 198 193 182 185 185 190 192\n 185 187 190 187 184 195 194 197 187 186 189 173 190 188 203 185 194 186\n 175 196 180 184 192 191 185 191 196 188 187 196 191 188 182 193 185 183\n 192 197 181 180 191 187 185 187 187 190 191 194 190 191 191 191 181 188\n 196 183 193 182 186 190 189 185 180 188 193 180 185 197 178 183 191 191\n 187 184 193 191 188 180 177 187 178 187 180 189 189 186 198 182 187 187\n 185 189 195 182 198 182 190 192 180 186 184 185 190 197 190 185 193 187\n 197 185 189 193 185 178 188 185 188 185 185 190 179 187 193 188 181 181\n 183 196 187 188 185 191 180 191 185 196 188 194 191 196 193 194 185 186\n 185 189 194 193 180 192 187 197 189 185 185 183 193 193 183 189 186 189\n 187 199 184 180 199 184 184 187 197 188 187 188 188 191 188 195 185 191\n 186 190 187 185 188 188 196 190 185 189 195 184 198 185 185 183 185 186\n 193 190 191 187 174 184 190 188 190 193 186 196 183 186 187 184 186 184\n 188 177 196 193 193 191 188 188 188 196 188 196 194 191 191 194 180 193\n 185 187 193 185 182 189 188 193 193 190 185 193 183 180 191 181 190 183\n 193 191 188 193 185 183 185 188 186 182 185 188 188 191 188 185 194 189\n 191 191 192 187 188 192 191 191 184 182 194 196]\n[184 185 180 ... 183 179 179]\nMedian height of goalkeepers: 188.0\nMedian height of other players: 181.0\n"
    }
   ],
   "source": [
    "# heights and positions are available as lists\n",
    "\n",
    "# Import numpy\n",
    "import numpy as np\n",
    "\n",
    "# Convert positions and heights to numpy arrays: np_positions, np_heights\n",
    "np_positions=np.char.strip(np.array(positions, dtype='str'))\n",
    "\n",
    "# Heights of the goalkeepers: gk_heights\n",
    "gk_heights=np_heights[np_positions=='GK']\n",
    "print(gk_heights)\n",
    "# Heights of the other players: other_heights\n",
    "other_heights=np_heights[np_positions!='GK']\n",
    "print(other_heights)\n",
    "# Print out the median height of goalkeepers. Replace 'None'\n",
    "print(\"Median height of goalkeepers: \" + str(np.median(gk_heights)))\n",
    "\n",
    "# Print out the median height of other players. Replace 'None'\n",
    "print(\"Median height of other players: \" + str(np.median(other_heights)))"
   ]
  },
  {
   "cell_type": "code",
   "execution_count": null,
   "metadata": {},
   "outputs": [],
   "source": []
  }
 ]
}