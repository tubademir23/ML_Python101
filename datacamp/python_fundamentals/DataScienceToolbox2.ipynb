{
 "metadata": {
  "language_info": {
   "codemirror_mode": {
    "name": "ipython",
    "version": 3
   },
   "file_extension": ".py",
   "mimetype": "text/x-python",
   "name": "python",
   "nbconvert_exporter": "python",
   "pygments_lexer": "ipython3",
   "version": "3.8.3-final"
  },
  "orig_nbformat": 2,
  "kernelspec": {
   "name": "python_defaultSpec_1600769955091",
   "display_name": "Python 3.8.3 32-bit"
  }
 },
 "nbformat": 4,
 "nbformat_minor": 2,
 "cells": [
  {
   "cell_type": "markdown",
   "metadata": {},
   "source": [
    "## Chapter 1: Using iterators in PythonLand"
   ]
  },
  {
   "cell_type": "code",
   "execution_count": 1,
   "metadata": {
    "tags": []
   },
   "outputs": [
    {
     "output_type": "stream",
     "name": "stdout",
     "text": "<class 'list'> <class 'list_iterator'>\n"
    }
   ],
   "source": [
    "# Note: flash1 is an iterable and flash2 is an iterator.\n",
    "flash1= ['jay garrick', 'barry allen', 'wally west', 'bart allen']\n",
    "flash2=iter(flash1)\n",
    "print(type(flash1), type(flash2))"
   ]
  },
  {
   "cell_type": "code",
   "execution_count": 2,
   "metadata": {
    "tags": []
   },
   "outputs": [
    {
     "output_type": "stream",
     "name": "stdout",
     "text": "jay garrick\nbarry allen\nwally west\nbart allen\njay garrick\nbarry allen\nwally west\nbart allen\n"
    }
   ],
   "source": [
    "# Create a list of strings: flash\n",
    "flash = ['jay garrick', 'barry allen', 'wally west', 'bart allen']\n",
    "\n",
    "# Print each list item in flash using a for loop\n",
    "for person in flash:\n",
    "    print(person)\n",
    "\n",
    "\n",
    "# Create an iterator for flash: superhero\n",
    "superhero=iter(flash)\n",
    "\n",
    "# Print each item from the iterator\n",
    "print(next(superhero))\n",
    "print(next(superhero))\n",
    "print(next(superhero))\n",
    "print(next(superhero))\n"
   ]
  },
  {
   "cell_type": "code",
   "execution_count": 3,
   "metadata": {
    "tags": []
   },
   "outputs": [
    {
     "output_type": "stream",
     "name": "stdout",
     "text": "0\n1\n2\n0\n1\n2\n0\n1\n2\n3\n4\n"
    }
   ],
   "source": [
    "# Create an iterator for range(3): small_value\n",
    "small_value = iter(range(3))\n",
    "\n",
    "# Print the values in small_value\n",
    "print(next(small_value))\n",
    "print(next(small_value))\n",
    "print(next(small_value))\n",
    "\n",
    "# Loop over range(3) and print the values\n",
    "for num in range(3):\n",
    "    print(num)\n",
    "\n",
    "# Create an iterator for range(10 ** 100): googol\n",
    "googol = iter(range(10 ** 100))\n",
    "\n",
    "# Print the first 5 values from googol\n",
    "print(next(googol))\n",
    "print(next(googol))\n",
    "print(next(googol))\n",
    "print(next(googol))\n",
    "print(next(googol))\n"
   ]
  },
  {
   "cell_type": "code",
   "execution_count": 4,
   "metadata": {
    "tags": []
   },
   "outputs": [
    {
     "output_type": "stream",
     "name": "stdout",
     "text": "range(10, 21)\n[10, 11, 12, 13, 14, 15, 16, 17, 18, 19, 20]\n165\n"
    }
   ],
   "source": [
    "# Create a range object: values\n",
    "values = (range(10,21))\n",
    "\n",
    "# Print the range object\n",
    "print(values)\n",
    "\n",
    "# Create a list of integers: values_list\n",
    "values_list = list(values)\n",
    "\n",
    "# Print values_list\n",
    "print(values_list)\n",
    "\n",
    "# Get the sum of values: values_sum\n",
    "values_sum = sum(values)\n",
    "\n",
    "# Print values_sum\n",
    "print(values_sum)\n"
   ]
  },
  {
   "cell_type": "code",
   "execution_count": 5,
   "metadata": {
    "tags": []
   },
   "outputs": [
    {
     "output_type": "stream",
     "name": "stdout",
     "text": "[(0, 'charles xavier'), (1, 'bobby drake'), (2, 'kurt wagner'), (3, 'max eisenhardt'), (4, 'kitty pryde')]\n0 charles xavier\n1 bobby drake\n2 kurt wagner\n3 max eisenhardt\n4 kitty pryde\n1 charles xavier\n2 bobby drake\n3 kurt wagner\n4 max eisenhardt\n5 kitty pryde\n"
    }
   ],
   "source": [
    "# Create a list of strings: mutants\n",
    "mutants = ['charles xavier', \n",
    "            'bobby drake', \n",
    "            'kurt wagner', \n",
    "            'max eisenhardt', \n",
    "            'kitty pryde']\n",
    "\n",
    "# Create a list of tuples: mutant_list\n",
    "mutant_list =list(enumerate(mutants))\n",
    "\n",
    "# Print the list of tuples\n",
    "print(mutant_list)\n",
    "\n",
    "# Unpack and print the tuple pairs\n",
    "for index1, value1 in list(enumerate(mutants)):\n",
    "    print(index1, value1)\n",
    "\n",
    "# Change the start index\n",
    "for index2, value2 in enumerate(mutants, start=1):\n",
    "    print(index2, value2)\n"
   ]
  },
  {
   "cell_type": "code",
   "execution_count": 6,
   "metadata": {},
   "outputs": [],
   "source": [
    "aliases=['prof x', 'iceman', 'nightcrawler', 'magneto', 'shadowcat'] \n",
    "powers= ['telepathy', 'thermokinesis', 'teleportation', 'magnetokinesis', 'intangibility']"
   ]
  },
  {
   "cell_type": "code",
   "execution_count": 7,
   "metadata": {
    "tags": []
   },
   "outputs": [
    {
     "output_type": "stream",
     "name": "stdout",
     "text": "[('charles xavier', 'prof x', 'telepathy'), ('bobby drake', 'iceman', 'thermokinesis'), ('kurt wagner', 'nightcrawler', 'teleportation'), ('max eisenhardt', 'magneto', 'magnetokinesis'), ('kitty pryde', 'shadowcat', 'intangibility')]\n<zip object at 0x056E9DE8>\ncharles xavier prof x telepathy\nbobby drake iceman thermokinesis\nkurt wagner nightcrawler teleportation\nmax eisenhardt magneto magnetokinesis\nkitty pryde shadowcat intangibility\n"
    }
   ],
   "source": [
    "# Create a list of tuples: mutant_data\n",
    "mutant_data = list(zip(mutants, aliases, powers))\n",
    "\n",
    "# Print the list of tuples\n",
    "print(mutant_data)\n",
    "\n",
    "# Create a zip object using the three lists: mutant_zip\n",
    "mutant_zip = zip(mutants, aliases, powers)\n",
    "\n",
    "# Print the zip object\n",
    "print(mutant_zip)\n",
    "\n",
    "# Unpack the zip object and print the tuple values\n",
    "for value1, value2, value3 in mutant_zip:\n",
    "    print(value1, value2, value3)"
   ]
  },
  {
   "cell_type": "code",
   "execution_count": 8,
   "metadata": {
    "tags": []
   },
   "outputs": [
    {
     "output_type": "stream",
     "name": "stdout",
     "text": "('charles xavier', 'telepathy') ('bobby drake', 'thermokinesis') ('kurt wagner', 'teleportation') ('max eisenhardt', 'magnetokinesis') ('kitty pryde', 'intangibility')\nFalse\nFalse\n"
    }
   ],
   "source": [
    "# Create a zip object from mutants and powers: z1\n",
    "z1 = zip(mutants, powers)\n",
    "\n",
    "# Print the tuples in z1 by unpacking with *\n",
    "print(*z1)\n",
    "\n",
    "# Re-create a zip object from mutants and powers: z1\n",
    "z1 = zip(mutants, powers)\n",
    "\n",
    "# 'Unzip' the tuples in z1 by unpacking with * and zip(): result1, result2\n",
    "result1, result2 = zip(*z1)\n",
    "\n",
    "# Check if unpacked tuples are equivalent to original tuples\n",
    "print(result1 == mutants)\n",
    "print(result2 == powers)\n"
   ]
  },
  {
   "cell_type": "code",
   "execution_count": 9,
   "metadata": {
    "tags": []
   },
   "outputs": [
    {
     "output_type": "stream",
     "name": "stdout",
     "text": "{'en': 97, 'et': 1, 'und': 2}\n"
    }
   ],
   "source": [
    "import pandas as pd\n",
    "# Initialize an empty dictionary: counts_dict\n",
    "counts_dict={}\n",
    "\n",
    "# Iterate over the file chunk by chunk\n",
    "for chunk in pd.read_csv('../datasets/tweets.csv', chunksize=10):\n",
    "\n",
    "    # Iterate over the column in DataFrame\n",
    "    for entry in chunk.lang:\n",
    "        if entry in counts_dict.keys():\n",
    "            counts_dict[entry] += 1\n",
    "        else:\n",
    "            counts_dict[entry] = 1\n",
    "\n",
    "# Print the populated dictionary\n",
    "print(counts_dict)\n"
   ]
  },
  {
   "cell_type": "code",
   "execution_count": 10,
   "metadata": {
    "tags": []
   },
   "outputs": [
    {
     "output_type": "stream",
     "name": "stdout",
     "text": "{'en': 97, 'et': 1, 'und': 2}\n"
    }
   ],
   "source": [
    "# Define count_entries()\n",
    "def count_entries(csv_file, c_size, colname):\n",
    "    \"\"\"Return a dictionary with counts of\n",
    "    occurrences as value for each key.\"\"\"\n",
    "    \n",
    "    # Initialize an empty dictionary: counts_dict\n",
    "    counts_dict = {}\n",
    "\n",
    "    # Iterate over the file chunk by chunk\n",
    "    for chunk in pd.read_csv(csv_file, chunksize=c_size):\n",
    "\n",
    "        # Iterate over the column in DataFrame\n",
    "        for entry in chunk[colname]:\n",
    "            if entry in counts_dict.keys():\n",
    "                counts_dict[entry] += 1\n",
    "            else:\n",
    "                counts_dict[entry] = 1\n",
    "\n",
    "    # Return counts_dict\n",
    "    return counts_dict\n",
    "\n",
    "# Call count_entries(): result_counts\n",
    "result_counts = count_entries('../datasets/tweets.csv', 10, 'lang')\n",
    "\n",
    "# Print result_counts\n",
    "print(result_counts)\n"
   ]
  },
  {
   "cell_type": "markdown",
   "metadata": {},
   "source": [
    "## Chapter 2:List comprehensions and generators"
   ]
  },
  {
   "cell_type": "code",
   "execution_count": 11,
   "metadata": {
    "tags": []
   },
   "outputs": [],
   "source": [
    "doctor = ['house', 'cuddy', 'chase', 'thirteen', 'wilson']\n",
    "#How would a list comprehension that produces a list of the first character of each string in doctor look like? Note that the list comprehension uses doc as the iterator variable. What will the output be?\n",
    "#The list comprehension is [doc[0] for doc in doctor] and produces the list ['h', 'c', 'c', 't', 'w']"
   ]
  },
  {
   "cell_type": "code",
   "execution_count": 12,
   "metadata": {},
   "outputs": [],
   "source": [
    "# Create list comprehension: squares\n",
    "squares = [i**2 for i in range(0,10)]\n"
   ]
  },
  {
   "cell_type": "code",
   "execution_count": 13,
   "metadata": {
    "tags": []
   },
   "outputs": [
    {
     "output_type": "stream",
     "name": "stdout",
     "text": "[0, 1, 2, 3, 4]\n[0, 1, 2, 3, 4]\n[0, 1, 2, 3, 4]\n[0, 1, 2, 3, 4]\n[0, 1, 2, 3, 4]\n"
    }
   ],
   "source": [
    "# Create a 5 x 5 matrix using a list of lists: matrix\n",
    "matrix = [[col for col in range(5)] for row in range(5)]\n",
    "\n",
    "# Print the matrix\n",
    "for row in matrix:\n",
    "    print(row)\n"
   ]
  },
  {
   "cell_type": "code",
   "execution_count": 14,
   "metadata": {
    "tags": []
   },
   "outputs": [
    {
     "output_type": "stream",
     "name": "stdout",
     "text": "['samwise', 'aragorn', 'legolas', 'boromir']\n"
    }
   ],
   "source": [
    "# Create a list of strings: fellowship\n",
    "fellowship = ['frodo', 'samwise', 'merry', 'aragorn', 'legolas', 'boromir', 'gimli']\n",
    "\n",
    "# Create list comprehension: new_fellowship\n",
    "new_fellowship = [x for x in fellowship if len(x)>=7]\n",
    "\n",
    "# Print the new list\n",
    "print(new_fellowship)\n"
   ]
  },
  {
   "cell_type": "code",
   "execution_count": 15,
   "metadata": {
    "tags": []
   },
   "outputs": [
    {
     "output_type": "stream",
     "name": "stdout",
     "text": "['', 'samwise', '', 'aragorn', 'legolas', 'boromir', '']\n"
    }
   ],
   "source": [
    "# Create a list of strings: fellowship\n",
    "fellowship = ['frodo', 'samwise', 'merry', 'aragorn', 'legolas', 'boromir', 'gimli']\n",
    "\n",
    "# Create list comprehension: new_fellowship\n",
    "new_fellowship = [x if len(x) >=7 else '' for x in fellowship]\n",
    "\n",
    "# Print the new list\n",
    "print(new_fellowship)\n"
   ]
  },
  {
   "cell_type": "code",
   "execution_count": 16,
   "metadata": {
    "tags": []
   },
   "outputs": [
    {
     "output_type": "stream",
     "name": "stdout",
     "text": "{'frodo': 5, 'samwise': 7, 'merry': 5, 'aragorn': 7, 'legolas': 7, 'boromir': 7, 'gimli': 5}\n"
    }
   ],
   "source": [
    "# Create a list of strings: fellowship\n",
    "fellowship = ['frodo', 'samwise', 'merry', 'aragorn', 'legolas', 'boromir', 'gimli']\n",
    "\n",
    "# Create dict comprehension: new_fellowship\n",
    "new_fellowship = { x: len(x) for x in fellowship}\n",
    "\n",
    "# Print the new dictionary\n",
    "print(new_fellowship)\n"
   ]
  },
  {
   "cell_type": "code",
   "execution_count": 17,
   "metadata": {},
   "outputs": [],
   "source": [
    "# List of strings\n",
    "fellowship = ['frodo', 'samwise', 'merry', 'aragorn', 'legolas', 'boromir', 'gimli']\n",
    "\n",
    "# List comprehension\n",
    "fellow1 = [member for member in fellowship if len(member) >= 7]\n",
    "\n",
    "# Generator expression\n",
    "fellow2 = (member for member in fellowship if len(member) >= 7)"
   ]
  },
  {
   "cell_type": "markdown",
   "metadata": {},
   "source": [
    "* Q: Based on your observations and what you can recall from the video, select from the options below the best description for the difference between list comprehensions and generators.\n",
    "* A: A list comprehension produces a list as output, a generator produces a generator object."
   ]
  },
  {
   "cell_type": "code",
   "execution_count": 18,
   "metadata": {
    "tags": []
   },
   "outputs": [
    {
     "output_type": "stream",
     "name": "stdout",
     "text": "0\n1\n2\n3\n4\n5\n6\n7\n8\n9\n10\n11\n12\n13\n14\n15\n16\n17\n18\n19\n20\n21\n22\n23\n24\n25\n26\n27\n28\n29\n30\n"
    }
   ],
   "source": [
    "# Create generator object: result\n",
    "result = (num for num in range(31))\n",
    "\n",
    "# Print the first 5 values\n",
    "print(next(result))\n",
    "print(next(result))\n",
    "print(next(result))\n",
    "print(next(result))\n",
    "print(next(result))\n",
    "\n",
    "# Print the rest of the values\n",
    "for value in result:\n",
    "    print(value)\n"
   ]
  },
  {
   "cell_type": "code",
   "execution_count": 19,
   "metadata": {
    "tags": []
   },
   "outputs": [
    {
     "output_type": "stream",
     "name": "stdout",
     "text": "6\n5\n5\n6\n7\n"
    }
   ],
   "source": [
    "# Create a list of strings: lannister\n",
    "lannister = ['cersei', 'jaime', 'tywin', 'tyrion', 'joffrey']\n",
    "\n",
    "# Create a generator object: lengths\n",
    "lengths = (len(person) for person in lannister)\n",
    "\n",
    "# Iterate over and print the values in lengths\n",
    "for value in lengths:\n",
    "    print(value)\n"
   ]
  },
  {
   "cell_type": "code",
   "execution_count": 20,
   "metadata": {
    "tags": []
   },
   "outputs": [
    {
     "output_type": "stream",
     "name": "stdout",
     "text": "6\ncersei\n5\njaime\n5\ntywin\n6\ntyrion\n7\njoffrey\n"
    }
   ],
   "source": [
    "# Create a list of strings\n",
    "lannister = ['cersei', 'jaime', 'tywin', 'tyrion', 'joffrey']\n",
    "\n",
    "# Define generator function get_lengths\n",
    "def get_lengths(input_list):\n",
    "    \"\"\"Generator function that yields the\n",
    "    length of the strings in input_list.\"\"\"\n",
    "\n",
    "    # Yield the length of a string\n",
    "    for person in input_list:\n",
    "        yield len(person)\n",
    "        print(person)\n",
    "\n",
    "# Print the values generated by get_lengths()\n",
    "for value in get_lengths(lannister):\n",
    "    print(value)"
   ]
  },
  {
   "cell_type": "code",
   "execution_count": 21,
   "metadata": {},
   "outputs": [],
   "source": [
    "df= pd.read_csv('../datasets/tweets.csv')"
   ]
  },
  {
   "cell_type": "code",
   "execution_count": 22,
   "metadata": {
    "tags": []
   },
   "outputs": [
    {
     "output_type": "stream",
     "name": "stdout",
     "text": "['23:40:17', '23:40:17', '23:40:17', '23:40:17', '23:40:17', '23:40:17', '23:40:18', '23:40:17', '23:40:18', '23:40:18', '23:40:18', '23:40:17', '23:40:18', '23:40:18', '23:40:17', '23:40:18', '23:40:18', '23:40:17', '23:40:18', '23:40:17', '23:40:18', '23:40:18', '23:40:18', '23:40:18', '23:40:17', '23:40:18', '23:40:18', '23:40:17', '23:40:18', '23:40:18', '23:40:18', '23:40:18', '23:40:18', '23:40:18', '23:40:18', '23:40:18', '23:40:18', '23:40:18', '23:40:18', '23:40:18', '23:40:18', '23:40:18', '23:40:18', '23:40:18', '23:40:18', '23:40:18', '23:40:18', '23:40:18', '23:40:18', '23:40:18', '23:40:18', '23:40:18', '23:40:18', '23:40:18', '23:40:18', '23:40:18', '23:40:18', '23:40:18', '23:40:18', '23:40:18', '23:40:19', '23:40:18', '23:40:18', '23:40:18', '23:40:19', '23:40:19', '23:40:19', '23:40:18', '23:40:19', '23:40:19', '23:40:19', '23:40:18', '23:40:19', '23:40:19', '23:40:19', '23:40:18', '23:40:19', '23:40:19', '23:40:19', '23:40:19', '23:40:19', '23:40:19', '23:40:19', '23:40:19', '23:40:19', '23:40:19', '23:40:19', '23:40:19', '23:40:19', '23:40:19', '23:40:19', '23:40:19', '23:40:19', '23:40:19', '23:40:19', '23:40:19', '23:40:19', '23:40:19', '23:40:19', '23:40:19']\n"
    }
   ],
   "source": [
    "# Extract the created_at column from df: tweet_time\n",
    "tweet_time = df.created_at\n",
    "\n",
    "# Extract the clock time: tweet_clock_time\n",
    "tweet_clock_time = [entry[11:19] for entry in tweet_time]\n",
    "\n",
    "# Print the extracted times\n",
    "print(tweet_clock_time)\n"
   ]
  },
  {
   "cell_type": "code",
   "execution_count": 23,
   "metadata": {
    "tags": []
   },
   "outputs": [
    {
     "output_type": "stream",
     "name": "stdout",
     "text": "['23:40:19', '23:40:19', '23:40:19', '23:40:19', '23:40:19', '23:40:19', '23:40:19', '23:40:19', '23:40:19', '23:40:19', '23:40:19', '23:40:19', '23:40:19', '23:40:19', '23:40:19', '23:40:19', '23:40:19', '23:40:19', '23:40:19', '23:40:19', '23:40:19', '23:40:19', '23:40:19', '23:40:19', '23:40:19', '23:40:19', '23:40:19', '23:40:19', '23:40:19', '23:40:19', '23:40:19', '23:40:19', '23:40:19', '23:40:19']\n"
    }
   ],
   "source": [
    "# Extract the created_at column from df: tweet_time\n",
    "tweet_time = df.created_at\n",
    "\n",
    "# Extract the clock time: tweet_clock_time\n",
    "tweet_clock_time = [entry[11:19] for entry in tweet_time if entry[17:19] == '19']\n",
    "\n",
    "# Print the extracted times\n",
    "print(tweet_clock_time)\n"
   ]
  },
  {
   "cell_type": "markdown",
   "metadata": {},
   "source": [
    "## Chapter 3:Bringing it all together"
   ]
  },
  {
   "cell_type": "code",
   "execution_count": 24,
   "metadata": {},
   "outputs": [],
   "source": [
    "df_pop= pd.read_csv('../datasets/WorldBank_POP.xls')\n",
    "row_vals= list(df_pop.values)\n",
    "feature_names=list(df_pop.columns)"
   ]
  },
  {
   "cell_type": "code",
   "execution_count": 25,
   "metadata": {
    "tags": []
   },
   "outputs": [
    {
     "output_type": "stream",
     "name": "stdout",
     "text": "{'Country Name': array(['Aruba', 'ABW', 'Population, total', 2010, 101669.0], dtype=object), 'Country Code': array(['Afghanistan', 'AFG', 'Population, total', 2010, 29185507.0],\n      dtype=object), 'Indicator Name': array(['Angola', 'AGO', 'Population, total', 2010, 23356246.0],\n      dtype=object), 'Year': array(['Albania', 'ALB', 'Population, total', 2010, 2913021.0],\n      dtype=object), 'Pop': array(['Andorra', 'AND', 'Population, total', 2010, 84449.0], dtype=object)}\n"
    }
   ],
   "source": [
    "# Zip lists: zipped_lists\n",
    "zipped_lists = zip(feature_names, row_vals)\n",
    "\n",
    "# Create a dictionary: rs_dict\n",
    "rs_dict = dict(zipped_lists)\n",
    "\n",
    "# Print the dictionary\n",
    "print(rs_dict)\n"
   ]
  },
  {
   "cell_type": "code",
   "execution_count": 26,
   "metadata": {
    "tags": []
   },
   "outputs": [
    {
     "output_type": "stream",
     "name": "stdout",
     "text": "{'Country Name': array(['Aruba', 'ABW', 'Population, total', 2010, 101669.0], dtype=object), 'Country Code': array(['Afghanistan', 'AFG', 'Population, total', 2010, 29185507.0],\n      dtype=object), 'Indicator Name': array(['Angola', 'AGO', 'Population, total', 2010, 23356246.0],\n      dtype=object), 'Year': array(['Albania', 'ALB', 'Population, total', 2010, 2913021.0],\n      dtype=object), 'Pop': array(['Andorra', 'AND', 'Population, total', 2010, 84449.0], dtype=object)}\n"
    }
   ],
   "source": [
    "# Define lists2dict()\n",
    "def lists2dict(list1, list2):\n",
    "    \"\"\"Return a dictionary where list1 provides\n",
    "    the keys and list2 provides the values.\"\"\"\n",
    "\n",
    "    # Zip lists: zipped_lists\n",
    "    zipped_lists = zip(list1, list2)\n",
    "\n",
    "    # Create a dictionary: rs_dict\n",
    "    rs_dict = dict(zipped_lists)\n",
    "\n",
    "    # Return the dictionary\n",
    "    return rs_dict\n",
    "\n",
    "# Call lists2dict: rs_fxn\n",
    "rs_fxn = lists2dict(feature_names, row_vals)\n",
    "\n",
    "# Print rs_fxn\n",
    "print(rs_fxn)"
   ]
  },
  {
   "cell_type": "code",
   "execution_count": 27,
   "metadata": {},
   "outputs": [],
   "source": [
    "row_lists=[]\n",
    "row_lists.append(row_vals)\n",
    "row_lists.append(row_vals[0])\n"
   ]
  },
  {
   "cell_type": "code",
   "execution_count": 28,
   "metadata": {
    "tags": [
     "outputPrepend"
    ]
   },
   "outputs": [
    {
     "output_type": "stream",
     "name": "stdout",
     "text": "prus', 'CYP', 'Population, total', 2018, 1189265.0],\n      dtype=object), array(['Czech Republic', 'CZE', 'Population, total', 2018, 10625695.0],\n      dtype=object), array(['Germany', 'DEU', 'Population, total', 2018, 82927922.0],\n      dtype=object), array(['Djibouti', 'DJI', 'Population, total', 2018, 958920.0],\n      dtype=object), array(['Dominica', 'DMA', 'Population, total', 2018, 71625.0],\n      dtype=object), array(['Denmark', 'DNK', 'Population, total', 2018, 5797446.0],\n      dtype=object), array(['Dominican Republic', 'DOM', 'Population, total', 2018, 10627165.0],\n      dtype=object), array(['Algeria', 'DZA', 'Population, total', 2018, 42228429.0],\n      dtype=object), array(['East Asia & Pacific (excluding high income)', 'EAP',\n       'Population, total', 2018, 2081651801.0], dtype=object), array(['Early-demographic dividend', 'EAR', 'Population, total', 2018,\n       3249140605.0], dtype=object), array(['East Asia & Pacific', 'EAS', 'Population, total', 2018,\n       2328220870.0], dtype=object), array(['Europe & Central Asia (excluding high income)', 'ECA',\n       'Population, total', 2018, 417797257.0], dtype=object), array(['Europe & Central Asia', 'ECS', 'Population, total', 2018,\n       918793590.0], dtype=object), array(['Ecuador', 'ECU', 'Population, total', 2018, 17084357.0],\n      dtype=object), array(['Egypt, Arab Rep.', 'EGY', 'Population, total', 2018, 98423595.0],\n      dtype=object), array(['Euro area', 'EMU', 'Population, total', 2018, 341783171.0],\n      dtype=object), array(['Eritrea', 'ERI', 'Population, total', 2018, nan], dtype=object), array(['Spain', 'ESP', 'Population, total', 2018, 46723749.0],\n      dtype=object), array(['Estonia', 'EST', 'Population, total', 2018, 1320884.0],\n      dtype=object), array(['Ethiopia', 'ETH', 'Population, total', 2018, 109224559.0],\n      dtype=object), array(['European Union', 'EUU', 'Population, total', 2018, 513213363.0],\n      dtype=object), array(['Fragile and conflict affected situations', 'FCS',\n       'Population, total', 2018, 515215936.0], dtype=object), array(['Finland', 'FIN', 'Population, total', 2018, 5518050.0],\n      dtype=object), array(['Fiji', 'FJI', 'Population, total', 2018, 883483.0], dtype=object), array(['France', 'FRA', 'Population, total', 2018, 66987244.0],\n      dtype=object), array(['Faroe Islands', 'FRO', 'Population, total', 2018, 48497.0],\n      dtype=object), array(['Micronesia, Fed. Sts.', 'FSM', 'Population, total', 2018,\n       112640.0], dtype=object), array(['Gabon', 'GAB', 'Population, total', 2018, 2119275.0], dtype=object), array(['United Kingdom', 'GBR', 'Population, total', 2018, 66488991.0],\n      dtype=object), array(['Georgia', 'GEO', 'Population, total', 2018, 3731000.0],\n      dtype=object), array(['Ghana', 'GHA', 'Population, total', 2018, 29767108.0],\n      dtype=object), array(['Gibraltar', 'GIB', 'Population, total', 2018, 33718.0],\n      dtype=object), array(['Guinea', 'GIN', 'Population, total', 2018, 12414318.0],\n      dtype=object), array(['Gambia, The', 'GMB', 'Population, total', 2018, 2280102.0],\n      dtype=object), array(['Guinea-Bissau', 'GNB', 'Population, total', 2018, 1874309.0],\n      dtype=object), array(['Equatorial Guinea', 'GNQ', 'Population, total', 2018, 1308974.0],\n      dtype=object), array(['Greece', 'GRC', 'Population, total', 2018, 10727668.0],\n      dtype=object), array(['Grenada', 'GRD', 'Population, total', 2018, 111454.0],\n      dtype=object), array(['Greenland', 'GRL', 'Population, total', 2018, 56025.0],\n      dtype=object), array(['Guatemala', 'GTM', 'Population, total', 2018, 17247807.0],\n      dtype=object), array(['Guam', 'GUM', 'Population, total', 2018, 165768.0], dtype=object), array(['Guyana', 'GUY', 'Population, total', 2018, 779004.0], dtype=object), array(['High income', 'HIC', 'Population, total', 2018, 1210312147.0],\n      dtype=object), array(['Hong Kong SAR, China', 'HKG', 'Population, total', 2018,\n       7451000.0], dtype=object), array(['Honduras', 'HND', 'Population, total', 2018, 9587522.0],\n      dtype=object), array(['Heavily indebted poor countries (HIPC)', 'HPC',\n       'Population, total', 2018, 780234406.0], dtype=object), array(['Croatia', 'HRV', 'Population, total', 2018, 4089400.0],\n      dtype=object), array(['Haiti', 'HTI', 'Population, total', 2018, 11123176.0],\n      dtype=object), array(['Hungary', 'HUN', 'Population, total', 2018, 9768785.0],\n      dtype=object), array(['IBRD only', 'IBD', 'Population, total', 2018, 4772284113.0],\n      dtype=object), array(['IDA & IBRD total', 'IBT', 'Population, total', 2018, 6412522234.0],\n      dtype=object), array(['IDA total', 'IDA', 'Population, total', 2018, 1640238121.0],\n      dtype=object), array(['IDA blend', 'IDB', 'Population, total', 2018, 555830605.0],\n      dtype=object), array(['Indonesia', 'IDN', 'Population, total', 2018, 267663435.0],\n      dtype=object), array(['IDA only', 'IDX', 'Population, total', 2018, 1084407516.0],\n      dtype=object), array(['Isle of Man', 'IMN', 'Population, total', 2018, 84077.0],\n      dtype=object), array(['India', 'IND', 'Population, total', 2018, 1352617328.0],\n      dtype=object), array(['Not classified', 'INX', 'Population, total', 2018, nan],\n      dtype=object), array(['Ireland', 'IRL', 'Population, total', 2018, 4853506.0],\n      dtype=object), array(['Iran, Islamic Rep.', 'IRN', 'Population, total', 2018, 81800269.0],\n      dtype=object), array(['Iraq', 'IRQ', 'Population, total', 2018, 38433600.0], dtype=object), array(['Iceland', 'ISL', 'Population, total', 2018, 353574.0],\n      dtype=object), array(['Israel', 'ISR', 'Population, total', 2018, 8883800.0],\n      dtype=object), array(['Italy', 'ITA', 'Population, total', 2018, 60431283.0],\n      dtype=object), array(['Jamaica', 'JAM', 'Population, total', 2018, 2934855.0],\n      dtype=object), array(['Jordan', 'JOR', 'Population, total', 2018, 9956011.0],\n      dtype=object), array(['Japan', 'JPN', 'Population, total', 2018, 126529100.0],\n      dtype=object), array(['Kazakhstan', 'KAZ', 'Population, total', 2018, 18276499.0],\n      dtype=object), array(['Kenya', 'KEN', 'Population, total', 2018, 51393010.0],\n      dtype=object), array(['Kyrgyz Republic', 'KGZ', 'Population, total', 2018, 6315800.0],\n      dtype=object), array(['Cambodia', 'KHM', 'Population, total', 2018, 16249798.0],\n      dtype=object), array(['Kiribati', 'KIR', 'Population, total', 2018, 115847.0],\n      dtype=object), array(['St. Kitts and Nevis', 'KNA', 'Population, total', 2018, 52441.0],\n      dtype=object), array(['Korea, Rep.', 'KOR', 'Population, total', 2018, 51635256.0],\n      dtype=object), array(['Kuwait', 'KWT', 'Population, total', 2018, 4137309.0],\n      dtype=object), array(['Latin America & Caribbean (excluding high income)', 'LAC',\n       'Population, total', 2018, 609013934.0], dtype=object), array(['Lao PDR', 'LAO', 'Population, total', 2018, 7061507.0],\n      dtype=object), array(['Lebanon', 'LBN', 'Population, total', 2018, 6848925.0],\n      dtype=object), array(['Liberia', 'LBR', 'Population, total', 2018, 4818977.0],\n      dtype=object), array(['Libya', 'LBY', 'Population, total', 2018, 6678567.0], dtype=object), array(['St. Lucia', 'LCA', 'Population, total', 2018, 181889.0],\n      dtype=object), array(['Latin America & Caribbean', 'LCN', 'Population, total', 2018,\n       641357515.0], dtype=object), array(['Least developed countries: UN classification', 'LDC',\n       'Population, total', 2018, 1009662578.0], dtype=object), array(['Low income', 'LIC', 'Population, total', 2018, 705417321.0],\n      dtype=object), array(['Liechtenstein', 'LIE', 'Population, total', 2018, 37910.0],\n      dtype=object), array(['Sri Lanka', 'LKA', 'Population, total', 2018, 21670000.0],\n      dtype=object), array(['Lower middle income', 'LMC', 'Population, total', 2018,\n       3022905169.0], dtype=object), array(['Low & middle income', 'LMY', 'Population, total', 2018,\n       6383958209.0], dtype=object), array(['Lesotho', 'LSO', 'Population, total', 2018, 2108132.0],\n      dtype=object), array(['Late-demographic dividend', 'LTE', 'Population, total', 2018,\n       2288665963.0], dtype=object), array(['Lithuania', 'LTU', 'Population, total', 2018, 2789533.0],\n      dtype=object), array(['Luxembourg', 'LUX', 'Population, total', 2018, 607728.0],\n      dtype=object), array(['Latvia', 'LVA', 'Population, total', 2018, 1926542.0],\n      dtype=object), array(['Macao SAR, China', 'MAC', 'Population, total', 2018, 631636.0],\n      dtype=object), array(['St. Martin (French part)', 'MAF', 'Population, total', 2018,\n       37264.0], dtype=object), array(['Morocco', 'MAR', 'Population, total', 2018, 36029138.0],\n      dtype=object), array(['Monaco', 'MCO', 'Population, total', 2018, 38682.0], dtype=object), array(['Moldova', 'MDA', 'Population, total', 2018, 3545883.0],\n      dtype=object), array(['Madagascar', 'MDG', 'Population, total', 2018, 26262368.0],\n      dtype=object), array(['Maldives', 'MDV', 'Population, total', 2018, 515696.0],\n      dtype=object), array(['Middle East & North Africa', 'MEA', 'Population, total', 2018,\n       448912859.0], dtype=object), array(['Mexico', 'MEX', 'Population, total', 2018, 126190788.0],\n      dtype=object), array(['Marshall Islands', 'MHL', 'Population, total', 2018, 58413.0],\n      dtype=object), array(['Middle income', 'MIC', 'Population, total', 2018, 5678540888.0],\n      dtype=object), array(['North Macedonia', 'MKD', 'Population, total', 2018, 2082958.0],\n      dtype=object), array(['Mali', 'MLI', 'Population, total', 2018, 19077690.0], dtype=object), array(['Malta', 'MLT', 'Population, total', 2018, 483530.0], dtype=object), array(['Myanmar', 'MMR', 'Population, total', 2018, 53708395.0],\n      dtype=object), array(['Middle East & North Africa (excluding high income)', 'MNA',\n       'Population, total', 2018, 382896715.0], dtype=object), array(['Montenegro', 'MNE', 'Population, total', 2018, 622345.0],\n      dtype=object), array(['Mongolia', 'MNG', 'Population, total', 2018, 3170208.0],\n      dtype=object), array(['Northern Mariana Islands', 'MNP', 'Population, total', 2018,\n       56882.0], dtype=object), array(['Mozambique', 'MOZ', 'Population, total', 2018, 29495962.0],\n      dtype=object), array(['Mauritania', 'MRT', 'Population, total', 2018, 4403319.0],\n      dtype=object), array(['Mauritius', 'MUS', 'Population, total', 2018, 1265303.0],\n      dtype=object), array(['Malawi', 'MWI', 'Population, total', 2018, 18143315.0],\n      dtype=object), array(['Malaysia', 'MYS', 'Population, total', 2018, 31528585.0],\n      dtype=object), array(['North America', 'NAC', 'Population, total', 2018, 364290258.0],\n      dtype=object), array(['Namibia', 'NAM', 'Population, total', 2018, 2448255.0],\n      dtype=object), array(['New Caledonia', 'NCL', 'Population, total', 2018, 284060.0],\n      dtype=object), array(['Niger', 'NER', 'Population, total', 2018, 22442948.0],\n      dtype=object), array(['Nigeria', 'NGA', 'Population, total', 2018, 195874740.0],\n      dtype=object), array(['Nicaragua', 'NIC', 'Population, total', 2018, 6465513.0],\n      dtype=object), array(['Netherlands', 'NLD', 'Population, total', 2018, 17231017.0],\n      dtype=object), array(['Norway', 'NOR', 'Population, total', 2018, 5314336.0],\n      dtype=object), array(['Nepal', 'NPL', 'Population, total', 2018, 28087871.0],\n      dtype=object), array(['Nauru', 'NRU', 'Population, total', 2018, 12704.0], dtype=object), array(['New Zealand', 'NZL', 'Population, total', 2018, 4885500.0],\n      dtype=object), array(['OECD members', 'OED', 'Population, total', 2018, 1303529456.0],\n      dtype=object), array(['Oman', 'OMN', 'Population, total', 2018, 4829483.0], dtype=object), array(['Other small states', 'OSS', 'Population, total', 2018, 30758989.0],\n      dtype=object), array(['Pakistan', 'PAK', 'Population, total', 2018, 212215030.0],\n      dtype=object), array(['Panama', 'PAN', 'Population, total', 2018, 4176873.0],\n      dtype=object), array(['Peru', 'PER', 'Population, total', 2018, 31989256.0], dtype=object), array(['Philippines', 'PHL', 'Population, total', 2018, 106651922.0],\n      dtype=object), array(['Palau', 'PLW', 'Population, total', 2018, 17907.0], dtype=object), array(['Papua New Guinea', 'PNG', 'Population, total', 2018, 8606316.0],\n      dtype=object), array(['Poland', 'POL', 'Population, total', 2018, 37978548.0],\n      dtype=object), array(['Pre-demographic dividend', 'PRE', 'Population, total', 2018,\n       919485393.0], dtype=object), array(['Puerto Rico', 'PRI', 'Population, total', 2018, 3195153.0],\n      dtype=object), array(['Korea, Dem. People’s Rep.', 'PRK', 'Population, total', 2018,\n       25549819.0], dtype=object), array(['Portugal', 'PRT', 'Population, total', 2018, 10281762.0],\n      dtype=object), array(['Paraguay', 'PRY', 'Population, total', 2018, 6956071.0],\n      dtype=object), array(['West Bank and Gaza', 'PSE', 'Population, total', 2018, 4569087.0],\n      dtype=object), array(['Pacific island small states', 'PSS', 'Population, total', 2018,\n       2457367.0], dtype=object), array(['Post-demographic dividend', 'PST', 'Population, total', 2018,\n       1109997273.0], dtype=object), array(['French Polynesia', 'PYF', 'Population, total', 2018, 277679.0],\n      dtype=object), array(['Qatar', 'QAT', 'Population, total', 2018, 2781677.0], dtype=object), array(['Romania', 'ROU', 'Population, total', 2018, 19473936.0],\n      dtype=object), array(['Russian Federation', 'RUS', 'Population, total', 2018,\n       144478050.0], dtype=object), array(['Rwanda', 'RWA', 'Population, total', 2018, 12301939.0],\n      dtype=object), array(['South Asia', 'SAS', 'Population, total', 2018, 1814388744.0],\n      dtype=object), array(['Saudi Arabia', 'SAU', 'Population, total', 2018, 33699947.0],\n      dtype=object), array(['Sudan', 'SDN', 'Population, total', 2018, 41801533.0],\n      dtype=object), array(['Senegal', 'SEN', 'Population, total', 2018, 15854360.0],\n      dtype=object), array(['Singapore', 'SGP', 'Population, total', 2018, 5638676.0],\n      dtype=object), array(['Solomon Islands', 'SLB', 'Population, total', 2018, 652858.0],\n      dtype=object), array(['Sierra Leone', 'SLE', 'Population, total', 2018, 7650154.0],\n      dtype=object), array(['El Salvador', 'SLV', 'Population, total', 2018, 6420744.0],\n      dtype=object), array(['San Marino', 'SMR', 'Population, total', 2018, 33785.0],\n      dtype=object), array(['Somalia', 'SOM', 'Population, total', 2018, 15008154.0],\n      dtype=object), array(['Serbia', 'SRB', 'Population, total', 2018, 6982084.0],\n      dtype=object), array(['Sub-Saharan Africa (excluding high income)', 'SSA',\n       'Population, total', 2018, 1078209758.0], dtype=object), array(['South Sudan', 'SSD', 'Population, total', 2018, 10975920.0],\n      dtype=object), array(['Sub-Saharan Africa', 'SSF', 'Population, total', 2018,\n       1078306520.0], dtype=object), array(['Small states', 'SST', 'Population, total', 2018, 40575321.0],\n      dtype=object), array(['Sao Tome and Principe', 'STP', 'Population, total', 2018,\n       211028.0], dtype=object), array(['Suriname', 'SUR', 'Population, total', 2018, 575991.0],\n      dtype=object), array(['Slovak Republic', 'SVK', 'Population, total', 2018, 5447011.0],\n      dtype=object), array(['Slovenia', 'SVN', 'Population, total', 2018, 2067372.0],\n      dtype=object), array(['Sweden', 'SWE', 'Population, total', 2018, 10183175.0],\n      dtype=object), array(['Eswatini', 'SWZ', 'Population, total', 2018, 1136191.0],\n      dtype=object), array(['Sint Maarten (Dutch part)', 'SXM', 'Population, total', 2018,\n       40654.0], dtype=object), array(['Seychelles', 'SYC', 'Population, total', 2018, 96762.0],\n      dtype=object), array(['Syrian Arab Republic', 'SYR', 'Population, total', 2018,\n       16906283.0], dtype=object), array(['Turks and Caicos Islands', 'TCA', 'Population, total', 2018,\n       37665.0], dtype=object), array(['Chad', 'TCD', 'Population, total', 2018, 15477751.0], dtype=object), array(['East Asia & Pacific (IDA & IBRD countries)', 'TEA',\n       'Population, total', 2018, 2056064424.0], dtype=object), array(['Europe & Central Asia (IDA & IBRD countries)', 'TEC',\n       'Population, total', 2018, 459865205.0], dtype=object), array(['Togo', 'TGO', 'Population, total', 2018, 7889094.0], dtype=object), array(['Thailand', 'THA', 'Population, total', 2018, 69428524.0],\n      dtype=object), array(['Tajikistan', 'TJK', 'Population, total', 2018, 9100837.0],\n      dtype=object), array(['Turkmenistan', 'TKM', 'Population, total', 2018, 5850908.0],\n      dtype=object), array(['Latin America & the Caribbean (IDA & IBRD countries)', 'TLA',\n       'Population, total', 2018, 625569713.0], dtype=object), array(['Timor-Leste', 'TLS', 'Population, total', 2018, 1267972.0],\n      dtype=object), array(['Middle East & North Africa (IDA & IBRD countries)', 'TMN',\n       'Population, total', 2018, 378327628.0], dtype=object), array(['Tonga', 'TON', 'Population, total', 2018, 103197.0], dtype=object), array(['South Asia (IDA & IBRD)', 'TSA', 'Population, total', 2018,\n       1814388744.0], dtype=object), array(['Sub-Saharan Africa (IDA & IBRD countries)', 'TSS',\n       'Population, total', 2018, 1078306520.0], dtype=object), array(['Trinidad and Tobago', 'TTO', 'Population, total', 2018, 1389858.0],\n      dtype=object), array(['Tunisia', 'TUN', 'Population, total', 2018, 11565204.0],\n      dtype=object), array(['Turkey', 'TUR', 'Population, total', 2018, 82319724.0],\n      dtype=object), array(['Tuvalu', 'TUV', 'Population, total', 2018, 11508.0], dtype=object), array(['Tanzania', 'TZA', 'Population, total', 2018, 56318348.0],\n      dtype=object), array(['Uganda', 'UGA', 'Population, total', 2018, 42723139.0],\n      dtype=object), array(['Ukraine', 'UKR', 'Population, total', 2018, 44622516.0],\n      dtype=object), array(['Upper middle income', 'UMC', 'Population, total', 2018,\n       2655635719.0], dtype=object), array(['Uruguay', 'URY', 'Population, total', 2018, 3449299.0],\n      dtype=object), array(['United States', 'USA', 'Population, total', 2018, 327167434.0],\n      dtype=object), array(['Uzbekistan', 'UZB', 'Population, total', 2018, 32955400.0],\n      dtype=object), array(['St. Vincent and the Grenadines', 'VCT', 'Population, total', 2018,\n       110210.0], dtype=object), array(['Venezuela, RB', 'VEN', 'Population, total', 2018, 28870195.0],\n      dtype=object), array(['British Virgin Islands', 'VGB', 'Population, total', 2018,\n       29802.0], dtype=object), array(['Virgin Islands (U.S.)', 'VIR', 'Population, total', 2018,\n       106977.0], dtype=object), array(['Vietnam', 'VNM', 'Population, total', 2018, 95540395.0],\n      dtype=object), array(['Vanuatu', 'VUT', 'Population, total', 2018, 292680.0],\n      dtype=object), array(['World', 'WLD', 'Population, total', 2018, 7594270356.0],\n      dtype=object), array(['Samoa', 'WSM', 'Population, total', 2018, 196130.0], dtype=object), array(['Kosovo', 'XKX', 'Population, total', 2018, 1845300.0],\n      dtype=object), array(['Yemen, Rep.', 'YEM', 'Population, total', 2018, 28498687.0],\n      dtype=object), array(['South Africa', 'ZAF', 'Population, total', 2018, 57779622.0],\n      dtype=object), array(['Zambia', 'ZMB', 'Population, total', 2018, 17351822.0],\n      dtype=object), array(['Zimbabwe', 'ZWE', 'Population, total', 2018, 14439018.0],\n      dtype=object)]\n['Aruba' 'ABW' 'Population, total' 2010 101669.0]\n{'Country Name': array(['Aruba', 'ABW', 'Population, total', 2010, 101669.0], dtype=object), 'Country Code': array(['Afghanistan', 'AFG', 'Population, total', 2010, 29185507.0],\n      dtype=object), 'Indicator Name': array(['Angola', 'AGO', 'Population, total', 2010, 23356246.0],\n      dtype=object), 'Year': array(['Albania', 'ALB', 'Population, total', 2010, 2913021.0],\n      dtype=object), 'Pop': array(['Andorra', 'AND', 'Population, total', 2010, 84449.0], dtype=object)}\n{'Country Name': 'Aruba', 'Country Code': 'ABW', 'Indicator Name': 'Population, total', 'Year': 2010, 'Pop': 101669.0}\n"
    }
   ],
   "source": [
    "# Print the first two lists in row_lists\n",
    "print(row_lists[0])\n",
    "print(row_lists[1])\n",
    "\n",
    "# Turn list of lists into list of dicts: list_of_dicts\n",
    "list_of_dicts = [lists2dict(feature_names, sublist) for sublist in row_lists]\n",
    "\n",
    "# Print the first two dictionaries in list_of_dicts\n",
    "print(list_of_dicts[0])\n",
    "print(list_of_dicts[1])"
   ]
  },
  {
   "cell_type": "code",
   "execution_count": 29,
   "metadata": {
    "tags": []
   },
   "outputs": [
    {
     "output_type": "stream",
     "name": "stdout",
     "text": "Country Name  \\\n0  [Aruba, ABW, Population, total, 2010, 101669.0]   \n1                                            Aruba   \n\n                                        Country Code  \\\n0  [Afghanistan, AFG, Population, total, 2010, 29...   \n1                                                ABW   \n\n                                      Indicator Name  \\\n0  [Angola, AGO, Population, total, 2010, 2335624...   \n1                                  Population, total   \n\n                                                Year  \\\n0  [Albania, ALB, Population, total, 2010, 291302...   \n1                                               2010   \n\n                                                Pop  \n0  [Andorra, AND, Population, total, 2010, 84449.0]  \n1                                            101669  \n"
    }
   ],
   "source": [
    "# Import the pandas package\n",
    "import pandas as pd\n",
    "\n",
    "# Turn list of lists into list of dicts: list_of_dicts\n",
    "list_of_dicts = [lists2dict(feature_names, sublist) for sublist in row_lists]\n",
    "\n",
    "# Turn list of dicts into a DataFrame: df\n",
    "df = pd.DataFrame(list_of_dicts)\n",
    "\n",
    "# Print the head of the DataFrame\n",
    "print(df.head())\n"
   ]
  },
  {
   "cell_type": "code",
   "execution_count": 31,
   "metadata": {},
   "outputs": [
    {
     "output_type": "execute_result",
     "data": {
      "text/plain": "411"
     },
     "metadata": {},
     "execution_count": 31
    }
   ],
   "source": [
    "len(\"Google etkisi\\\n",
    "Google etkisi ya da dijital amnezi[1]\\\n",
    "arama motoru aracılığıyla internette\\\n",
    "kolayca bulunabilen bilgilerin, edinildikten\\\n",
    "sonra hızlı bir biçimde unutulmasına\\\n",
    "verilen addır.\\\n",
    "Google etkisi ile ilgili yapılan ilk\\\n",
    "araştırmaya göre, kişilerin çevrimiçi\\\n",
    "olarak erişilebilir olacağına inandıkları\\\n",
    "bazı ayrıntıları hatırlamaları daha az\\\n",
    "olasıdır. Bununla birlikte, çalışma aynı\\\n",
    "zamanda insanların çevrimdışı bilgileri\")"
   ]
  },
  {
   "cell_type": "code",
   "execution_count": null,
   "metadata": {},
   "outputs": [],
   "source": []
  }
 ]
}