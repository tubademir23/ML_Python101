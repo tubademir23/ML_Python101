{
 "metadata": {
  "language_info": {
   "oodemirror_mode": {
    "name": "ipython",
    "version": 3
   },
   "file_extension": ".py",
   "mimetype": "text/x-python",
   "name": "python",
   "nbconvert_exporter": "python",
   "pygments_lexer": "ipython3",
   "version": "3.8.3-final"
  },
  "orig_nbformat": 2,
  "kernelspec": {
   "name": "Python 3.8.3 32-bit",
   "display_name": "Python 3.8.3 32-bit",
   "metadata": {
    "interpreter": {
     "hash": "93b32ffebc1cb1c2d839af4efdbeac8fa380b79f8fa9e0ee00ee98948a873d46"
    }
   }
  }
 },
 "nbformat": 4,
 "nbformat_minor": 2,
 "cells": [
  {
   "cell_type": "markdown",
   "metadata": {},
   "source": [
    "## With this notebook; \n",
    "\n",
    "* I want to keep up my DataCamp Tracks, I created the dataset by the courses which I am interested in individually including track information and put dataset on my Google Drive acoount. For reading Google spreadsheet; after create project and Api Authentication(Google Sheet API and Google Drive API), I started to read from drive excel.\n",
    "\n",
    "* My goal is to follow up on this file and work on the current file instead of a fixed dataset so that I can follow my progress.\n",
    "* While I was developing my Data Science skills with the DataCamp course, this training time also will be a project for me :)"
   ]
  },
  {
   "cell_type": "code",
   "execution_count": 8,
   "metadata": {},
   "outputs": [],
   "source": [
    "import os\n",
    "\n",
    "if not os.path.exists(\"images\"):\n",
    "    os.mkdir(\"images\")"
   ]
  },
  {
   "cell_type": "code",
   "execution_count": 10,
   "metadata": {
    "tags": []
   },
   "outputs": [],
   "source": [
    "import gspread\n",
    "\n",
    "gc=gspread.oauth()\n",
    "sheet1 = gc.open(\"datacamp\").sheet1\n",
    "\n",
    "data = sheet1.get_all_values()\n",
    "headers = data.pop(0)\n"
   ]
  },
  {
   "cell_type": "code",
   "execution_count": 12,
   "metadata": {
    "tags": []
   },
   "outputs": [],
   "source": [
    "\n",
    "import pandas as pd\n",
    "df = pd.DataFrame(data, columns=headers)"
   ]
  },
  {
   "cell_type": "markdown",
   "metadata": {},
   "source": [
    "** pre_processing data, NaN values, dtypes **"
   ]
  },
  {
   "cell_type": "code",
   "execution_count": 14,
   "metadata": {
    "tags": []
   },
   "outputs": [
    {
     "output_type": "stream",
     "name": "stdout",
     "text": [
      "No                        int32\nTrack                    object\nType                     object\norder                     int32\nCourse                   object\nPlanning Date    datetime64[ns]\nWatch                     int32\nLearn                     int32\nGithub                    int32\nVideo                     int32\nPdf                       int32\ndtype: object\n"
     ]
    }
   ],
   "source": [
    "df.replace('', 0, inplace=True)\n",
    "df['Planning Date']=pd.to_datetime(df['Planning Date'])\n",
    "\n",
    "col_dict={'No':int, 'order':int,'Watch':int,'Learn':int,'Github':int,'Video':int,'Pdf':int}\n",
    "for k, v in col_dict.items():\n",
    "    df[k]=df[k].astype(v)\n",
    "print(df.dtypes)"
   ]
  },
  {
   "cell_type": "markdown",
   "metadata": {},
   "source": [
    "** define necessary methods for statisticals **"
   ]
  },
  {
   "cell_type": "code",
   "execution_count": null,
   "metadata": {},
   "outputs": [],
   "source": [
    "def remain(x):\n",
    "    return x.count() - x.sum()\n",
    "remain.__name__ = 'Remain'\n",
    "\n",
    "def percent(x):\n",
    "    return x.sum()*100 / x.count()\n",
    "percent.__name__='Comp. %'"
   ]
  },
  {
   "cell_type": "markdown",
   "metadata": {},
   "source": [
    "** some courses take place in multiple tracks. Once you complete one, others must be update as completed  as well. **"
   ]
  },
  {
   "cell_type": "code",
   "execution_count": 6,
   "metadata": {
    "tags": []
   },
   "outputs": [
    {
     "output_type": "stream",
     "name": "stdout",
     "text": [
      "('Intermediate Python', 5)\n('Python Data Science Toolbox (Part 1)', 5)\n('Python Data Science Toolbox (Part 2)', 5)\n('Data Manipulation with pandas', 4)\n('Introduction to Data Visualization with Seaborn', 4)\n('Introduction to Python', 4)\n('Machine Learning with Tree-Based Models in Python', 4)\n('Supervised Learning with scikit-learn', 4)\n('Unsupervised Learning in Python', 4)\n('Writing Efficient Python Code', 4)\n('Writing Functions in Python', 4)\n('Analyzing Police Activity with pandas', 3)\n('Cleaning Data in Python', 3)\n('Cluster Analysis in Python', 3)\n('Intermediate Importing Data in Python', 3)\n('Introduction to Data Visualization with Matplotlib', 3)\n('Introduction to Deep Learning in Python', 3)\n('Introduction to Importing Data in Python', 3)\n('Introduction to PySpark', 3)\n('Introduction to Relational Databases in SQL', 3)\n('Introduction to Shell', 3)\n('Joining Data with pandas', 3)\n('Object-Oriented Programming in Python', 3)\n('Statistical Thinking in Python (Part 1)', 3)\n('Unit Testing for Data Science in Python', 3)\n('Working with Dates and Times in Python', 3)\n('Advanced Deep Learning with Keras', 2)\n('Case Study: School Budgeting with Machine Learning i...', 2)\n('Conda Essentials', 2)\n('Dimensionality Reduction in Python', 2)\n('Exploratory Data Analysis in Python', 2)\n('Extreme Gradient Boosting with XGBoost', 2)\n('Feature Engineering for Machine Learning in Python', 2)\n('Feature Engineering for NLP in Python', 2)\n('Hyperparameter Tuning in Python', 2)\n('Image Processing in Python', 2)\n('Image Processing with Keras in Python', 2)\n('Introduction to Data Science in Python', 2)\n('Introduction to Deep Learning with Keras', 2)\n('Introduction to Natural Language Processing in Python', 2)\n('Introduction to TensorFlow in Python', 2)\n('Joining Data in SQL', 2)\n('Linear Classifiers in Python', 2)\n('Machine Learning for Time Series Data in Python', 2)\n('Machine Learning with PySpark', 2)\n('Model Validation in Python', 2)\n('Preprocessing for Machine Learning in Python', 2)\n('Regular Expressions in Python', 2)\n('Software Engineering for Data Scientists in Python', 2)\n('Statistical Thinking in Python (Part 2)', 2)\n('Streamlined Data Ingestion with pandas', 2)\n('Visualizing Geospatial Data in Python', 2)\n('Winning a Kaggle Competition in Python', 2)\n('Analyzing Business Data in SQL', 1)\n('Applying SQL to Real-World Problems', 1)\n('Big Data Fundamentals with PySpark', 1)\n('Building and Optimizing Triggers in SQL Server', 1)\n('Building Chatbots in Python', 1)\n('Building Data Engineering Pipelines in Python', 1)\n('Cleaning Data in SQL Server Databases', 1)\n('Cleaning Data with PySpark', 1)\n('Command Line Automation in Python', 1)\n('Credit Risk Modeling in Python', 1)\n('Customer Analytics and A/B Testing in Python', 1)\n('Customer Segmentation in Python', 1)\n('Data Engineering for Everyone', 1)\n('Data Processing in Shell', 1)\n('Data Science for Everyone', 1)\n('Data Types for Data Science in Python', 1)\n('Data-Driven Decision Making in SQL', 1)\n('Database Design', 1)\n('Dealing with Missing Data in Python', 1)\n('Designing Machine Learning Workflows in Python', 1)\n('Ensemble Methods in Python', 1)\n('Exploratory Data Analysis in SQL', 1)\n('Feature Engineering with PySpark', 1)\n('Fraud Detection in Python', 1)\n('GARCH Models in Python', 1)\n('Human Resources Analytics: Predicting Employee Churn in Python', 1)\n('Improving Query Performance in SQL Server', 1)\n('Improving Your Data Visualizations in Python', 1)\n('Interactive Data Visualization with Bokeh', 1)\n('Intermediate Data Visualization with Seaborn', 1)\n('Introduction to Airflow in Python', 1)\n('Introduction to AWS Boto in Python', 1)\n('Introduction to Bash Scripting', 1)\n('Introduction to Data Engineering', 1)\n('Introduction to Databases in Python', 1)\n('Introduction to Financial Concepts in Python', 1)\n('Introduction to MongoDB in Python', 1)\n('Introduction to Network Analysis in Python', 1)\n('Introduction to Portfolio Risk Management in Python', 1)\n('Introduction to Predictive Analytics in Python', 1)\n('Introduction to Scala', 1)\n('Introduction to Spark SQL in Python', 1)\n('Introduction to SQ', 1)\n('Introduction to SQL', 1)\n('Machine Learning for Everyone', 1)\n('Machine Learning for Finance in Python', 1)\n('Machine Translation in Python', 1)\n('Natural Language Generation in Python', 1)\n('Parallel Programming with Dask in Python', 1)\n('Practicing Coding Interview Questions in Python', 1)\n('Practicing Machine Learning Interview Questions in Python', 1)\n('Practicing Statistics Interview Questions in Python', 1)\n('Quantitative Risk Management in Python', 1)\n('Recurrent Neural Networks for Language Modeling in P...', 1)\n('Reporting in SQL', 1)\n('Spoken Language Processing in Python', 1)\n('Statistical Simulation in Python', 1)\n('Supply Chain Analytics in Python', 1)\n('Transactions and Error Handling in SQL Server', 1)\n('Web Scraping in Python<', 1)\n('Working with the Class System in Python', 1)\n('Writing Efficient Code with pandas', 1)\n"
     ]
    }
   ],
   "source": [
    "from collections import Counter\n",
    "course_count= Counter(df.Course)\n",
    "for course in course_count.most_common():\n",
    "    print(course)\n"
   ]
  },
  {
   "cell_type": "code",
   "execution_count": 7,
   "metadata": {
    "tags": []
   },
   "outputs": [],
   "source": [
    "update_columns={'Watch':'max', 'Learn':'max', 'Github':'max', 'Video':'max','Pdf':'max','Planning Date':'min'}\n",
    "max_=df.groupby('Course').agg(update_columns)\n",
    "for key, row_ in zip(max_.index, max_.values):\n",
    "    df.loc[df.Course==key, update_columns.keys()]=row_"
   ]
  },
  {
   "cell_type": "markdown",
   "metadata": {},
   "source": [
    "** summary table for completence of the course, skill tracks **"
   ]
  },
  {
   "cell_type": "code",
   "execution_count": 9,
   "metadata": {
    "tags": []
   },
   "outputs": [
    {
     "output_type": "execute_result",
     "data": {
      "text/plain": [
       "      Type  No                                   Track  Learn_sum  \\\n",
       "0   Career   1                       Python Programmer          5   \n",
       "1   Career   2                Data Analyst with Python          2   \n",
       "2   Career   3              Data Scientist with Python          5   \n",
       "3   Career   4               Data Science for Everyone          5   \n",
       "4   Career   5           Machine Learning for Everyone          4   \n",
       "5   Career   6  Machine Learning Scientist with Python          0   \n",
       "6   Career   7               Data Engineer with Python          1   \n",
       "7   Course  18   Natural Language Processing in Python          0   \n",
       "8   Course  19         Marketing Analytics with Python          0   \n",
       "9   Course  20                   Big Data with PySpark          0   \n",
       "10  Course  20          Finance Fundamentals in Python          0   \n",
       "11  Course  20     Statistics Fundamentals with Python          0   \n",
       "12  Course  20                                     Tek          0   \n",
       "13   Skill   1                          Python Toolbox          1   \n",
       "14   Skill   2                      Python Programming          2   \n",
       "15   Skill   3          Data Visualization with Python          0   \n",
       "16   Skill   4                     Python Fundamentals          4   \n",
       "17   Skill   5         Deep Learning for NLP in Python          0   \n",
       "18   Skill   6               SQL for Business Analysts          0   \n",
       "19   Skill   7               Applied Finance in Python          0   \n",
       "\n",
       "    Learn_count  Learn_Remain  Learn_Comp. %  Github  Video  Pdf Planning Date  \n",
       "0            16            11      31.250000       7      0    0    2020-09-16  \n",
       "1            16            14      12.500000       2      0    0    2020-09-17  \n",
       "2            23            18      21.739130       7      0    0    2020-09-16  \n",
       "3            26            21      19.230769       5      0    0    2020-09-16  \n",
       "4            29            25      13.793103       4      0    0    2020-09-16  \n",
       "5            23            23       0.000000       0      0    0    2020-11-04  \n",
       "6            25            24       4.000000       2      0    0    2020-09-20  \n",
       "7             2             2       0.000000       0      0    0    2021-03-03  \n",
       "8             2             2       0.000000       0      0    0    2021-03-10  \n",
       "9             1             1       0.000000       0      0    0    2021-03-12  \n",
       "10            1             1       0.000000       0      0    0    2021-03-05  \n",
       "11            1             1       0.000000       0      0    0    2021-03-16  \n",
       "12           11            11       0.000000       0      0    0    2021-03-13  \n",
       "13            5             4      20.000000       2      0    0    2020-09-20  \n",
       "14            6             4      33.333333       3      0    0    2020-09-18  \n",
       "15            5             5       0.000000       0      0    0    2020-10-06  \n",
       "16            4             0     100.000000       4      0    0    2020-09-16  \n",
       "17            3             3       0.000000       0      0    0    2021-03-29  \n",
       "18            5             5       0.000000       0      0    0    2021-04-02  \n",
       "19            4             4       0.000000       0      0    0    2021-03-06  "
      ],
      "text/html": "<div>\n<style scoped>\n    .dataframe tbody tr th:only-of-type {\n        vertical-align: middle;\n    }\n\n    .dataframe tbody tr th {\n        vertical-align: top;\n    }\n\n    .dataframe thead th {\n        text-align: right;\n    }\n</style>\n<table border=\"1\" class=\"dataframe\">\n  <thead>\n    <tr style=\"text-align: right;\">\n      <th></th>\n      <th>Type</th>\n      <th>No</th>\n      <th>Track</th>\n      <th>Learn_sum</th>\n      <th>Learn_count</th>\n      <th>Learn_Remain</th>\n      <th>Learn_Comp. %</th>\n      <th>Github</th>\n      <th>Video</th>\n      <th>Pdf</th>\n      <th>Planning Date</th>\n    </tr>\n  </thead>\n  <tbody>\n    <tr>\n      <th>0</th>\n      <td>Career</td>\n      <td>1</td>\n      <td>Python Programmer</td>\n      <td>5</td>\n      <td>16</td>\n      <td>11</td>\n      <td>31.250000</td>\n      <td>7</td>\n      <td>0</td>\n      <td>0</td>\n      <td>2020-09-16</td>\n    </tr>\n    <tr>\n      <th>1</th>\n      <td>Career</td>\n      <td>2</td>\n      <td>Data Analyst with Python</td>\n      <td>2</td>\n      <td>16</td>\n      <td>14</td>\n      <td>12.500000</td>\n      <td>2</td>\n      <td>0</td>\n      <td>0</td>\n      <td>2020-09-17</td>\n    </tr>\n    <tr>\n      <th>2</th>\n      <td>Career</td>\n      <td>3</td>\n      <td>Data Scientist with Python</td>\n      <td>5</td>\n      <td>23</td>\n      <td>18</td>\n      <td>21.739130</td>\n      <td>7</td>\n      <td>0</td>\n      <td>0</td>\n      <td>2020-09-16</td>\n    </tr>\n    <tr>\n      <th>3</th>\n      <td>Career</td>\n      <td>4</td>\n      <td>Data Science for Everyone</td>\n      <td>5</td>\n      <td>26</td>\n      <td>21</td>\n      <td>19.230769</td>\n      <td>5</td>\n      <td>0</td>\n      <td>0</td>\n      <td>2020-09-16</td>\n    </tr>\n    <tr>\n      <th>4</th>\n      <td>Career</td>\n      <td>5</td>\n      <td>Machine Learning for Everyone</td>\n      <td>4</td>\n      <td>29</td>\n      <td>25</td>\n      <td>13.793103</td>\n      <td>4</td>\n      <td>0</td>\n      <td>0</td>\n      <td>2020-09-16</td>\n    </tr>\n    <tr>\n      <th>5</th>\n      <td>Career</td>\n      <td>6</td>\n      <td>Machine Learning Scientist with Python</td>\n      <td>0</td>\n      <td>23</td>\n      <td>23</td>\n      <td>0.000000</td>\n      <td>0</td>\n      <td>0</td>\n      <td>0</td>\n      <td>2020-11-04</td>\n    </tr>\n    <tr>\n      <th>6</th>\n      <td>Career</td>\n      <td>7</td>\n      <td>Data Engineer with Python</td>\n      <td>1</td>\n      <td>25</td>\n      <td>24</td>\n      <td>4.000000</td>\n      <td>2</td>\n      <td>0</td>\n      <td>0</td>\n      <td>2020-09-20</td>\n    </tr>\n    <tr>\n      <th>7</th>\n      <td>Course</td>\n      <td>18</td>\n      <td>Natural Language Processing in Python</td>\n      <td>0</td>\n      <td>2</td>\n      <td>2</td>\n      <td>0.000000</td>\n      <td>0</td>\n      <td>0</td>\n      <td>0</td>\n      <td>2021-03-03</td>\n    </tr>\n    <tr>\n      <th>8</th>\n      <td>Course</td>\n      <td>19</td>\n      <td>Marketing Analytics with Python</td>\n      <td>0</td>\n      <td>2</td>\n      <td>2</td>\n      <td>0.000000</td>\n      <td>0</td>\n      <td>0</td>\n      <td>0</td>\n      <td>2021-03-10</td>\n    </tr>\n    <tr>\n      <th>9</th>\n      <td>Course</td>\n      <td>20</td>\n      <td>Big Data with PySpark</td>\n      <td>0</td>\n      <td>1</td>\n      <td>1</td>\n      <td>0.000000</td>\n      <td>0</td>\n      <td>0</td>\n      <td>0</td>\n      <td>2021-03-12</td>\n    </tr>\n    <tr>\n      <th>10</th>\n      <td>Course</td>\n      <td>20</td>\n      <td>Finance Fundamentals in Python</td>\n      <td>0</td>\n      <td>1</td>\n      <td>1</td>\n      <td>0.000000</td>\n      <td>0</td>\n      <td>0</td>\n      <td>0</td>\n      <td>2021-03-05</td>\n    </tr>\n    <tr>\n      <th>11</th>\n      <td>Course</td>\n      <td>20</td>\n      <td>Statistics Fundamentals with Python</td>\n      <td>0</td>\n      <td>1</td>\n      <td>1</td>\n      <td>0.000000</td>\n      <td>0</td>\n      <td>0</td>\n      <td>0</td>\n      <td>2021-03-16</td>\n    </tr>\n    <tr>\n      <th>12</th>\n      <td>Course</td>\n      <td>20</td>\n      <td>Tek</td>\n      <td>0</td>\n      <td>11</td>\n      <td>11</td>\n      <td>0.000000</td>\n      <td>0</td>\n      <td>0</td>\n      <td>0</td>\n      <td>2021-03-13</td>\n    </tr>\n    <tr>\n      <th>13</th>\n      <td>Skill</td>\n      <td>1</td>\n      <td>Python Toolbox</td>\n      <td>1</td>\n      <td>5</td>\n      <td>4</td>\n      <td>20.000000</td>\n      <td>2</td>\n      <td>0</td>\n      <td>0</td>\n      <td>2020-09-20</td>\n    </tr>\n    <tr>\n      <th>14</th>\n      <td>Skill</td>\n      <td>2</td>\n      <td>Python Programming</td>\n      <td>2</td>\n      <td>6</td>\n      <td>4</td>\n      <td>33.333333</td>\n      <td>3</td>\n      <td>0</td>\n      <td>0</td>\n      <td>2020-09-18</td>\n    </tr>\n    <tr>\n      <th>15</th>\n      <td>Skill</td>\n      <td>3</td>\n      <td>Data Visualization with Python</td>\n      <td>0</td>\n      <td>5</td>\n      <td>5</td>\n      <td>0.000000</td>\n      <td>0</td>\n      <td>0</td>\n      <td>0</td>\n      <td>2020-10-06</td>\n    </tr>\n    <tr>\n      <th>16</th>\n      <td>Skill</td>\n      <td>4</td>\n      <td>Python Fundamentals</td>\n      <td>4</td>\n      <td>4</td>\n      <td>0</td>\n      <td>100.000000</td>\n      <td>4</td>\n      <td>0</td>\n      <td>0</td>\n      <td>2020-09-16</td>\n    </tr>\n    <tr>\n      <th>17</th>\n      <td>Skill</td>\n      <td>5</td>\n      <td>Deep Learning for NLP in Python</td>\n      <td>0</td>\n      <td>3</td>\n      <td>3</td>\n      <td>0.000000</td>\n      <td>0</td>\n      <td>0</td>\n      <td>0</td>\n      <td>2021-03-29</td>\n    </tr>\n    <tr>\n      <th>18</th>\n      <td>Skill</td>\n      <td>6</td>\n      <td>SQL for Business Analysts</td>\n      <td>0</td>\n      <td>5</td>\n      <td>5</td>\n      <td>0.000000</td>\n      <td>0</td>\n      <td>0</td>\n      <td>0</td>\n      <td>2021-04-02</td>\n    </tr>\n    <tr>\n      <th>19</th>\n      <td>Skill</td>\n      <td>7</td>\n      <td>Applied Finance in Python</td>\n      <td>0</td>\n      <td>4</td>\n      <td>4</td>\n      <td>0.000000</td>\n      <td>0</td>\n      <td>0</td>\n      <td>0</td>\n      <td>2021-03-06</td>\n    </tr>\n  </tbody>\n</table>\n</div>"
     },
     "metadata": {},
     "execution_count": 9
    }
   ],
   "source": [
    "statistics={\n",
    "    'Learn':['sum','count', remain, percent], \n",
    "                         'Github':'sum', \n",
    "                         'Video':'sum',\n",
    "                         'Pdf':'sum',\n",
    "                         'Planning Date':'min'}\n",
    "df_stats= df.sort_values(['Type','No','Track'],ascending=False).groupby(['Type','No','Track'], as_index=False).agg(statistics)\n",
    "df_stats.columns = [ \"_\".join(x) if x[0]=='Learn' else x[0] for x in df_stats.columns.ravel() ]\n",
    "# sum_learn=('learn',sum)\n",
    "df_stats\n"
   ]
  },
  {
   "source": [
    "\n",
    "for col in enumerate(df_stats.index):\n",
    "    #<class 'tuple'> . 2 . (0, ('Career', 1, 'Python Programmer')) . 0 . ('Career', 1, 'Python Programmer') . Career\n",
    "    df_stats.loc[col[1]]['my_index']=col[1]\n",
    "    #print(type(col), '.',len(col), '.',col,'.',col[0],'.',col[1],'.', col[1][0])\n",
    "    #print( df_stats.loc[col[1]])\n",
    "\n",
    "for col in enumerate(df_stats.columns):\n",
    "    print(type(col), '.',len(col), '.',col,'.',col[0],'.',col[1],'.', col[1][1], df_stats[col[1]].values[0])\n",
    "print((df_stats.columns)[0][1])\n",
    "df_stats['my_index2']=(df_stats.columns)[1][1]"
   ],
   "cell_type": "markdown",
   "metadata": {}
  },
  {
   "cell_type": "code",
   "execution_count": 11,
   "metadata": {
    "tags": []
   },
   "outputs": [],
   "source": [
    "df_stats[['day','month','year']] = df_stats['Planning Date'].apply(lambda x: pd.Series([x.day,x.month,x.year]))\n"
   ]
  },
  {
   "cell_type": "code",
   "execution_count": 13,
   "metadata": {
    "tags": []
   },
   "outputs": [
    {
     "output_type": "display_data",
     "data": {
      "application/vnd.plotly.v1+json": {
       "config": {
        "plotlyServerURL": "https://plot.ly"
       },
       "data": [
        {
         "alignmentgroup": "True",
         "hovertemplate": "Type=Career<br>value=%{x}<br>Track=%{y}<extra></extra>",
         "legendgroup": "Career",
         "marker": {
          "color": "#636efa"
         },
         "name": "Career",
         "offsetgroup": "Career",
         "orientation": "h",
         "showlegend": true,
         "textposition": "auto",
         "type": "bar",
         "x": [
          16,
          16,
          23,
          26,
          29,
          23,
          25,
          5,
          2,
          5,
          5,
          4,
          0,
          1
         ],
         "xaxis": "x",
         "y": [
          "Python Programmer",
          "Data Analyst with Python",
          "Data Scientist with Python",
          "Data Science for Everyone",
          "Machine Learning for Everyone",
          "Machine Learning Scientist with Python",
          "Data Engineer with Python",
          "Python Programmer",
          "Data Analyst with Python",
          "Data Scientist with Python",
          "Data Science for Everyone",
          "Machine Learning for Everyone",
          "Machine Learning Scientist with Python",
          "Data Engineer with Python"
         ],
         "yaxis": "y"
        },
        {
         "alignmentgroup": "True",
         "hovertemplate": "Type=Skill<br>value=%{x}<br>Track=%{y}<extra></extra>",
         "legendgroup": "Skill",
         "marker": {
          "color": "#EF553B"
         },
         "name": "Skill",
         "offsetgroup": "Skill",
         "orientation": "h",
         "showlegend": true,
         "textposition": "auto",
         "type": "bar",
         "x": [
          5,
          6,
          5,
          4,
          1,
          2,
          0,
          4
         ],
         "xaxis": "x",
         "y": [
          "Python Toolbox",
          "Python Programming",
          "Data Visualization with Python",
          "Python Fundamentals",
          "Python Toolbox",
          "Python Programming",
          "Data Visualization with Python",
          "Python Fundamentals"
         ],
         "yaxis": "y"
        }
       ],
       "layout": {
        "barmode": "relative",
        "legend": {
         "title": {
          "text": "Type"
         },
         "tracegroupgap": 0
        },
        "margin": {
         "t": 60
        },
        "template": {
         "data": {
          "bar": [
           {
            "error_x": {
             "color": "#2a3f5f"
            },
            "error_y": {
             "color": "#2a3f5f"
            },
            "marker": {
             "line": {
              "color": "#E5ECF6",
              "width": 0.5
             }
            },
            "type": "bar"
           }
          ],
          "barpolar": [
           {
            "marker": {
             "line": {
              "color": "#E5ECF6",
              "width": 0.5
             }
            },
            "type": "barpolar"
           }
          ],
          "carpet": [
           {
            "aaxis": {
             "endlinecolor": "#2a3f5f",
             "gridcolor": "white",
             "linecolor": "white",
             "minorgridcolor": "white",
             "startlinecolor": "#2a3f5f"
            },
            "baxis": {
             "endlinecolor": "#2a3f5f",
             "gridcolor": "white",
             "linecolor": "white",
             "minorgridcolor": "white",
             "startlinecolor": "#2a3f5f"
            },
            "type": "carpet"
           }
          ],
          "choropleth": [
           {
            "colorbar": {
             "outlinewidth": 0,
             "ticks": ""
            },
            "type": "choropleth"
           }
          ],
          "contour": [
           {
            "colorbar": {
             "outlinewidth": 0,
             "ticks": ""
            },
            "colorscale": [
             [
              0,
              "#0d0887"
             ],
             [
              0.1111111111111111,
              "#46039f"
             ],
             [
              0.2222222222222222,
              "#7201a8"
             ],
             [
              0.3333333333333333,
              "#9c179e"
             ],
             [
              0.4444444444444444,
              "#bd3786"
             ],
             [
              0.5555555555555556,
              "#d8576b"
             ],
             [
              0.6666666666666666,
              "#ed7953"
             ],
             [
              0.7777777777777778,
              "#fb9f3a"
             ],
             [
              0.8888888888888888,
              "#fdca26"
             ],
             [
              1,
              "#f0f921"
             ]
            ],
            "type": "contour"
           }
          ],
          "contourcarpet": [
           {
            "colorbar": {
             "outlinewidth": 0,
             "ticks": ""
            },
            "type": "contourcarpet"
           }
          ],
          "heatmap": [
           {
            "colorbar": {
             "outlinewidth": 0,
             "ticks": ""
            },
            "colorscale": [
             [
              0,
              "#0d0887"
             ],
             [
              0.1111111111111111,
              "#46039f"
             ],
             [
              0.2222222222222222,
              "#7201a8"
             ],
             [
              0.3333333333333333,
              "#9c179e"
             ],
             [
              0.4444444444444444,
              "#bd3786"
             ],
             [
              0.5555555555555556,
              "#d8576b"
             ],
             [
              0.6666666666666666,
              "#ed7953"
             ],
             [
              0.7777777777777778,
              "#fb9f3a"
             ],
             [
              0.8888888888888888,
              "#fdca26"
             ],
             [
              1,
              "#f0f921"
             ]
            ],
            "type": "heatmap"
           }
          ],
          "heatmapgl": [
           {
            "colorbar": {
             "outlinewidth": 0,
             "ticks": ""
            },
            "colorscale": [
             [
              0,
              "#0d0887"
             ],
             [
              0.1111111111111111,
              "#46039f"
             ],
             [
              0.2222222222222222,
              "#7201a8"
             ],
             [
              0.3333333333333333,
              "#9c179e"
             ],
             [
              0.4444444444444444,
              "#bd3786"
             ],
             [
              0.5555555555555556,
              "#d8576b"
             ],
             [
              0.6666666666666666,
              "#ed7953"
             ],
             [
              0.7777777777777778,
              "#fb9f3a"
             ],
             [
              0.8888888888888888,
              "#fdca26"
             ],
             [
              1,
              "#f0f921"
             ]
            ],
            "type": "heatmapgl"
           }
          ],
          "histogram": [
           {
            "marker": {
             "colorbar": {
              "outlinewidth": 0,
              "ticks": ""
             }
            },
            "type": "histogram"
           }
          ],
          "histogram2d": [
           {
            "colorbar": {
             "outlinewidth": 0,
             "ticks": ""
            },
            "colorscale": [
             [
              0,
              "#0d0887"
             ],
             [
              0.1111111111111111,
              "#46039f"
             ],
             [
              0.2222222222222222,
              "#7201a8"
             ],
             [
              0.3333333333333333,
              "#9c179e"
             ],
             [
              0.4444444444444444,
              "#bd3786"
             ],
             [
              0.5555555555555556,
              "#d8576b"
             ],
             [
              0.6666666666666666,
              "#ed7953"
             ],
             [
              0.7777777777777778,
              "#fb9f3a"
             ],
             [
              0.8888888888888888,
              "#fdca26"
             ],
             [
              1,
              "#f0f921"
             ]
            ],
            "type": "histogram2d"
           }
          ],
          "histogram2dcontour": [
           {
            "colorbar": {
             "outlinewidth": 0,
             "ticks": ""
            },
            "colorscale": [
             [
              0,
              "#0d0887"
             ],
             [
              0.1111111111111111,
              "#46039f"
             ],
             [
              0.2222222222222222,
              "#7201a8"
             ],
             [
              0.3333333333333333,
              "#9c179e"
             ],
             [
              0.4444444444444444,
              "#bd3786"
             ],
             [
              0.5555555555555556,
              "#d8576b"
             ],
             [
              0.6666666666666666,
              "#ed7953"
             ],
             [
              0.7777777777777778,
              "#fb9f3a"
             ],
             [
              0.8888888888888888,
              "#fdca26"
             ],
             [
              1,
              "#f0f921"
             ]
            ],
            "type": "histogram2dcontour"
           }
          ],
          "mesh3d": [
           {
            "colorbar": {
             "outlinewidth": 0,
             "ticks": ""
            },
            "type": "mesh3d"
           }
          ],
          "parcoords": [
           {
            "line": {
             "colorbar": {
              "outlinewidth": 0,
              "ticks": ""
             }
            },
            "type": "parcoords"
           }
          ],
          "pie": [
           {
            "automargin": true,
            "type": "pie"
           }
          ],
          "scatter": [
           {
            "marker": {
             "colorbar": {
              "outlinewidth": 0,
              "ticks": ""
             }
            },
            "type": "scatter"
           }
          ],
          "scatter3d": [
           {
            "line": {
             "colorbar": {
              "outlinewidth": 0,
              "ticks": ""
             }
            },
            "marker": {
             "colorbar": {
              "outlinewidth": 0,
              "ticks": ""
             }
            },
            "type": "scatter3d"
           }
          ],
          "scattercarpet": [
           {
            "marker": {
             "colorbar": {
              "outlinewidth": 0,
              "ticks": ""
             }
            },
            "type": "scattercarpet"
           }
          ],
          "scattergeo": [
           {
            "marker": {
             "colorbar": {
              "outlinewidth": 0,
              "ticks": ""
             }
            },
            "type": "scattergeo"
           }
          ],
          "scattergl": [
           {
            "marker": {
             "colorbar": {
              "outlinewidth": 0,
              "ticks": ""
             }
            },
            "type": "scattergl"
           }
          ],
          "scattermapbox": [
           {
            "marker": {
             "colorbar": {
              "outlinewidth": 0,
              "ticks": ""
             }
            },
            "type": "scattermapbox"
           }
          ],
          "scatterpolar": [
           {
            "marker": {
             "colorbar": {
              "outlinewidth": 0,
              "ticks": ""
             }
            },
            "type": "scatterpolar"
           }
          ],
          "scatterpolargl": [
           {
            "marker": {
             "colorbar": {
              "outlinewidth": 0,
              "ticks": ""
             }
            },
            "type": "scatterpolargl"
           }
          ],
          "scatterternary": [
           {
            "marker": {
             "colorbar": {
              "outlinewidth": 0,
              "ticks": ""
             }
            },
            "type": "scatterternary"
           }
          ],
          "surface": [
           {
            "colorbar": {
             "outlinewidth": 0,
             "ticks": ""
            },
            "colorscale": [
             [
              0,
              "#0d0887"
             ],
             [
              0.1111111111111111,
              "#46039f"
             ],
             [
              0.2222222222222222,
              "#7201a8"
             ],
             [
              0.3333333333333333,
              "#9c179e"
             ],
             [
              0.4444444444444444,
              "#bd3786"
             ],
             [
              0.5555555555555556,
              "#d8576b"
             ],
             [
              0.6666666666666666,
              "#ed7953"
             ],
             [
              0.7777777777777778,
              "#fb9f3a"
             ],
             [
              0.8888888888888888,
              "#fdca26"
             ],
             [
              1,
              "#f0f921"
             ]
            ],
            "type": "surface"
           }
          ],
          "table": [
           {
            "cells": {
             "fill": {
              "color": "#EBF0F8"
             },
             "line": {
              "color": "white"
             }
            },
            "header": {
             "fill": {
              "color": "#C8D4E3"
             },
             "line": {
              "color": "white"
             }
            },
            "type": "table"
           }
          ]
         },
         "layout": {
          "annotationdefaults": {
           "arrowcolor": "#2a3f5f",
           "arrowhead": 0,
           "arrowwidth": 1
          },
          "coloraxis": {
           "colorbar": {
            "outlinewidth": 0,
            "ticks": ""
           }
          },
          "colorscale": {
           "diverging": [
            [
             0,
             "#8e0152"
            ],
            [
             0.1,
             "#c51b7d"
            ],
            [
             0.2,
             "#de77ae"
            ],
            [
             0.3,
             "#f1b6da"
            ],
            [
             0.4,
             "#fde0ef"
            ],
            [
             0.5,
             "#f7f7f7"
            ],
            [
             0.6,
             "#e6f5d0"
            ],
            [
             0.7,
             "#b8e186"
            ],
            [
             0.8,
             "#7fbc41"
            ],
            [
             0.9,
             "#4d9221"
            ],
            [
             1,
             "#276419"
            ]
           ],
           "sequential": [
            [
             0,
             "#0d0887"
            ],
            [
             0.1111111111111111,
             "#46039f"
            ],
            [
             0.2222222222222222,
             "#7201a8"
            ],
            [
             0.3333333333333333,
             "#9c179e"
            ],
            [
             0.4444444444444444,
             "#bd3786"
            ],
            [
             0.5555555555555556,
             "#d8576b"
            ],
            [
             0.6666666666666666,
             "#ed7953"
            ],
            [
             0.7777777777777778,
             "#fb9f3a"
            ],
            [
             0.8888888888888888,
             "#fdca26"
            ],
            [
             1,
             "#f0f921"
            ]
           ],
           "sequentialminus": [
            [
             0,
             "#0d0887"
            ],
            [
             0.1111111111111111,
             "#46039f"
            ],
            [
             0.2222222222222222,
             "#7201a8"
            ],
            [
             0.3333333333333333,
             "#9c179e"
            ],
            [
             0.4444444444444444,
             "#bd3786"
            ],
            [
             0.5555555555555556,
             "#d8576b"
            ],
            [
             0.6666666666666666,
             "#ed7953"
            ],
            [
             0.7777777777777778,
             "#fb9f3a"
            ],
            [
             0.8888888888888888,
             "#fdca26"
            ],
            [
             1,
             "#f0f921"
            ]
           ]
          },
          "colorway": [
           "#636efa",
           "#EF553B",
           "#00cc96",
           "#ab63fa",
           "#FFA15A",
           "#19d3f3",
           "#FF6692",
           "#B6E880",
           "#FF97FF",
           "#FECB52"
          ],
          "font": {
           "color": "#2a3f5f"
          },
          "geo": {
           "bgcolor": "white",
           "lakecolor": "white",
           "landcolor": "#E5ECF6",
           "showlakes": true,
           "showland": true,
           "subunitcolor": "white"
          },
          "hoverlabel": {
           "align": "left"
          },
          "hovermode": "closest",
          "mapbox": {
           "style": "light"
          },
          "paper_bgcolor": "white",
          "plot_bgcolor": "#E5ECF6",
          "polar": {
           "angularaxis": {
            "gridcolor": "white",
            "linecolor": "white",
            "ticks": ""
           },
           "bgcolor": "#E5ECF6",
           "radialaxis": {
            "gridcolor": "white",
            "linecolor": "white",
            "ticks": ""
           }
          },
          "scene": {
           "xaxis": {
            "backgroundcolor": "#E5ECF6",
            "gridcolor": "white",
            "gridwidth": 2,
            "linecolor": "white",
            "showbackground": true,
            "ticks": "",
            "zerolinecolor": "white"
           },
           "yaxis": {
            "backgroundcolor": "#E5ECF6",
            "gridcolor": "white",
            "gridwidth": 2,
            "linecolor": "white",
            "showbackground": true,
            "ticks": "",
            "zerolinecolor": "white"
           },
           "zaxis": {
            "backgroundcolor": "#E5ECF6",
            "gridcolor": "white",
            "gridwidth": 2,
            "linecolor": "white",
            "showbackground": true,
            "ticks": "",
            "zerolinecolor": "white"
           }
          },
          "shapedefaults": {
           "line": {
            "color": "#2a3f5f"
           }
          },
          "ternary": {
           "aaxis": {
            "gridcolor": "white",
            "linecolor": "white",
            "ticks": ""
           },
           "baxis": {
            "gridcolor": "white",
            "linecolor": "white",
            "ticks": ""
           },
           "bgcolor": "#E5ECF6",
           "caxis": {
            "gridcolor": "white",
            "linecolor": "white",
            "ticks": ""
           }
          },
          "title": {
           "x": 0.05
          },
          "xaxis": {
           "automargin": true,
           "gridcolor": "white",
           "linecolor": "white",
           "ticks": "",
           "title": {
            "standoff": 15
           },
           "zerolinecolor": "white",
           "zerolinewidth": 2
          },
          "yaxis": {
           "automargin": true,
           "gridcolor": "white",
           "linecolor": "white",
           "ticks": "",
           "title": {
            "standoff": 15
           },
           "zerolinecolor": "white",
           "zerolinewidth": 2
          }
         }
        },
        "xaxis": {
         "anchor": "y",
         "domain": [
          0,
          1
         ],
         "title": {
          "text": "value"
         }
        },
        "yaxis": {
         "anchor": "x",
         "domain": [
          0,
          1
         ],
         "title": {
          "text": "Track"
         }
        }
       }
      }
     },
     "metadata": {}
    }
   ],
   "source": [
    "from datetime import datetime\n",
    "import plotly.express as px\n",
    "fig = px.bar(df_stats[df_stats['Planning Date'].dt.year==2020], x=[\"Learn_count\", \"Learn_sum\" ], y='Track',  color='Type')\n",
    "fig.show()"
   ]
  },
  {
   "cell_type": "code",
   "execution_count": 15,
   "metadata": {},
   "outputs": [
    {
     "output_type": "error",
     "ename": "ValueError",
     "evalue": "\nThe orca executable is required to export figures as static images,\nbut it could not be found on the system path.\n\nSearched for executable 'orca' on the following path:\n    C:\\Program Files (x86)\\Common Files\\Oracle\\Java\\javapath\n    C:\\Windows\\system32\n    C:\\Windows\n    C:\\Windows\\System32\\Wbem\n    C:\\Windows\\System32\\WindowsPowerShell\\v1.0\\\n    C:\\Windows\\System32\\OpenSSH\\\n    C:\\Program Files\\Microsoft SQL Server\\120\\Tools\\Binn\\\n    C:\\Program Files (x86)\\Microsoft SQL Server\\110\\Tools\\Binn\\\n    C:\\Program Files\\Microsoft SQL Server\\110\\Tools\\Binn\\\n    C:\\Program Files\\Microsoft SQL Server\\110\\DTS\\Binn\\\n    C:\\Program Files\\Microsoft SQL Server\\Client SDK\\ODBC\\110\\Tools\\Binn\\\n    C:\\Program Files (x86)\\Microsoft SQL Server\\120\\Tools\\Binn\\\n    C:\\Program Files\\Microsoft SQL Server\\120\\DTS\\Binn\\\n    C:\\Program Files\\nodejs\\\n    C:\\Program Files\\dotnet\\\n    C:\\Program Files\\Microsoft SQL Server\\130\\Tools\\Binn\\\n    C:\\Program Files\\Microsoft SQL Server\\Client SDK\\ODBC\\170\\Tools\\Binn\\\n    C:\\Program Files\\Git\\cmd\n    C:\\Users\\tuba.demir2\\.dnx\\bin\n    C:\\Users\\tuba.demir2\\AppData\\Local\\Microsoft\\WindowsApps\n    C:\\Users\\tuba.demir2\\AppData\\Local\\Programs\\Microsoft VS Code\\bin\n    C:\\Users\\tuba.demir2\\AppData\\Roaming\\npm\n    C:\\Program Files\\nodejs\n    C:\\Users\\tuba.demir2\\AppData\\Local\\Programs\\Git\\cmd\n    C:\\Users\\tuba.demir2\\.dotnet\\tools\n\nIf you haven't installed orca yet, you can do so using conda as follows:\n\n    $ conda install -c plotly plotly-orca\n\nAlternatively, see other installation methods in the orca project README at\nhttps://github.com/plotly/orca\n\nAfter installation is complete, no further configuration should be needed.\n\nIf you have installed orca, then for some reason plotly.py was unable to\nlocate it. In this case, set the `plotly.io.orca.config.executable`\nproperty to the full path of your orca executable. For example:\n\n    >>> plotly.io.orca.config.executable = '/path/to/orca'\n\nAfter updating this executable property, try the export operation again.\nIf it is successful then you may want to save this configuration so that it\nwill be applied automatically in future sessions. You can do this as follows:\n\n    >>> plotly.io.orca.config.save()\n\nIf you're still having trouble, feel free to ask for help on the forums at\nhttps://community.plot.ly/c/api/python\n",
     "traceback": [
      "\u001b[1;31m---------------------------------------------------------------------------\u001b[0m",
      "\u001b[1;31mValueError\u001b[0m                                Traceback (most recent call last)",
      "\u001b[1;32m<ipython-input-15-5d230f7f9f86>\u001b[0m in \u001b[0;36m<module>\u001b[1;34m\u001b[0m\n\u001b[1;32m----> 1\u001b[1;33m \u001b[0mfig\u001b[0m\u001b[1;33m.\u001b[0m\u001b[0mto_image\u001b[0m\u001b[1;33m(\u001b[0m\u001b[1;34m\"images/f.png\"\u001b[0m\u001b[1;33m)\u001b[0m\u001b[1;33m\u001b[0m\u001b[1;33m\u001b[0m\u001b[0m\n\u001b[0m",
      "\u001b[1;32m~\\AppData\\Local\\Programs\\Python\\Python38-32\\lib\\site-packages\\plotly\\basedatatypes.py\u001b[0m in \u001b[0;36mto_image\u001b[1;34m(self, *args, **kwargs)\u001b[0m\n\u001b[0;32m   3215\u001b[0m         \u001b[1;32mimport\u001b[0m \u001b[0mplotly\u001b[0m\u001b[1;33m.\u001b[0m\u001b[0mio\u001b[0m \u001b[1;32mas\u001b[0m \u001b[0mpio\u001b[0m\u001b[1;33m\u001b[0m\u001b[1;33m\u001b[0m\u001b[0m\n\u001b[0;32m   3216\u001b[0m \u001b[1;33m\u001b[0m\u001b[0m\n\u001b[1;32m-> 3217\u001b[1;33m         \u001b[1;32mreturn\u001b[0m \u001b[0mpio\u001b[0m\u001b[1;33m.\u001b[0m\u001b[0mto_image\u001b[0m\u001b[1;33m(\u001b[0m\u001b[0mself\u001b[0m\u001b[1;33m,\u001b[0m \u001b[1;33m*\u001b[0m\u001b[0margs\u001b[0m\u001b[1;33m,\u001b[0m \u001b[1;33m**\u001b[0m\u001b[0mkwargs\u001b[0m\u001b[1;33m)\u001b[0m\u001b[1;33m\u001b[0m\u001b[1;33m\u001b[0m\u001b[0m\n\u001b[0m\u001b[0;32m   3218\u001b[0m \u001b[1;33m\u001b[0m\u001b[0m\n\u001b[0;32m   3219\u001b[0m     \u001b[1;32mdef\u001b[0m \u001b[0mwrite_image\u001b[0m\u001b[1;33m(\u001b[0m\u001b[0mself\u001b[0m\u001b[1;33m,\u001b[0m \u001b[1;33m*\u001b[0m\u001b[0margs\u001b[0m\u001b[1;33m,\u001b[0m \u001b[1;33m**\u001b[0m\u001b[0mkwargs\u001b[0m\u001b[1;33m)\u001b[0m\u001b[1;33m:\u001b[0m\u001b[1;33m\u001b[0m\u001b[1;33m\u001b[0m\u001b[0m\n",
      "\u001b[1;32m~\\AppData\\Local\\Programs\\Python\\Python38-32\\lib\\site-packages\\plotly\\io\\_kaleido.py\u001b[0m in \u001b[0;36mto_image\u001b[1;34m(fig, format, width, height, scale, validate, engine)\u001b[0m\n\u001b[0;32m    101\u001b[0m         \u001b[1;32mfrom\u001b[0m \u001b[1;33m.\u001b[0m\u001b[0m_orca\u001b[0m \u001b[1;32mimport\u001b[0m \u001b[0mto_image\u001b[0m \u001b[1;32mas\u001b[0m \u001b[0mto_image_orca\u001b[0m\u001b[1;33m\u001b[0m\u001b[1;33m\u001b[0m\u001b[0m\n\u001b[0;32m    102\u001b[0m \u001b[1;33m\u001b[0m\u001b[0m\n\u001b[1;32m--> 103\u001b[1;33m         return to_image_orca(\n\u001b[0m\u001b[0;32m    104\u001b[0m             \u001b[0mfig\u001b[0m\u001b[1;33m,\u001b[0m\u001b[1;33m\u001b[0m\u001b[1;33m\u001b[0m\u001b[0m\n\u001b[0;32m    105\u001b[0m             \u001b[0mformat\u001b[0m\u001b[1;33m=\u001b[0m\u001b[0mformat\u001b[0m\u001b[1;33m,\u001b[0m\u001b[1;33m\u001b[0m\u001b[1;33m\u001b[0m\u001b[0m\n",
      "\u001b[1;32m~\\AppData\\Local\\Programs\\Python\\Python38-32\\lib\\site-packages\\plotly\\io\\_orca.py\u001b[0m in \u001b[0;36mto_image\u001b[1;34m(fig, format, width, height, scale, validate)\u001b[0m\n\u001b[0;32m   1533\u001b[0m     \u001b[1;31m# Make sure orca sever is running\u001b[0m\u001b[1;33m\u001b[0m\u001b[1;33m\u001b[0m\u001b[1;33m\u001b[0m\u001b[0m\n\u001b[0;32m   1534\u001b[0m     \u001b[1;31m# -------------------------------\u001b[0m\u001b[1;33m\u001b[0m\u001b[1;33m\u001b[0m\u001b[1;33m\u001b[0m\u001b[0m\n\u001b[1;32m-> 1535\u001b[1;33m     \u001b[0mensure_server\u001b[0m\u001b[1;33m(\u001b[0m\u001b[1;33m)\u001b[0m\u001b[1;33m\u001b[0m\u001b[1;33m\u001b[0m\u001b[0m\n\u001b[0m\u001b[0;32m   1536\u001b[0m \u001b[1;33m\u001b[0m\u001b[0m\n\u001b[0;32m   1537\u001b[0m     \u001b[1;31m# Handle defaults\u001b[0m\u001b[1;33m\u001b[0m\u001b[1;33m\u001b[0m\u001b[1;33m\u001b[0m\u001b[0m\n",
      "\u001b[1;32m~\\AppData\\Local\\Programs\\Python\\Python38-32\\lib\\site-packages\\plotly\\io\\_orca.py\u001b[0m in \u001b[0;36mensure_server\u001b[1;34m()\u001b[0m\n\u001b[0;32m   1388\u001b[0m         \u001b[1;31m# Validate orca executable only if server_url is not provided\u001b[0m\u001b[1;33m\u001b[0m\u001b[1;33m\u001b[0m\u001b[1;33m\u001b[0m\u001b[0m\n\u001b[0;32m   1389\u001b[0m         \u001b[1;32mif\u001b[0m \u001b[0mstatus\u001b[0m\u001b[1;33m.\u001b[0m\u001b[0mstate\u001b[0m \u001b[1;33m==\u001b[0m \u001b[1;34m\"unvalidated\"\u001b[0m\u001b[1;33m:\u001b[0m\u001b[1;33m\u001b[0m\u001b[1;33m\u001b[0m\u001b[0m\n\u001b[1;32m-> 1390\u001b[1;33m             \u001b[0mvalidate_executable\u001b[0m\u001b[1;33m(\u001b[0m\u001b[1;33m)\u001b[0m\u001b[1;33m\u001b[0m\u001b[1;33m\u001b[0m\u001b[0m\n\u001b[0m\u001b[0;32m   1391\u001b[0m         \u001b[1;31m# Acquire lock to make sure that we keep the properties of orca_state\u001b[0m\u001b[1;33m\u001b[0m\u001b[1;33m\u001b[0m\u001b[1;33m\u001b[0m\u001b[0m\n\u001b[0;32m   1392\u001b[0m         \u001b[1;31m# consistent across threads\u001b[0m\u001b[1;33m\u001b[0m\u001b[1;33m\u001b[0m\u001b[1;33m\u001b[0m\u001b[0m\n",
      "\u001b[1;32m~\\AppData\\Local\\Programs\\Python\\Python38-32\\lib\\site-packages\\plotly\\io\\_orca.py\u001b[0m in \u001b[0;36mvalidate_executable\u001b[1;34m()\u001b[0m\n\u001b[0;32m   1074\u001b[0m \u001b[1;33m\u001b[0m\u001b[0m\n\u001b[0;32m   1075\u001b[0m     \u001b[1;32mif\u001b[0m \u001b[0mexecutable\u001b[0m \u001b[1;32mis\u001b[0m \u001b[1;32mNone\u001b[0m\u001b[1;33m:\u001b[0m\u001b[1;33m\u001b[0m\u001b[1;33m\u001b[0m\u001b[0m\n\u001b[1;32m-> 1076\u001b[1;33m         raise ValueError(\n\u001b[0m\u001b[0;32m   1077\u001b[0m             \"\"\"\n\u001b[0;32m   1078\u001b[0m \u001b[0mThe\u001b[0m \u001b[0morca\u001b[0m \u001b[0mexecutable\u001b[0m \u001b[1;32mis\u001b[0m \u001b[0mrequired\u001b[0m \u001b[0mto\u001b[0m \u001b[0mexport\u001b[0m \u001b[0mfigures\u001b[0m \u001b[1;32mas\u001b[0m \u001b[0mstatic\u001b[0m \u001b[0mimages\u001b[0m\u001b[1;33m,\u001b[0m\u001b[1;33m\u001b[0m\u001b[1;33m\u001b[0m\u001b[0m\n",
      "\u001b[1;31mValueError\u001b[0m: \nThe orca executable is required to export figures as static images,\nbut it could not be found on the system path.\n\nSearched for executable 'orca' on the following path:\n    C:\\Program Files (x86)\\Common Files\\Oracle\\Java\\javapath\n    C:\\Windows\\system32\n    C:\\Windows\n    C:\\Windows\\System32\\Wbem\n    C:\\Windows\\System32\\WindowsPowerShell\\v1.0\\\n    C:\\Windows\\System32\\OpenSSH\\\n    C:\\Program Files\\Microsoft SQL Server\\120\\Tools\\Binn\\\n    C:\\Program Files (x86)\\Microsoft SQL Server\\110\\Tools\\Binn\\\n    C:\\Program Files\\Microsoft SQL Server\\110\\Tools\\Binn\\\n    C:\\Program Files\\Microsoft SQL Server\\110\\DTS\\Binn\\\n    C:\\Program Files\\Microsoft SQL Server\\Client SDK\\ODBC\\110\\Tools\\Binn\\\n    C:\\Program Files (x86)\\Microsoft SQL Server\\120\\Tools\\Binn\\\n    C:\\Program Files\\Microsoft SQL Server\\120\\DTS\\Binn\\\n    C:\\Program Files\\nodejs\\\n    C:\\Program Files\\dotnet\\\n    C:\\Program Files\\Microsoft SQL Server\\130\\Tools\\Binn\\\n    C:\\Program Files\\Microsoft SQL Server\\Client SDK\\ODBC\\170\\Tools\\Binn\\\n    C:\\Program Files\\Git\\cmd\n    C:\\Users\\tuba.demir2\\.dnx\\bin\n    C:\\Users\\tuba.demir2\\AppData\\Local\\Microsoft\\WindowsApps\n    C:\\Users\\tuba.demir2\\AppData\\Local\\Programs\\Microsoft VS Code\\bin\n    C:\\Users\\tuba.demir2\\AppData\\Roaming\\npm\n    C:\\Program Files\\nodejs\n    C:\\Users\\tuba.demir2\\AppData\\Local\\Programs\\Git\\cmd\n    C:\\Users\\tuba.demir2\\.dotnet\\tools\n\nIf you haven't installed orca yet, you can do so using conda as follows:\n\n    $ conda install -c plotly plotly-orca\n\nAlternatively, see other installation methods in the orca project README at\nhttps://github.com/plotly/orca\n\nAfter installation is complete, no further configuration should be needed.\n\nIf you have installed orca, then for some reason plotly.py was unable to\nlocate it. In this case, set the `plotly.io.orca.config.executable`\nproperty to the full path of your orca executable. For example:\n\n    >>> plotly.io.orca.config.executable = '/path/to/orca'\n\nAfter updating this executable property, try the export operation again.\nIf it is successful then you may want to save this configuration so that it\nwill be applied automatically in future sessions. You can do this as follows:\n\n    >>> plotly.io.orca.config.save()\n\nIf you're still having trouble, feel free to ask for help on the forums at\nhttps://community.plot.ly/c/api/python\n"
     ]
    }
   ],
   "source": [
    "fig.to_image(\"images/f.png\")"
   ]
  },
  {
   "cell_type": "markdown",
   "metadata": {},
   "source": [
    "** This is dictionary of career tracks including courses with order number **"
   ]
  },
  {
   "cell_type": "code",
   "execution_count": 17,
   "metadata": {
    "tags": []
   },
   "outputs": [],
   "source": [
    "career_tracks= list(map( lambda Track :{Track: dict(zip(df[df['Track']==Track].order, df[df['Track']==Track]['Course']))}, df[df['Type']=='Career'].Track))"
   ]
  },
  {
   "cell_type": "code",
   "execution_count": 18,
   "metadata": {
    "tags": []
   },
   "outputs": [
    {
     "output_type": "stream",
     "name": "stdout",
     "text": [
      "{'Machine Learning for Everyone': {23: 'Advanced Deep Learning with Keras', 12: 'Cluster Analysis in Python', 13: 'Dimensionality Reduction in Python', 11: 'Extreme Gradient Boosting with XGBoost', 16: 'Feature Engineering for Machine Learning in Python', 19: 'Feature Engineering for NLP in Python', 26: 'Hyperparameter Tuning in Python', 24: 'Image Processing in Python', 25: 'Image Processing with Keras in Python', 3: 'Intermediate Python', 21: 'Introduction to Deep Learning in Python', 22: 'Introduction to Deep Learning with Keras', 18: 'Introduction to Natural Language Processing in Python', 27: 'Introduction to PySpark', 2: 'Introduction to Python', 20: 'Introduction to TensorFlow in Python', 9: 'Linear Classifiers in Python', 1: 'Machine Learning for Everyone', 15: 'Machine Learning for Time Series Data in Python', 28: 'Machine Learning with PySpark', 10: 'Machine Learning with Tree-Based Models in Python', 17: 'Model Validation in Python', 14: 'Preprocessing for Machine Learning in Python', 4: 'Python Data Science Toolbox (Part 1)', 5: 'Python Data Science Toolbox (Part 2)', 6: 'Statistical Thinking in Python (Part 1)', 7: 'Supervised Learning with scikit-learn', 8: 'Unsupervised Learning in Python', 29: 'Winning a Kaggle Competition in Python'}}\n{'Machine Learning Scientist with Python': {17: 'Advanced Deep Learning with Keras', 6: 'Cluster Analysis in Python', 7: 'Dimensionality Reduction in Python', 5: 'Extreme Gradient Boosting with XGBoost', 10: 'Feature Engineering for Machine Learning in Python', 13: 'Feature Engineering for NLP in Python', 20: 'Hyperparameter Tuning in Python', 18: 'Image Processing in Python', 19: 'Image Processing with Keras in Python', 15: 'Introduction to Deep Learning in Python', 16: 'Introduction to Deep Learning with Keras', 12: 'Introduction to Natural Language Processing in Python', 21: 'Introduction to PySpark', 14: 'Introduction to TensorFlow in Python', 3: 'Linear Classifiers in Python', 9: 'Machine Learning for Time Series Data in Python', 22: 'Machine Learning with PySpark', 4: 'Machine Learning with Tree-Based Models in Python', 11: 'Model Validation in Python', 8: 'Preprocessing for Machine Learning in Python', 1: 'Supervised Learning with scikit-learn', 2: 'Unsupervised Learning in Python', 23: 'Winning a Kaggle Competition in Python'}}\n{'Data Analyst with Python': {11: 'Analyzing Police Activity with pandas', 9: 'Cleaning Data in Python', 3: 'Data Manipulation with pandas', 10: 'Exploratory Data Analysis in Python', 8: 'Intermediate Importing Data in Python', 2: 'Intermediate Python', 1: 'Introduction to Data Science in Python', 5: 'Introduction to Data Visualization with Matplotlib', 6: 'Introduction to Data Visualization with Seaborn', 16: 'Introduction to Databases in Python', 7: 'Introduction to Importing Data in Python', 14: 'Introduction to Relational Databases in SQL', 12: 'Introduction to SQ', 15: 'Joining Data in SQL', 4: 'Joining Data with pandas', 13: 'Streamlined Data Ingestion with pandas'}}\n{'Data Scientist with Python': {16: 'Analyzing Police Activity with pandas', 22: 'Case Study: School Budgeting with Machine Learning i...', 12: 'Cleaning Data in Python', 23: 'Cluster Analysis in Python', 3: 'Data Manipulation with pandas', 15: 'Exploratory Data Analysis in Python', 9: 'Intermediate Data Visualization with Seaborn', 11: 'Intermediate Importing Data in Python', 2: 'Intermediate Python', 5: 'Introduction to Data Visualization with Matplotlib', 6: 'Introduction to Data Visualization with Seaborn', 10: 'Introduction to Importing Data in Python', 1: 'Introduction to Python', 4: 'Joining Data with pandas', 21: 'Machine Learning with Tree-Based Models in Python', 7: 'Python Data Science Toolbox (Part 1)', 8: 'Python Data Science Toolbox (Part 2)', 17: 'Statistical Thinking in Python (Part 1)', 18: 'Statistical Thinking in Python (Part 2)', 19: 'Supervised Learning with scikit-learn', 20: 'Unsupervised Learning in Python', 13: 'Working with Dates and Times in Python', 14: 'Writing Functions in Python'}}\n{'Data Science for Everyone': {11: 'Analyzing Police Activity with pandas', 22: 'Case Study: School Budgeting with Machine Learning i...', 10: 'Cleaning Data in Python', 20: 'Conda Essentials', 8: 'Data Manipulation with pandas', 1: 'Data Science for Everyone', 7: 'Intermediate Importing Data in Python', 3: 'Intermediate Python', 14: 'Introduction to Data Visualization with Matplotlib', 15: 'Introduction to Data Visualization with Seaborn', 25: 'Introduction to Deep Learning in Python', 6: 'Introduction to Importing Data in Python', 26: 'Introduction to Network Analysis in Python', 2: 'Introduction to Python', 13: 'Introduction to Relational Databases in SQL', 19: 'Introduction to Shell', 12: 'Introduction to SQL', 18: 'Joining Data in SQL', 9: 'Joining Data with pandas', 24: 'Machine Learning with Tree-Based Models in Python', 4: 'Python Data Science Toolbox (Part 1)', 5: 'Python Data Science Toolbox (Part 2)', 16: 'Statistical Thinking in Python (Part 1)', 17: 'Statistical Thinking in Python (Part 2)', 21: 'Supervised Learning with scikit-learn', 23: 'Unsupervised Learning in Python'}}\n"
     ]
    }
   ],
   "source": [
    "for career in career_tracks[:5]:\n",
    "    print(career)"
   ]
  },
  {
   "cell_type": "code",
   "execution_count": 19,
   "metadata": {
    "tags": []
   },
   "outputs": [
    {
     "output_type": "stream",
     "name": "stdout",
     "text": [
      ". (0, 182) .\n. (1, 26) .\n"
     ]
    }
   ],
   "source": [
    "\n",
    "from collections import Counter\n",
    "learn_count= Counter(df.Learn)\n",
    "for course in learn_count.most_common(5):\n",
    "    print('.',course,'.')"
   ]
  },
  {
   "cell_type": "code",
   "execution_count": 20,
   "metadata": {
    "tags": []
   },
   "outputs": [
    {
     "output_type": "stream",
     "name": "stdout",
     "text": [
      "['No', 'Track', 'Type', 'order', 'Course', 'Planning Date', 'Watch', 'Learn', 'Github', 'Video', 'Pdf']\n"
     ]
    }
   ],
   "source": [
    "print(sheet1.row_values(1))\n",
    "#dir(sheet1)\n"
   ]
  },
  {
   "cell_type": "code",
   "execution_count": null,
   "metadata": {},
   "outputs": [],
   "source": []
  }
 ]
}