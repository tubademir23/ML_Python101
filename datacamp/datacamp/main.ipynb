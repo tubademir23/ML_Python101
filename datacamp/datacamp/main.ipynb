{
 "metadata": {
  "language_info": {
   "codemirror_mode": {
    "name": "ipython",
    "version": 3
   },
   "file_extension": ".py",
   "mimetype": "text/x-python",
   "name": "python",
   "nbconvert_exporter": "python",
   "pygments_lexer": "ipython3",
   "version": "3.8.3-final"
  },
  "orig_nbformat": 2,
  "kernelspec": {
   "name": "python38332bit74facea1a310476ca0c9492d821273ec",
   "display_name": "Python 3.8.3 32-bit"
  }
 },
 "nbformat": 4,
 "nbformat_minor": 2,
 "cells": [
  {
   "cell_type": "markdown",
   "metadata": {},
   "source": [
    "## With this notebook; \n",
    "\n",
    "* I want to keep up my DataCamp Tracks, I created the dataset by the courses which I am interested in individually including track information and put dataset on my Google Drive acoount. For reading Google spreadsheet; after create project and Api Authentication(Google Sheet API and Google Drive API), I started to read from drive excel.\n",
    "\n",
    "* My goal is to follow up on this file and work on the current file instead of a fixed dataset so that I can follow my progress.\n",
    "* While I was developing my Data Science skills with the DataCamp course, this training time also will be a project for me :)"
   ]
  },
  {
   "cell_type": "code",
   "execution_count": 1,
   "metadata": {
    "tags": []
   },
   "outputs": [],
   "source": [
    "import gspread\n",
    "\n",
    "gc=gspread.oauth()\n",
    "sheet1 = gc.open(\"datacamp\").sheet1\n",
    "\n",
    "data = sheet1.get_all_values()\n",
    "headers = data.pop(0)\n"
   ]
  },
  {
   "cell_type": "code",
   "execution_count": 2,
   "metadata": {
    "tags": []
   },
   "outputs": [],
   "source": [
    "\n",
    "import pandas as pd\n",
    "df = pd.DataFrame(data, columns=headers)"
   ]
  },
  {
   "cell_type": "markdown",
   "metadata": {},
   "source": [
    "** pre_processing data, NaN values, dtypes **"
   ]
  },
  {
   "cell_type": "code",
   "execution_count": 3,
   "metadata": {
    "tags": []
   },
   "outputs": [
    {
     "output_type": "stream",
     "name": "stdout",
     "text": "No                        int32\nTrack                    object\nType                     object\norder                     int32\nCourse                   object\nPlanning Date    datetime64[ns]\nWatch                     int32\nLearn                     int32\nGithub                    int32\nVideo                     int32\nPdf                       int32\ndtype: object\n"
    }
   ],
   "source": [
    "df.replace('', 0, inplace=True)\n",
    "df['Planning Date']=pd.to_datetime(df['Planning Date'])\n",
    "col_dict={'No':int, 'order':int,'Watch':int,'Learn':int,'Github':int,'Video':int,'Pdf':int}\n",
    "for k, v in col_dict.items():\n",
    "    df[k]=df[k].astype(v)\n",
    "print(df.dtypes)"
   ]
  },
  {
   "cell_type": "markdown",
   "metadata": {},
   "source": [
    "** define necessary methods for statisticals **"
   ]
  },
  {
   "cell_type": "code",
   "execution_count": 4,
   "metadata": {},
   "outputs": [],
   "source": [
    "def remain(x):\n",
    "    return x.count() - x.sum()\n",
    "remain.__name__ = 'Remain'\n",
    "\n",
    "def percent(x):\n",
    "    return x.sum()*100 / x.count()\n",
    "percent.__name__='Comp. %'"
   ]
  },
  {
   "cell_type": "markdown",
   "metadata": {},
   "source": [
    "** some courses take place in multiple tracks. Once you complete one, others must be update as completed  as well. **"
   ]
  },
  {
   "cell_type": "code",
   "execution_count": 5,
   "metadata": {
    "tags": []
   },
   "outputs": [
    {
     "output_type": "stream",
     "name": "stdout",
     "text": "('Python Data Science Toolbox (Part 1)', 5)\n('Python Data Science Toolbox (Part 2)', 5)\n('Intermediate Python', 5)\n('Data Manipulation with pandas', 4)\n('Writing Efficient Python Code', 4)\n('Writing Functions in Python', 4)\n('Introduction to Data Visualization with Seaborn', 4)\n('Introduction to Python', 4)\n('Supervised Learning with scikit-learn', 4)\n('Unsupervised Learning in Python', 4)\n('Machine Learning with Tree-Based Models in Python', 4)\n('Working with Dates and Times in Python', 3)\n('Introduction to Shell', 3)\n('Unit Testing for Data Science in Python', 3)\n('Object-Oriented Programming in Python', 3)\n('Joining Data with pandas', 3)\n('Introduction to Data Visualization with Matplotlib', 3)\n('Introduction to Importing Data in Python', 3)\n('Intermediate Importing Data in Python', 3)\n('Cleaning Data in Python', 3)\n('Analyzing Police Activity with pandas', 3)\n('Introduction to Relational Databases in SQL', 3)\n('Statistical Thinking in Python (Part 1)', 3)\n('Cluster Analysis in Python', 3)\n('Introduction to Deep Learning in Python', 3)\n('Introduction to PySpark', 3)\n('Introduction to Data Science in Python', 2)\n('Regular Expressions in Python', 2)\n('Conda Essentials', 2)\n('Software Engineering for Data Scientists in Python', 2)\n('Exploratory Data Analysis in Python', 2)\n('Streamlined Data Ingestion with pandas', 2)\n('Joining Data in SQL', 2)\n('Statistical Thinking in Python (Part 2)', 2)\n('Case Study: School Budgeting with Machine Learning i...', 2)\n('Visualizing Geospatial Data in Python', 2)\n('Linear Classifiers in Python', 2)\n('Extreme Gradient Boosting with XGBoost', 2)\n('Dimensionality Reduction in Python', 2)\n('Preprocessing for Machine Learning in Python', 2)\n('Machine Learning for Time Series Data in Python', 2)\n('Feature Engineering for Machine Learning in Python', 2)\n('Model Validation in Python', 2)\n('Introduction to Natural Language Processing in Python', 2)\n('Feature Engineering for NLP in Python', 2)\n('Introduction to TensorFlow in Python', 2)\n('Introduction to Deep Learning with Keras', 2)\n('Advanced Deep Learning with Keras', 2)\n('Image Processing in Python', 2)\n('Image Processing with Keras in Python', 2)\n('Hyperparameter Tuning in Python', 2)\n('Machine Learning with PySpark', 2)\n('Winning a Kaggle Competition in Python', 2)\n('Data Types for Data Science in Python', 1)\n('Web Scraping in Python<', 1)\n('Parallel Programming with Dask in Python', 1)\n('Dealing with Missing Data in Python', 1)\n('Practicing Coding Interview Questions in Python', 1)\n('Introduction to SQ', 1)\n('Introduction to Databases in Python', 1)\n('Writing Efficient Code with pandas', 1)\n('Intermediate Data Visualization with Seaborn', 1)\n('Improving Your Data Visualizations in Python', 1)\n('Interactive Data Visualization with Bokeh', 1)\n('Data Science for Everyone', 1)\n('Introduction to SQL', 1)\n('Introduction to Network Analysis in Python', 1)\n('Machine Learning for Everyone', 1)\n('Recurrent Neural Networks for Language Modeling in P...', 1)\n('Machine Translation in Python', 1)\n('Natural Language Generation in Python', 1)\n('Exploratory Data Analysis in SQL', 1)\n('Data-Driven Decision Making in SQL', 1)\n('Applying SQL to Real-World Problems', 1)\n('Analyzing Business Data in SQL', 1)\n('Reporting in SQL', 1)\n('Data Engineering for Everyone', 1)\n('Introduction to Data Engineering', 1)\n('Data Processing in Shell', 1)\n('Introduction to Bash Scripting', 1)\n('Introduction to Airflow in Python', 1)\n('Building Data Engineering Pipelines in Python', 1)\n('Introduction to AWS Boto in Python', 1)\n('Database Design', 1)\n('Introduction to Scala', 1)\n('Big Data Fundamentals with PySpark', 1)\n('Cleaning Data with PySpark', 1)\n('Introduction to Spark SQL in Python', 1)\n('Cleaning Data in SQL Server Databases', 1)\n('Transactions and Error Handling in SQL Server', 1)\n('Building and Optimizing Triggers in SQL Server', 1)\n('Improving Query Performance in SQL Server', 1)\n('Introduction to MongoDB in Python', 1)\n('Credit Risk Modeling in Python', 1)\n('GARCH Models in Python', 1)\n('Introduction to Portfolio Risk Management in Python', 1)\n('Quantitative Risk Management in Python', 1)\n('Building Chatbots in Python', 1)\n('Spoken Language Processing in Python', 1)\n('Customer Analytics and A/B Testing in Python', 1)\n('Customer Segmentation in Python', 1)\n('Command Line Automation in Python', 1)\n('Designing Machine Learning Workflows in Python', 1)\n('Ensemble Methods in Python', 1)\n('Feature Engineering with PySpark', 1)\n('Fraud Detection in Python', 1)\n('Human Resources Analytics: Predicting Employee Churn in Python', 1)\n('Introduction to Financial Concepts in Python', 1)\n('Introduction to Predictive Analytics in Python', 1)\n('Machine Learning for Finance in Python', 1)\n('Practicing Machine Learning Interview Questions in Python', 1)\n('Practicing Statistics Interview Questions in Python', 1)\n('Statistical Simulation in Python', 1)\n('Supply Chain Analytics in Python', 1)\n('Working with the Class System in Python', 1)\n"
    }
   ],
   "source": [
    "from collections import Counter\n",
    "course_count= Counter(df.Course)\n",
    "for course in course_count.most_common():\n",
    "    print(course)\n"
   ]
  },
  {
   "cell_type": "code",
   "execution_count": 6,
   "metadata": {
    "tags": []
   },
   "outputs": [],
   "source": [
    "update_columns={'Watch':'max', 'Learn':'max', 'Github':'max', 'Video':'max','Pdf':'max','Planning Date':'min'}\n",
    "max_=df.groupby('Course').agg(update_columns)\n",
    "for key, row_ in zip(max_.index, max_.values):\n",
    "    df.loc[df.Course==key, update_columns.keys()]=row_"
   ]
  },
  {
   "cell_type": "markdown",
   "metadata": {},
   "source": [
    "** summary table for completence of the course, skill tracks **"
   ]
  },
  {
   "cell_type": "code",
   "execution_count": 7,
   "metadata": {},
   "outputs": [
    {
     "output_type": "execute_result",
     "data": {
      "text/plain": "                                                 Learn               \\\n                                                   sum count Remain   \nType   No Track                                                       \nCareer 1  Python Programmer                          2    16     14   \n       2  Data Analyst with Python                   1    16     15   \n       3  Data Scientist with Python                 2    23     21   \n       4  Data Science for Everyone                  2    26     24   \n       5  Machine Learning for Everyone              1    29     28   \n       6  Machine Learning Scientist with Python     0    23     23   \n       7  Data Engineer with Python                  0    25     25   \nCourse 18 Natural Language Processing in Python      0     2      2   \n       19 Marketing Analytics with Python            0     2      2   \n       20 Big Data with PySpark                      0     1      1   \n          Finance Fundamentals in Python             0     1      1   \n          Statistics Fundamentals with Python        0     1      1   \n          Tek                                        0    11     11   \nSkill  1  Python Toolbox                             0     5      5   \n       2  Python Programming                         0     6      6   \n       3  Data Visualization with Python             0     5      5   \n       4  Python Fundamentals                        1     4      3   \n       5  Deep Learning for NLP in Python            0     3      3   \n       6  SQL for Business Analysts                  0     5      5   \n       7  Applied Finance in Python                  0     4      4   \n\n                                                            Github Video Pdf  \n                                                    Comp. %    sum   sum sum  \nType   No Track                                                               \nCareer 1  Python Programmer                       12.500000      4     0   0  \n       2  Data Analyst with Python                 6.250000      1     0   0  \n       3  Data Scientist with Python               8.695652      4     0   0  \n       4  Data Science for Everyone                7.692308      2     0   0  \n       5  Machine Learning for Everyone            3.448276      1     0   0  \n       6  Machine Learning Scientist with Python   0.000000      0     0   0  \n       7  Data Engineer with Python                0.000000      1     0   0  \nCourse 18 Natural Language Processing in Python    0.000000      0     0   0  \n       19 Marketing Analytics with Python          0.000000      0     0   0  \n       20 Big Data with PySpark                    0.000000      0     0   0  \n          Finance Fundamentals in Python           0.000000      0     0   0  \n          Statistics Fundamentals with Python      0.000000      0     0   0  \n          Tek                                      0.000000      0     0   0  \nSkill  1  Python Toolbox                           0.000000      1     0   0  \n       2  Python Programming                       0.000000      1     0   0  \n       3  Data Visualization with Python           0.000000      0     0   0  \n       4  Python Fundamentals                     25.000000      1     0   0  \n       5  Deep Learning for NLP in Python          0.000000      0     0   0  \n       6  SQL for Business Analysts                0.000000      0     0   0  \n       7  Applied Finance in Python                0.000000      0     0   0  ",
      "text/html": "<div>\n<style scoped>\n    .dataframe tbody tr th:only-of-type {\n        vertical-align: middle;\n    }\n\n    .dataframe tbody tr th {\n        vertical-align: top;\n    }\n\n    .dataframe thead tr th {\n        text-align: left;\n    }\n\n    .dataframe thead tr:last-of-type th {\n        text-align: right;\n    }\n</style>\n<table border=\"1\" class=\"dataframe\">\n  <thead>\n    <tr>\n      <th></th>\n      <th></th>\n      <th></th>\n      <th colspan=\"4\" halign=\"left\">Learn</th>\n      <th>Github</th>\n      <th>Video</th>\n      <th>Pdf</th>\n    </tr>\n    <tr>\n      <th></th>\n      <th></th>\n      <th></th>\n      <th>sum</th>\n      <th>count</th>\n      <th>Remain</th>\n      <th>Comp. %</th>\n      <th>sum</th>\n      <th>sum</th>\n      <th>sum</th>\n    </tr>\n    <tr>\n      <th>Type</th>\n      <th>No</th>\n      <th>Track</th>\n      <th></th>\n      <th></th>\n      <th></th>\n      <th></th>\n      <th></th>\n      <th></th>\n      <th></th>\n    </tr>\n  </thead>\n  <tbody>\n    <tr>\n      <th rowspan=\"7\" valign=\"top\">Career</th>\n      <th>1</th>\n      <th>Python Programmer</th>\n      <td>2</td>\n      <td>16</td>\n      <td>14</td>\n      <td>12.500000</td>\n      <td>4</td>\n      <td>0</td>\n      <td>0</td>\n    </tr>\n    <tr>\n      <th>2</th>\n      <th>Data Analyst with Python</th>\n      <td>1</td>\n      <td>16</td>\n      <td>15</td>\n      <td>6.250000</td>\n      <td>1</td>\n      <td>0</td>\n      <td>0</td>\n    </tr>\n    <tr>\n      <th>3</th>\n      <th>Data Scientist with Python</th>\n      <td>2</td>\n      <td>23</td>\n      <td>21</td>\n      <td>8.695652</td>\n      <td>4</td>\n      <td>0</td>\n      <td>0</td>\n    </tr>\n    <tr>\n      <th>4</th>\n      <th>Data Science for Everyone</th>\n      <td>2</td>\n      <td>26</td>\n      <td>24</td>\n      <td>7.692308</td>\n      <td>2</td>\n      <td>0</td>\n      <td>0</td>\n    </tr>\n    <tr>\n      <th>5</th>\n      <th>Machine Learning for Everyone</th>\n      <td>1</td>\n      <td>29</td>\n      <td>28</td>\n      <td>3.448276</td>\n      <td>1</td>\n      <td>0</td>\n      <td>0</td>\n    </tr>\n    <tr>\n      <th>6</th>\n      <th>Machine Learning Scientist with Python</th>\n      <td>0</td>\n      <td>23</td>\n      <td>23</td>\n      <td>0.000000</td>\n      <td>0</td>\n      <td>0</td>\n      <td>0</td>\n    </tr>\n    <tr>\n      <th>7</th>\n      <th>Data Engineer with Python</th>\n      <td>0</td>\n      <td>25</td>\n      <td>25</td>\n      <td>0.000000</td>\n      <td>1</td>\n      <td>0</td>\n      <td>0</td>\n    </tr>\n    <tr>\n      <th rowspan=\"6\" valign=\"top\">Course</th>\n      <th>18</th>\n      <th>Natural Language Processing in Python</th>\n      <td>0</td>\n      <td>2</td>\n      <td>2</td>\n      <td>0.000000</td>\n      <td>0</td>\n      <td>0</td>\n      <td>0</td>\n    </tr>\n    <tr>\n      <th>19</th>\n      <th>Marketing Analytics with Python</th>\n      <td>0</td>\n      <td>2</td>\n      <td>2</td>\n      <td>0.000000</td>\n      <td>0</td>\n      <td>0</td>\n      <td>0</td>\n    </tr>\n    <tr>\n      <th rowspan=\"4\" valign=\"top\">20</th>\n      <th>Big Data with PySpark</th>\n      <td>0</td>\n      <td>1</td>\n      <td>1</td>\n      <td>0.000000</td>\n      <td>0</td>\n      <td>0</td>\n      <td>0</td>\n    </tr>\n    <tr>\n      <th>Finance Fundamentals in Python</th>\n      <td>0</td>\n      <td>1</td>\n      <td>1</td>\n      <td>0.000000</td>\n      <td>0</td>\n      <td>0</td>\n      <td>0</td>\n    </tr>\n    <tr>\n      <th>Statistics Fundamentals with Python</th>\n      <td>0</td>\n      <td>1</td>\n      <td>1</td>\n      <td>0.000000</td>\n      <td>0</td>\n      <td>0</td>\n      <td>0</td>\n    </tr>\n    <tr>\n      <th>Tek</th>\n      <td>0</td>\n      <td>11</td>\n      <td>11</td>\n      <td>0.000000</td>\n      <td>0</td>\n      <td>0</td>\n      <td>0</td>\n    </tr>\n    <tr>\n      <th rowspan=\"7\" valign=\"top\">Skill</th>\n      <th>1</th>\n      <th>Python Toolbox</th>\n      <td>0</td>\n      <td>5</td>\n      <td>5</td>\n      <td>0.000000</td>\n      <td>1</td>\n      <td>0</td>\n      <td>0</td>\n    </tr>\n    <tr>\n      <th>2</th>\n      <th>Python Programming</th>\n      <td>0</td>\n      <td>6</td>\n      <td>6</td>\n      <td>0.000000</td>\n      <td>1</td>\n      <td>0</td>\n      <td>0</td>\n    </tr>\n    <tr>\n      <th>3</th>\n      <th>Data Visualization with Python</th>\n      <td>0</td>\n      <td>5</td>\n      <td>5</td>\n      <td>0.000000</td>\n      <td>0</td>\n      <td>0</td>\n      <td>0</td>\n    </tr>\n    <tr>\n      <th>4</th>\n      <th>Python Fundamentals</th>\n      <td>1</td>\n      <td>4</td>\n      <td>3</td>\n      <td>25.000000</td>\n      <td>1</td>\n      <td>0</td>\n      <td>0</td>\n    </tr>\n    <tr>\n      <th>5</th>\n      <th>Deep Learning for NLP in Python</th>\n      <td>0</td>\n      <td>3</td>\n      <td>3</td>\n      <td>0.000000</td>\n      <td>0</td>\n      <td>0</td>\n      <td>0</td>\n    </tr>\n    <tr>\n      <th>6</th>\n      <th>SQL for Business Analysts</th>\n      <td>0</td>\n      <td>5</td>\n      <td>5</td>\n      <td>0.000000</td>\n      <td>0</td>\n      <td>0</td>\n      <td>0</td>\n    </tr>\n    <tr>\n      <th>7</th>\n      <th>Applied Finance in Python</th>\n      <td>0</td>\n      <td>4</td>\n      <td>4</td>\n      <td>0.000000</td>\n      <td>0</td>\n      <td>0</td>\n      <td>0</td>\n    </tr>\n  </tbody>\n</table>\n</div>"
     },
     "metadata": {},
     "execution_count": 7
    }
   ],
   "source": [
    "statistics={'Learn':['sum','count', remain, percent], \n",
    "                         'Github':'sum', \n",
    "                         'Video':'sum',\n",
    "                         'Pdf':'sum'}\n",
    "df.sort_values(['Type','No','Track'],ascending=False).groupby(['Type','No','Track']).agg(statistics)"
   ]
  },
  {
   "cell_type": "markdown",
   "metadata": {},
   "source": [
    "** This is dictionary of career tracks including courses with order number **"
   ]
  },
  {
   "cell_type": "code",
   "execution_count": 8,
   "metadata": {
    "tags": []
   },
   "outputs": [],
   "source": [
    "career_tracks= list(map( lambda Track :{Track: dict(zip(df[df['Track']==Track].order, df[df['Track']==Track]['Course']))}, df[df['Type']=='Career'].Track))"
   ]
  },
  {
   "cell_type": "code",
   "execution_count": 9,
   "metadata": {
    "tags": []
   },
   "outputs": [
    {
     "output_type": "stream",
     "name": "stdout",
     "text": "{'Python Programmer': {1: 'Introduction to Data Science in Python', 2: 'Data Types for Data Science in Python', 3: 'Data Manipulation with pandas', 4: 'Python Data Science Toolbox (Part 1)', 5: 'Python Data Science Toolbox (Part 2)', 6: 'Writing Efficient Python Code', 7: 'Working with Dates and Times in Python', 8: 'Regular Expressions in Python', 9: 'Web Scraping in Python<', 10: 'Writing Functions in Python', 11: 'Introduction to Shell', 12: 'Conda Essentials', 13: 'Parallel Programming with Dask in Python', 14: 'Software Engineering for Data Scientists in Python', 15: 'Unit Testing for Data Science in Python', 16: 'Object-Oriented Programming in Python'}}\n{'Python Programmer': {1: 'Introduction to Data Science in Python', 2: 'Data Types for Data Science in Python', 3: 'Data Manipulation with pandas', 4: 'Python Data Science Toolbox (Part 1)', 5: 'Python Data Science Toolbox (Part 2)', 6: 'Writing Efficient Python Code', 7: 'Working with Dates and Times in Python', 8: 'Regular Expressions in Python', 9: 'Web Scraping in Python<', 10: 'Writing Functions in Python', 11: 'Introduction to Shell', 12: 'Conda Essentials', 13: 'Parallel Programming with Dask in Python', 14: 'Software Engineering for Data Scientists in Python', 15: 'Unit Testing for Data Science in Python', 16: 'Object-Oriented Programming in Python'}}\n{'Python Programmer': {1: 'Introduction to Data Science in Python', 2: 'Data Types for Data Science in Python', 3: 'Data Manipulation with pandas', 4: 'Python Data Science Toolbox (Part 1)', 5: 'Python Data Science Toolbox (Part 2)', 6: 'Writing Efficient Python Code', 7: 'Working with Dates and Times in Python', 8: 'Regular Expressions in Python', 9: 'Web Scraping in Python<', 10: 'Writing Functions in Python', 11: 'Introduction to Shell', 12: 'Conda Essentials', 13: 'Parallel Programming with Dask in Python', 14: 'Software Engineering for Data Scientists in Python', 15: 'Unit Testing for Data Science in Python', 16: 'Object-Oriented Programming in Python'}}\n{'Python Programmer': {1: 'Introduction to Data Science in Python', 2: 'Data Types for Data Science in Python', 3: 'Data Manipulation with pandas', 4: 'Python Data Science Toolbox (Part 1)', 5: 'Python Data Science Toolbox (Part 2)', 6: 'Writing Efficient Python Code', 7: 'Working with Dates and Times in Python', 8: 'Regular Expressions in Python', 9: 'Web Scraping in Python<', 10: 'Writing Functions in Python', 11: 'Introduction to Shell', 12: 'Conda Essentials', 13: 'Parallel Programming with Dask in Python', 14: 'Software Engineering for Data Scientists in Python', 15: 'Unit Testing for Data Science in Python', 16: 'Object-Oriented Programming in Python'}}\n{'Python Programmer': {1: 'Introduction to Data Science in Python', 2: 'Data Types for Data Science in Python', 3: 'Data Manipulation with pandas', 4: 'Python Data Science Toolbox (Part 1)', 5: 'Python Data Science Toolbox (Part 2)', 6: 'Writing Efficient Python Code', 7: 'Working with Dates and Times in Python', 8: 'Regular Expressions in Python', 9: 'Web Scraping in Python<', 10: 'Writing Functions in Python', 11: 'Introduction to Shell', 12: 'Conda Essentials', 13: 'Parallel Programming with Dask in Python', 14: 'Software Engineering for Data Scientists in Python', 15: 'Unit Testing for Data Science in Python', 16: 'Object-Oriented Programming in Python'}}\n"
    }
   ],
   "source": [
    "for career in career_tracks[:5]:\n",
    "    print(career)"
   ]
  },
  {
   "cell_type": "code",
   "execution_count": 10,
   "metadata": {
    "tags": []
   },
   "outputs": [
    {
     "output_type": "stream",
     "name": "stdout",
     "text": ". (0, 199) .\n. (1, 9) .\n"
    }
   ],
   "source": [
    "\n",
    "from collections import Counter\n",
    "learn_count= Counter(df.Learn)\n",
    "for course in learn_count.most_common(5):\n",
    "    print('.',course,'.')"
   ]
  },
  {
   "cell_type": "code",
   "execution_count": null,
   "metadata": {},
   "outputs": [],
   "source": []
  }
 ]
}