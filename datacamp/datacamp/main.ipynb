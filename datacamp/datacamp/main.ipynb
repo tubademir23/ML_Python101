{
 "metadata": {
  "language_info": {
   "oodemirror_mode": {
    "name": "ipython",
    "version": 3
   },
   "file_extension": ".py",
   "mimetype": "text/x-python",
   "name": "python",
   "nbconvert_exporter": "python",
   "pygments_lexer": "ipython3",
   "version": "3.8.3-final"
  },
  "orig_nbformat": 2,
  "kernelspec": {
   "name": "python_defaultSpec_1600667056530",
   "display_name": "Python 3.8.3 32-bit"
  }
 },
 "nbformat": 4,
 "nbformat_minor": 2,
 "cells": [
  {
   "cell_type": "markdown",
   "metadata": {},
   "source": [
    "## With this notebook; \n",
    "\n",
    "* I want to keep up my DataCamp Tracks, I created the dataset by the courses which I am interested in individually including track information and put dataset on my Google Drive acoount. For reading Google spreadsheet; after create project and Api Authentication(Google Sheet API and Google Drive API), I started to read from drive excel.\n",
    "\n",
    "* My goal is to follow up on this file and work on the current file instead of a fixed dataset so that I can follow my progress.\n",
    "* While I was developing my Data Science skills with the DataCamp course, this training time also will be a project for me :)"
   ]
  },
  {
   "cell_type": "code",
   "execution_count": 46,
   "metadata": {
    "tags": []
   },
   "outputs": [],
   "source": [
    "import gspread\n",
    "\n",
    "gc=gspread.oauth()\n",
    "sheet1 = gc.open(\"datacamp\").sheet1\n",
    "\n",
    "data = sheet1.get_all_values()\n",
    "headers = data.pop(0)\n"
   ]
  },
  {
   "cell_type": "code",
   "execution_count": 47,
   "metadata": {
    "tags": []
   },
   "outputs": [],
   "source": [
    "\n",
    "import pandas as pd\n",
    "df = pd.DataFrame(data, columns=headers)"
   ]
  },
  {
   "cell_type": "markdown",
   "metadata": {},
   "source": [
    "** pre_processing data, NaN values, dtypes **"
   ]
  },
  {
   "cell_type": "code",
   "execution_count": 48,
   "metadata": {
    "tags": []
   },
   "outputs": [
    {
     "output_type": "stream",
     "name": "stdout",
     "text": "No                        int32\nTrack                    object\nType                     object\norder                     int32\nCourse                   object\nPlanning Date    datetime64[ns]\nWatch                     int32\nLearn                     int32\nGithub                    int32\nVideo                     int32\nPdf                       int32\ndtype: object\n"
    }
   ],
   "source": [
    "df.replace('', 0, inplace=True)\n",
    "df['Planning Date']=pd.to_datetime(df['Planning Date'])\n",
    "col_dict={'No':int, 'order':int,'Watch':int,'Learn':int,'Github':int,'Video':int,'Pdf':int}\n",
    "for k, v in col_dict.items():\n",
    "    df[k]=df[k].astype(v)\n",
    "print(df.dtypes)"
   ]
  },
  {
   "cell_type": "markdown",
   "metadata": {},
   "source": [
    "** define necessary methods for statisticals **"
   ]
  },
  {
   "cell_type": "code",
   "execution_count": 49,
   "metadata": {},
   "outputs": [],
   "source": [
    "def remain(x):\n",
    "    return x.count() - x.sum()\n",
    "remain.__name__ = 'Remain'\n",
    "\n",
    "def percent(x):\n",
    "    return x.sum()*100 / x.count()\n",
    "percent.__name__='Comp. %'"
   ]
  },
  {
   "cell_type": "markdown",
   "metadata": {},
   "source": [
    "** some courses take place in multiple tracks. Once you complete one, others must be update as completed  as well. **"
   ]
  },
  {
   "cell_type": "code",
   "execution_count": 50,
   "metadata": {
    "tags": []
   },
   "outputs": [
    {
     "output_type": "stream",
     "name": "stdout",
     "text": "('Intermediate Python', 5)\n('Python Data Science Toolbox (Part 1)', 5)\n('Python Data Science Toolbox (Part 2)', 5)\n('Data Manipulation with pandas', 4)\n('Introduction to Data Visualization with Seaborn', 4)\n('Introduction to Python', 4)\n('Machine Learning with Tree-Based Models in Python', 4)\n('Supervised Learning with scikit-learn', 4)\n('Unsupervised Learning in Python', 4)\n('Writing Efficient Python Code', 4)\n('Writing Functions in Python', 4)\n('Analyzing Police Activity with pandas', 3)\n('Cleaning Data in Python', 3)\n('Cluster Analysis in Python', 3)\n('Intermediate Importing Data in Python', 3)\n('Introduction to Data Visualization with Matplotlib', 3)\n('Introduction to Deep Learning in Python', 3)\n('Introduction to Importing Data in Python', 3)\n('Introduction to PySpark', 3)\n('Introduction to Relational Databases in SQL', 3)\n('Introduction to Shell', 3)\n('Joining Data with pandas', 3)\n('Object-Oriented Programming in Python', 3)\n('Statistical Thinking in Python (Part 1)', 3)\n('Unit Testing for Data Science in Python', 3)\n('Working with Dates and Times in Python', 3)\n('Advanced Deep Learning with Keras', 2)\n('Case Study: School Budgeting with Machine Learning i...', 2)\n('Conda Essentials', 2)\n('Dimensionality Reduction in Python', 2)\n('Exploratory Data Analysis in Python', 2)\n('Extreme Gradient Boosting with XGBoost', 2)\n('Feature Engineering for Machine Learning in Python', 2)\n('Feature Engineering for NLP in Python', 2)\n('Hyperparameter Tuning in Python', 2)\n('Image Processing in Python', 2)\n('Image Processing with Keras in Python', 2)\n('Introduction to Data Science in Python', 2)\n('Introduction to Deep Learning with Keras', 2)\n('Introduction to Natural Language Processing in Python', 2)\n('Introduction to TensorFlow in Python', 2)\n('Joining Data in SQL', 2)\n('Linear Classifiers in Python', 2)\n('Machine Learning for Time Series Data in Python', 2)\n('Machine Learning with PySpark', 2)\n('Model Validation in Python', 2)\n('Preprocessing for Machine Learning in Python', 2)\n('Regular Expressions in Python', 2)\n('Software Engineering for Data Scientists in Python', 2)\n('Statistical Thinking in Python (Part 2)', 2)\n('Streamlined Data Ingestion with pandas', 2)\n('Visualizing Geospatial Data in Python', 2)\n('Winning a Kaggle Competition in Python', 2)\n('Analyzing Business Data in SQL', 1)\n('Applying SQL to Real-World Problems', 1)\n('Big Data Fundamentals with PySpark', 1)\n('Building and Optimizing Triggers in SQL Server', 1)\n('Building Chatbots in Python', 1)\n('Building Data Engineering Pipelines in Python', 1)\n('Cleaning Data in SQL Server Databases', 1)\n('Cleaning Data with PySpark', 1)\n('Command Line Automation in Python', 1)\n('Credit Risk Modeling in Python', 1)\n('Customer Analytics and A/B Testing in Python', 1)\n('Customer Segmentation in Python', 1)\n('Data Engineering for Everyone', 1)\n('Data Processing in Shell', 1)\n('Data Science for Everyone', 1)\n('Data Types for Data Science in Python', 1)\n('Data-Driven Decision Making in SQL', 1)\n('Database Design', 1)\n('Dealing with Missing Data in Python', 1)\n('Designing Machine Learning Workflows in Python', 1)\n('Ensemble Methods in Python', 1)\n('Exploratory Data Analysis in SQL', 1)\n('Feature Engineering with PySpark', 1)\n('Fraud Detection in Python', 1)\n('GARCH Models in Python', 1)\n('Human Resources Analytics: Predicting Employee Churn in Python', 1)\n('Improving Query Performance in SQL Server', 1)\n('Improving Your Data Visualizations in Python', 1)\n('Interactive Data Visualization with Bokeh', 1)\n('Intermediate Data Visualization with Seaborn', 1)\n('Introduction to Airflow in Python', 1)\n('Introduction to AWS Boto in Python', 1)\n('Introduction to Bash Scripting', 1)\n('Introduction to Data Engineering', 1)\n('Introduction to Databases in Python', 1)\n('Introduction to Financial Concepts in Python', 1)\n('Introduction to MongoDB in Python', 1)\n('Introduction to Network Analysis in Python', 1)\n('Introduction to Portfolio Risk Management in Python', 1)\n('Introduction to Predictive Analytics in Python', 1)\n('Introduction to Scala', 1)\n('Introduction to Spark SQL in Python', 1)\n('Introduction to SQ', 1)\n('Introduction to SQL', 1)\n('Machine Learning for Everyone', 1)\n('Machine Learning for Finance in Python', 1)\n('Machine Translation in Python', 1)\n('Natural Language Generation in Python', 1)\n('Parallel Programming with Dask in Python', 1)\n('Practicing Coding Interview Questions in Python', 1)\n('Practicing Machine Learning Interview Questions in Python', 1)\n('Practicing Statistics Interview Questions in Python', 1)\n('Quantitative Risk Management in Python', 1)\n('Recurrent Neural Networks for Language Modeling in P...', 1)\n('Reporting in SQL', 1)\n('Spoken Language Processing in Python', 1)\n('Statistical Simulation in Python', 1)\n('Supply Chain Analytics in Python', 1)\n('Transactions and Error Handling in SQL Server', 1)\n('Web Scraping in Python<', 1)\n('Working with the Class System in Python', 1)\n('Writing Efficient Code with pandas', 1)\n"
    }
   ],
   "source": [
    "from collections import Counter\n",
    "course_count= Counter(df.Course)\n",
    "for course in course_count.most_common():\n",
    "    print(course)\n"
   ]
  },
  {
   "cell_type": "code",
   "execution_count": 51,
   "metadata": {
    "tags": []
   },
   "outputs": [],
   "source": [
    "update_columns={'Watch':'max', 'Learn':'max', 'Github':'max', 'Video':'max','Pdf':'max','Planning Date':'min'}\n",
    "max_=df.groupby('Course').agg(update_columns)\n",
    "for key, row_ in zip(max_.index, max_.values):\n",
    "    df.loc[df.Course==key, update_columns.keys()]=row_"
   ]
  },
  {
   "cell_type": "markdown",
   "metadata": {},
   "source": [
    "** summary table for completence of the course, skill tracks **"
   ]
  },
  {
   "cell_type": "code",
   "execution_count": 52,
   "metadata": {},
   "outputs": [
    {
     "output_type": "execute_result",
     "data": {
      "text/plain": "                                                 Learn               \\\n                                                   sum count Remain   \nType   No Track                                                       \nCareer 1  Python Programmer                          4    16     12   \n       2  Data Analyst with Python                   2    16     14   \n       3  Data Scientist with Python                 4    23     19   \n       4  Data Science for Everyone                  4    26     22   \n       5  Machine Learning for Everyone              3    29     26   \n       6  Machine Learning Scientist with Python     0    23     23   \n       7  Data Engineer with Python                  1    25     24   \nCourse 18 Natural Language Processing in Python      0     2      2   \n       19 Marketing Analytics with Python            0     2      2   \n       20 Big Data with PySpark                      0     1      1   \n          Finance Fundamentals in Python             0     1      1   \n          Statistics Fundamentals with Python        0     1      1   \n          Tek                                        0    11     11   \nSkill  1  Python Toolbox                             1     5      4   \n       2  Python Programming                         2     6      4   \n       3  Data Visualization with Python             0     5      5   \n       4  Python Fundamentals                        3     4      1   \n       5  Deep Learning for NLP in Python            0     3      3   \n       6  SQL for Business Analysts                  0     5      5   \n       7  Applied Finance in Python                  0     4      4   \n\n                                                            Github Video Pdf  \n                                                    Comp. %    sum   sum sum  \nType   No Track                                                               \nCareer 1  Python Programmer                       25.000000      6     0   0  \n       2  Data Analyst with Python                12.500000      2     0   0  \n       3  Data Scientist with Python              17.391304      6     0   0  \n       4  Data Science for Everyone               15.384615      4     0   0  \n       5  Machine Learning for Everyone           10.344828      3     0   0  \n       6  Machine Learning Scientist with Python   0.000000      0     0   0  \n       7  Data Engineer with Python                4.000000      2     0   0  \nCourse 18 Natural Language Processing in Python    0.000000      0     0   0  \n       19 Marketing Analytics with Python          0.000000      0     0   0  \n       20 Big Data with PySpark                    0.000000      0     0   0  \n          Finance Fundamentals in Python           0.000000      0     0   0  \n          Statistics Fundamentals with Python      0.000000      0     0   0  \n          Tek                                      0.000000      0     0   0  \nSkill  1  Python Toolbox                          20.000000      2     0   0  \n       2  Python Programming                      33.333333      3     0   0  \n       3  Data Visualization with Python           0.000000      0     0   0  \n       4  Python Fundamentals                     75.000000      3     0   0  \n       5  Deep Learning for NLP in Python          0.000000      0     0   0  \n       6  SQL for Business Analysts                0.000000      0     0   0  \n       7  Applied Finance in Python                0.000000      0     0   0  ",
      "text/html": "<div>\n<style scoped>\n    .dataframe tbody tr th:only-of-type {\n        vertical-align: middle;\n    }\n\n    .dataframe tbody tr th {\n        vertical-align: top;\n    }\n\n    .dataframe thead tr th {\n        text-align: left;\n    }\n\n    .dataframe thead tr:last-of-type th {\n        text-align: right;\n    }\n</style>\n<table border=\"1\" class=\"dataframe\">\n  <thead>\n    <tr>\n      <th></th>\n      <th></th>\n      <th></th>\n      <th colspan=\"4\" halign=\"left\">Learn</th>\n      <th>Github</th>\n      <th>Video</th>\n      <th>Pdf</th>\n    </tr>\n    <tr>\n      <th></th>\n      <th></th>\n      <th></th>\n      <th>sum</th>\n      <th>count</th>\n      <th>Remain</th>\n      <th>Comp. %</th>\n      <th>sum</th>\n      <th>sum</th>\n      <th>sum</th>\n    </tr>\n    <tr>\n      <th>Type</th>\n      <th>No</th>\n      <th>Track</th>\n      <th></th>\n      <th></th>\n      <th></th>\n      <th></th>\n      <th></th>\n      <th></th>\n      <th></th>\n    </tr>\n  </thead>\n  <tbody>\n    <tr>\n      <th rowspan=\"7\" valign=\"top\">Career</th>\n      <th>1</th>\n      <th>Python Programmer</th>\n      <td>4</td>\n      <td>16</td>\n      <td>12</td>\n      <td>25.000000</td>\n      <td>6</td>\n      <td>0</td>\n      <td>0</td>\n    </tr>\n    <tr>\n      <th>2</th>\n      <th>Data Analyst with Python</th>\n      <td>2</td>\n      <td>16</td>\n      <td>14</td>\n      <td>12.500000</td>\n      <td>2</td>\n      <td>0</td>\n      <td>0</td>\n    </tr>\n    <tr>\n      <th>3</th>\n      <th>Data Scientist with Python</th>\n      <td>4</td>\n      <td>23</td>\n      <td>19</td>\n      <td>17.391304</td>\n      <td>6</td>\n      <td>0</td>\n      <td>0</td>\n    </tr>\n    <tr>\n      <th>4</th>\n      <th>Data Science for Everyone</th>\n      <td>4</td>\n      <td>26</td>\n      <td>22</td>\n      <td>15.384615</td>\n      <td>4</td>\n      <td>0</td>\n      <td>0</td>\n    </tr>\n    <tr>\n      <th>5</th>\n      <th>Machine Learning for Everyone</th>\n      <td>3</td>\n      <td>29</td>\n      <td>26</td>\n      <td>10.344828</td>\n      <td>3</td>\n      <td>0</td>\n      <td>0</td>\n    </tr>\n    <tr>\n      <th>6</th>\n      <th>Machine Learning Scientist with Python</th>\n      <td>0</td>\n      <td>23</td>\n      <td>23</td>\n      <td>0.000000</td>\n      <td>0</td>\n      <td>0</td>\n      <td>0</td>\n    </tr>\n    <tr>\n      <th>7</th>\n      <th>Data Engineer with Python</th>\n      <td>1</td>\n      <td>25</td>\n      <td>24</td>\n      <td>4.000000</td>\n      <td>2</td>\n      <td>0</td>\n      <td>0</td>\n    </tr>\n    <tr>\n      <th rowspan=\"6\" valign=\"top\">Course</th>\n      <th>18</th>\n      <th>Natural Language Processing in Python</th>\n      <td>0</td>\n      <td>2</td>\n      <td>2</td>\n      <td>0.000000</td>\n      <td>0</td>\n      <td>0</td>\n      <td>0</td>\n    </tr>\n    <tr>\n      <th>19</th>\n      <th>Marketing Analytics with Python</th>\n      <td>0</td>\n      <td>2</td>\n      <td>2</td>\n      <td>0.000000</td>\n      <td>0</td>\n      <td>0</td>\n      <td>0</td>\n    </tr>\n    <tr>\n      <th rowspan=\"4\" valign=\"top\">20</th>\n      <th>Big Data with PySpark</th>\n      <td>0</td>\n      <td>1</td>\n      <td>1</td>\n      <td>0.000000</td>\n      <td>0</td>\n      <td>0</td>\n      <td>0</td>\n    </tr>\n    <tr>\n      <th>Finance Fundamentals in Python</th>\n      <td>0</td>\n      <td>1</td>\n      <td>1</td>\n      <td>0.000000</td>\n      <td>0</td>\n      <td>0</td>\n      <td>0</td>\n    </tr>\n    <tr>\n      <th>Statistics Fundamentals with Python</th>\n      <td>0</td>\n      <td>1</td>\n      <td>1</td>\n      <td>0.000000</td>\n      <td>0</td>\n      <td>0</td>\n      <td>0</td>\n    </tr>\n    <tr>\n      <th>Tek</th>\n      <td>0</td>\n      <td>11</td>\n      <td>11</td>\n      <td>0.000000</td>\n      <td>0</td>\n      <td>0</td>\n      <td>0</td>\n    </tr>\n    <tr>\n      <th rowspan=\"7\" valign=\"top\">Skill</th>\n      <th>1</th>\n      <th>Python Toolbox</th>\n      <td>1</td>\n      <td>5</td>\n      <td>4</td>\n      <td>20.000000</td>\n      <td>2</td>\n      <td>0</td>\n      <td>0</td>\n    </tr>\n    <tr>\n      <th>2</th>\n      <th>Python Programming</th>\n      <td>2</td>\n      <td>6</td>\n      <td>4</td>\n      <td>33.333333</td>\n      <td>3</td>\n      <td>0</td>\n      <td>0</td>\n    </tr>\n    <tr>\n      <th>3</th>\n      <th>Data Visualization with Python</th>\n      <td>0</td>\n      <td>5</td>\n      <td>5</td>\n      <td>0.000000</td>\n      <td>0</td>\n      <td>0</td>\n      <td>0</td>\n    </tr>\n    <tr>\n      <th>4</th>\n      <th>Python Fundamentals</th>\n      <td>3</td>\n      <td>4</td>\n      <td>1</td>\n      <td>75.000000</td>\n      <td>3</td>\n      <td>0</td>\n      <td>0</td>\n    </tr>\n    <tr>\n      <th>5</th>\n      <th>Deep Learning for NLP in Python</th>\n      <td>0</td>\n      <td>3</td>\n      <td>3</td>\n      <td>0.000000</td>\n      <td>0</td>\n      <td>0</td>\n      <td>0</td>\n    </tr>\n    <tr>\n      <th>6</th>\n      <th>SQL for Business Analysts</th>\n      <td>0</td>\n      <td>5</td>\n      <td>5</td>\n      <td>0.000000</td>\n      <td>0</td>\n      <td>0</td>\n      <td>0</td>\n    </tr>\n    <tr>\n      <th>7</th>\n      <th>Applied Finance in Python</th>\n      <td>0</td>\n      <td>4</td>\n      <td>4</td>\n      <td>0.000000</td>\n      <td>0</td>\n      <td>0</td>\n      <td>0</td>\n    </tr>\n  </tbody>\n</table>\n</div>"
     },
     "metadata": {},
     "execution_count": 52
    }
   ],
   "source": [
    "statistics={'Learn':['sum','count', remain, percent], \n",
    "                         'Github':'sum', \n",
    "                         'Video':'sum',\n",
    "                         'Pdf':'sum'}\n",
    "df.sort_values(['Type','No','Track'],ascending=False).groupby(['Type','No','Track']).agg(statistics)"
   ]
  },
  {
   "cell_type": "markdown",
   "metadata": {},
   "source": [
    "** This is dictionary of career tracks including courses with order number **"
   ]
  },
  {
   "cell_type": "code",
   "execution_count": 53,
   "metadata": {
    "tags": []
   },
   "outputs": [],
   "source": [
    "career_tracks= list(map( lambda Track :{Track: dict(zip(df[df['Track']==Track].order, df[df['Track']==Track]['Course']))}, df[df['Type']=='Career'].Track))"
   ]
  },
  {
   "cell_type": "code",
   "execution_count": 54,
   "metadata": {
    "tags": []
   },
   "outputs": [
    {
     "output_type": "stream",
     "name": "stdout",
     "text": "{'Machine Learning for Everyone': {23: 'Advanced Deep Learning with Keras', 12: 'Cluster Analysis in Python', 13: 'Dimensionality Reduction in Python', 11: 'Extreme Gradient Boosting with XGBoost', 16: 'Feature Engineering for Machine Learning in Python', 19: 'Feature Engineering for NLP in Python', 26: 'Hyperparameter Tuning in Python', 24: 'Image Processing in Python', 25: 'Image Processing with Keras in Python', 3: 'Intermediate Python', 21: 'Introduction to Deep Learning in Python', 22: 'Introduction to Deep Learning with Keras', 18: 'Introduction to Natural Language Processing in Python', 27: 'Introduction to PySpark', 2: 'Introduction to Python', 20: 'Introduction to TensorFlow in Python', 9: 'Linear Classifiers in Python', 1: 'Machine Learning for Everyone', 15: 'Machine Learning for Time Series Data in Python', 28: 'Machine Learning with PySpark', 10: 'Machine Learning with Tree-Based Models in Python', 17: 'Model Validation in Python', 14: 'Preprocessing for Machine Learning in Python', 4: 'Python Data Science Toolbox (Part 1)', 5: 'Python Data Science Toolbox (Part 2)', 6: 'Statistical Thinking in Python (Part 1)', 7: 'Supervised Learning with scikit-learn', 8: 'Unsupervised Learning in Python', 29: 'Winning a Kaggle Competition in Python'}}\n{'Machine Learning Scientist with Python': {17: 'Advanced Deep Learning with Keras', 6: 'Cluster Analysis in Python', 7: 'Dimensionality Reduction in Python', 5: 'Extreme Gradient Boosting with XGBoost', 10: 'Feature Engineering for Machine Learning in Python', 13: 'Feature Engineering for NLP in Python', 20: 'Hyperparameter Tuning in Python', 18: 'Image Processing in Python', 19: 'Image Processing with Keras in Python', 15: 'Introduction to Deep Learning in Python', 16: 'Introduction to Deep Learning with Keras', 12: 'Introduction to Natural Language Processing in Python', 21: 'Introduction to PySpark', 14: 'Introduction to TensorFlow in Python', 3: 'Linear Classifiers in Python', 9: 'Machine Learning for Time Series Data in Python', 22: 'Machine Learning with PySpark', 4: 'Machine Learning with Tree-Based Models in Python', 11: 'Model Validation in Python', 8: 'Preprocessing for Machine Learning in Python', 1: 'Supervised Learning with scikit-learn', 2: 'Unsupervised Learning in Python', 23: 'Winning a Kaggle Competition in Python'}}\n{'Data Analyst with Python': {11: 'Analyzing Police Activity with pandas', 9: 'Cleaning Data in Python', 3: 'Data Manipulation with pandas', 10: 'Exploratory Data Analysis in Python', 8: 'Intermediate Importing Data in Python', 2: 'Intermediate Python', 1: 'Introduction to Data Science in Python', 5: 'Introduction to Data Visualization with Matplotlib', 6: 'Introduction to Data Visualization with Seaborn', 16: 'Introduction to Databases in Python', 7: 'Introduction to Importing Data in Python', 14: 'Introduction to Relational Databases in SQL', 12: 'Introduction to SQ', 15: 'Joining Data in SQL', 4: 'Joining Data with pandas', 13: 'Streamlined Data Ingestion with pandas'}}\n{'Data Scientist with Python': {16: 'Analyzing Police Activity with pandas', 22: 'Case Study: School Budgeting with Machine Learning i...', 12: 'Cleaning Data in Python', 23: 'Cluster Analysis in Python', 3: 'Data Manipulation with pandas', 15: 'Exploratory Data Analysis in Python', 9: 'Intermediate Data Visualization with Seaborn', 11: 'Intermediate Importing Data in Python', 2: 'Intermediate Python', 5: 'Introduction to Data Visualization with Matplotlib', 6: 'Introduction to Data Visualization with Seaborn', 10: 'Introduction to Importing Data in Python', 1: 'Introduction to Python', 4: 'Joining Data with pandas', 21: 'Machine Learning with Tree-Based Models in Python', 7: 'Python Data Science Toolbox (Part 1)', 8: 'Python Data Science Toolbox (Part 2)', 17: 'Statistical Thinking in Python (Part 1)', 18: 'Statistical Thinking in Python (Part 2)', 19: 'Supervised Learning with scikit-learn', 20: 'Unsupervised Learning in Python', 13: 'Working with Dates and Times in Python', 14: 'Writing Functions in Python'}}\n{'Data Science for Everyone': {11: 'Analyzing Police Activity with pandas', 22: 'Case Study: School Budgeting with Machine Learning i...', 10: 'Cleaning Data in Python', 20: 'Conda Essentials', 8: 'Data Manipulation with pandas', 1: 'Data Science for Everyone', 7: 'Intermediate Importing Data in Python', 3: 'Intermediate Python', 14: 'Introduction to Data Visualization with Matplotlib', 15: 'Introduction to Data Visualization with Seaborn', 25: 'Introduction to Deep Learning in Python', 6: 'Introduction to Importing Data in Python', 26: 'Introduction to Network Analysis in Python', 2: 'Introduction to Python', 13: 'Introduction to Relational Databases in SQL', 19: 'Introduction to Shell', 12: 'Introduction to SQL', 18: 'Joining Data in SQL', 9: 'Joining Data with pandas', 24: 'Machine Learning with Tree-Based Models in Python', 4: 'Python Data Science Toolbox (Part 1)', 5: 'Python Data Science Toolbox (Part 2)', 16: 'Statistical Thinking in Python (Part 1)', 17: 'Statistical Thinking in Python (Part 2)', 21: 'Supervised Learning with scikit-learn', 23: 'Unsupervised Learning in Python'}}\n"
    }
   ],
   "source": [
    "for career in career_tracks[:5]:\n",
    "    print(career)"
   ]
  },
  {
   "cell_type": "code",
   "execution_count": 55,
   "metadata": {
    "tags": []
   },
   "outputs": [
    {
     "output_type": "stream",
     "name": "stdout",
     "text": ". (0, 184) .\n. (1, 24) .\n"
    }
   ],
   "source": [
    "\n",
    "from collections import Counter\n",
    "learn_count= Counter(df.Learn)\n",
    "for course in learn_count.most_common(5):\n",
    "    print('.',course,'.')"
   ]
  },
  {
   "cell_type": "code",
   "execution_count": 56,
   "metadata": {
    "tags": []
   },
   "outputs": [
    {
     "output_type": "stream",
     "name": "stdout",
     "text": "['No', 'Track', 'Type', 'order', 'Course', 'Planning Date', 'Watch', 'Learn', 'Github', 'Video', 'Pdf']\n"
    }
   ],
   "source": [
    "print(sheet1.row_values(1))\n",
    "#dir(sheet1)\n"
   ]
  },
  {
   "cell_type": "code",
   "execution_count": null,
   "metadata": {},
   "outputs": [],
   "source": []
  }
 ]
}