{
 "metadata": {
  "language_info": {
   "codemirror_mode": {
    "name": "ipython",
    "version": 3
   },
   "file_extension": ".py",
   "mimetype": "text/x-python",
   "name": "python",
   "nbconvert_exporter": "python",
   "pygments_lexer": "ipython3",
   "version": "3.8.3-final"
  },
  "orig_nbformat": 2,
  "kernelspec": {
   "name": "python38332bit74facea1a310476ca0c9492d821273ec",
   "display_name": "Python 3.8.3 32-bit"
  }
 },
 "nbformat": 4,
 "nbformat_minor": 2,
 "cells": [
  {
   "cell_type": "code",
   "execution_count": 1,
   "metadata": {},
   "outputs": [],
   "source": [
    "# Add a docstring to count_letter()\n",
    "def count_letter(content, letter):\n",
    "  \"\"\"Count the number of times `letter` appears in `content`'\"\"\"\n",
    "  if (not isinstance(letter, str)) or len(letter) != 1:\n",
    "    raise ValueError('`letter` must be a single character string.')\n",
    "  return len([char for char in content if char == letter])"
   ]
  },
  {
   "cell_type": "code",
   "execution_count": null,
   "metadata": {},
   "outputs": [],
   "source": [
    "#google style document\n",
    "def count_letter(content, letter):\n",
    "  \"\"\"Count the number of times `letter` appears in `content`.\n",
    "\n",
    "  # Add a Google style arguments section\n",
    "  Args:\n",
    "    content (str): The string to search.\n",
    "    letter (str): The letter to search for.\n",
    "\n",
    "  # Add a returns section\n",
    "  Returns:\n",
    "    int\n",
    "  # Add a section detailing what errors might be raised\n",
    "  Raises:\n",
    "    ValueError: If `letter` is not a one-character string.\n",
    "  \"\"\"\n",
    "  if (not isinstance(letter, str)) or len(letter) != 1:\n",
    "    raise ValueError('`letter` must be a single character string.')\n",
    "  return len([char for char in content if char == letter])"
   ]
  },
  {
   "cell_type": "code",
   "execution_count": null,
   "metadata": {},
   "outputs": [],
   "source": [
    "# Get the docstring with an attribute of count_letter()\n",
    "docstring = count_letter.__doc__\n",
    "\n",
    "border = '#' * 28\n",
    "print('{}\\n{}\\n{}'.format(border, docstring, border))"
   ]
  },
  {
   "cell_type": "code",
   "execution_count": null,
   "metadata": {},
   "outputs": [],
   "source": [
    "import inspect\n",
    "\n",
    "# Get the docstring with a function from the inspect module\n",
    "docstring = inspect.getdoc(count_letter)\n",
    "\n",
    "border = '#' * 28\n",
    "print('{}\\n{}\\n{}'.format(border, docstring, border))"
   ]
  },
  {
   "cell_type": "code",
   "execution_count": null,
   "metadata": {},
   "outputs": [],
   "source": [
    "def build_tooltip(function):\n",
    "  \"\"\"Create a tooltip for any function that shows the \n",
    "  function's docstring.\n",
    "  \n",
    "  Args:\n",
    "    function (callable): The function we want a tooltip for.\n",
    "    \n",
    "  Returns:\n",
    "    str\n",
    "  \"\"\"\n",
    "  # Use 'inspect' to get the docstring\n",
    "  docstring = inspect.getdoc(function)\n",
    "  border = '#' * 28\n",
    "  return '{}\\n{}\\n{}'.format(border, docstring, border)\n",
    "\n",
    "print(build_tooltip(count_letter))\n",
    "print(build_tooltip(range))\n",
    "print(build_tooltip(print))"
   ]
  },
  {
   "cell_type": "code",
   "execution_count": null,
   "metadata": {},
   "outputs": [],
   "source": [
    "\"\"\" compare np.histogram.__doc__\n",
    "inspect.getdoc(numpy.fywdkxa)\n",
    "\"\"\""
   ]
  },
  {
   "cell_type": "code",
   "execution_count": null,
   "metadata": {},
   "outputs": [],
   "source": [
    "#DRY Donot repeat yourself\n"
   ]
  },
  {
   "cell_type": "code",
   "execution_count": null,
   "metadata": {},
   "outputs": [],
   "source": [
    "def standardize(column):\n",
    "  \"\"\"Standardize the values in a column.\n",
    "\n",
    "  Args:\n",
    "    column (pandas Series): The data to standardize.\n",
    "\n",
    "  Returns:\n",
    "    pandas Series: the values as z-scores\n",
    "  \"\"\"\n",
    "  # Finish the function so that it returns the z-scores\n",
    "  z_score = (column - column.mean()) / column.std()\n",
    "  return z_score\n",
    "\n",
    "# Use the standardize() function to calculate the z-scores\n",
    "df['y1_z'] = standardize(df.y1_gpa)\n",
    "df['y2_z'] = standardize(df.y2_gpa)\n",
    "df['y3_z'] = standardize(df.y3_gpa)\n",
    "df['y4_z'] = standardize(df.y4_gpa)"
   ]
  },
  {
   "cell_type": "code",
   "execution_count": null,
   "metadata": {},
   "outputs": [],
   "source": [
    "def mean(values):\n",
    "  \"\"\"Get the mean of a list of values\n",
    "\n",
    "  Args:\n",
    "    values (iterable of float): A list of numbers\n",
    "\n",
    "  Returns:\n",
    "    float\n",
    "  \"\"\"\n",
    "  # Write the mean() function\n",
    "  mean = sum(values)/len(values)\n",
    "  return mean"
   ]
  },
  {
   "cell_type": "code",
   "execution_count": null,
   "metadata": {},
   "outputs": [],
   "source": [
    "def median(values):\n",
    "  \"\"\"Get the median of a list of values\n",
    "\n",
    "  Args:\n",
    "    values (iterable of float): A list of numbers\n",
    "\n",
    "  Returns:\n",
    "    float\n",
    "  \"\"\"\n",
    "  # Write the median() function\n",
    "  midpoint = int(len(values) / 2)\n",
    "  if len(values) % 2 == 0:\n",
    "    median = (values[midpoint - 1] + values[midpoint]) / 2\n",
    "  else:\n",
    "    median = values[midpoint]\n",
    "  return median"
   ]
  },
  {
   "cell_type": "code",
   "execution_count": null,
   "metadata": {},
   "outputs": [],
   "source": [
    "#Pass by assignment\n",
    "#immutable: int, float, bool, string, bytes, tuple, frozenset, None\n",
    "#mutable: list, dict, set, bytearray,()objects, functions, almost everything else :)\n"
   ]
  },
  {
   "cell_type": "code",
   "execution_count": 4,
   "metadata": {
    "tags": []
   },
   "outputs": [
    {
     "output_type": "stream",
     "name": "stdout",
     "text": "{'Hello': 'hello'}\n"
    },
    {
     "output_type": "execute_result",
     "data": {
      "text/plain": "'Hello'"
     },
     "metadata": {},
     "execution_count": 4
    }
   ],
   "source": [
    "def store_lower(_dict, _string):\n",
    "  \"\"\"Add a mapping between `_string` and a lowercased version of `_string` to `_dict`\n",
    "\n",
    "  Args:\n",
    "    _dict (dict): The dictionary to update.\n",
    "    _string (str): The string to add.\n",
    "  \"\"\"\n",
    "  orig_string = _string\n",
    "  _string = _string.lower()\n",
    "  _dict[orig_string] = _string\n",
    "\n",
    "d = {}\n",
    "s = 'Hello'\n",
    "\n",
    "store_lower(d, s)\n",
    "print(d)\n",
    "s\n",
    "#Note: string immutable, dictionary s muttable"
   ]
  },
  {
   "cell_type": "code",
   "execution_count": null,
   "metadata": {},
   "outputs": [],
   "source": [
    "# Use an immutable variable for the default argument \n",
    "def better_add_column(values, df=None):\n",
    "  \"\"\"Add a column of `values` to a DataFrame `df`.\n",
    "  The column will be named \"col_<n>\" where \"n\" is\n",
    "  the numerical index of the column.\n",
    "\n",
    "  Args:\n",
    "    values (iterable): The values of the new column\n",
    "    df (DataFrame, optional): The DataFrame to update.\n",
    "      If no DataFrame is passed, one is created by default.\n",
    "\n",
    "  Returns:\n",
    "    DataFrame\n",
    "  \"\"\"\n",
    "  # Update the function to create a default DataFrame\n",
    "  if df is None:\n",
    "    df = pandas.DataFrame()\n",
    "  df['col_{}'.format(len(df.columns))] = values\n",
    "  return df"
   ]
  },
  {
   "cell_type": "code",
   "execution_count": null,
   "metadata": {},
   "outputs": [],
   "source": [
    "\"\"\"Using context manager:\n",
    "-Set up a context\n",
    "-Run your code\n",
    "-Remove the context\n",
    "//sample open( ) function is a context manager.\n",
    "usage:\n",
    "with <context_manager> (<args>):\n",
    "    #run code\n",
    "    #inside context\n",
    "#outside context\n",
    "\"\"\""
   ]
  },
  {
   "cell_type": "code",
   "execution_count": null,
   "metadata": {},
   "outputs": [],
   "source": [
    "# Open \"alice.txt\" and assign the file to \"file\"\n",
    "with open('alice.txt') as file:\n",
    "  text = file.read()\n",
    "\n",
    "n = 0\n",
    "for word in text.split():\n",
    "  if word.lower() in ['cat', 'cats']:\n",
    "    n += 1\n",
    "\n",
    "print('Lewis Carroll uses the word \"cat\" {} times'.format(n))"
   ]
  },
  {
   "cell_type": "code",
   "execution_count": null,
   "metadata": {},
   "outputs": [],
   "source": [
    "image = get_image_from_instagram()\n",
    "#this sample is fine :)\n",
    "# Time how long process_with_numpy(image) takes to run\n",
    "with timer():\n",
    "  print('Numpy version')\n",
    "  process_with_numpy(image)\n",
    "\n",
    "# Time how long process_with_pytorch(image) takes to run\n",
    "with timer():\n",
    "  print('Pytorch version')\n",
    "  process_with_pytorch(image)"
   ]
  },
  {
   "cell_type": "code",
   "execution_count": null,
   "metadata": {},
   "outputs": [],
   "source": [
    "#contxt manager types: class-based, function-based\n",
    "#In function based: must use \"yield\" keyword to signal python that this is a special kind of function\n"
   ]
  },
  {
   "cell_type": "code",
   "execution_count": null,
   "metadata": {},
   "outputs": [],
   "source": [
    "# Add a decorator that will make timer() a context manager\n",
    "@contextlib.contextmanager\n",
    "def timer():\n",
    "  \"\"\"Time the execution of a context block.\n",
    "\n",
    "  Yields:\n",
    "    None\n",
    "  \"\"\"\n",
    "  start = time.time()\n",
    "  # Send control back to the context block\n",
    "  yield\n",
    "  end = time.time()\n",
    "  print('Elapsed: {:.2f}s'.format(end - start))\n",
    "\n",
    "with timer():\n",
    "  print('This should take approximately 0.25 seconds')\n",
    "  time.sleep(0.25)"
   ]
  },
  {
   "cell_type": "code",
   "execution_count": null,
   "metadata": {},
   "outputs": [],
   "source": [
    "\"\"\"\n",
    "Send control from open_read_only() to the context block, ensuring that the read_only_file object gets assigned to my_file.\n",
    "Use read_only_file's .close() method to ensure that you don't leave open files lying around.\n",
    "\"\"\""
   ]
  },
  {
   "cell_type": "code",
   "execution_count": null,
   "metadata": {},
   "outputs": [],
   "source": [
    "@contextlib.contextmanager\n",
    "def open_read_only(filename):\n",
    "  \"\"\"Open a file in read-only mode.\n",
    "\n",
    "  Args:\n",
    "    filename (str): The location of the file to read\n",
    "\n",
    "  Yields:\n",
    "    file object\n",
    "  \"\"\"\n",
    "  read_only_file = open(filename, mode='r')\n",
    "  # Yield read_only_file so it can be assigned to my_file\n",
    "  yield read_only_file\n",
    "  # Close read_only_file\n",
    "  read_only_file.close()\n",
    "\n",
    "with open_read_only('my_file.txt') as my_file:\n",
    "  print(my_file.read())"
   ]
  },
  {
   "cell_type": "code",
   "execution_count": null,
   "metadata": {},
   "outputs": [],
   "source": [
    "\"\"\"NESTED CONTEXT MANAGER SAMPLE\"\"\""
   ]
  },
  {
   "cell_type": "code",
   "execution_count": null,
   "metadata": {},
   "outputs": [],
   "source": [
    "# Use the \"stock('NVDA')\" context manager\n",
    "# and assign the result to the variable \"nvda\"\n",
    "with stock('NVDA') as nvda:\n",
    "  # Open \"NVDA.txt\" for writing as f_out\n",
    "  with open(\"NVDA.txt\", \"w\") as f_out:\n",
    "    for _ in range(10):\n",
    "      value = nvda.price()\n",
    "      print('Logging ${:.2f} for NVDA'.format(value))\n",
    "      f_out.write('{:.2f}\\n'.format(value))"
   ]
  },
  {
   "cell_type": "code",
   "execution_count": null,
   "metadata": {},
   "outputs": [],
   "source": [
    "def in_dir(directory):\n",
    "  \"\"\"Change current working directory to `directory`,\n",
    "  allow the user to run some code, and change back.\n",
    "\n",
    "  Args:\n",
    "    directory (str): The path to a directory to work in.\n",
    "  \"\"\"\n",
    "  current_dir = os.getcwd()\n",
    "  os.chdir(directory)\n",
    "\n",
    "  # Add code that lets you handle errors\n",
    "  try:\n",
    "    yield\n",
    "  # Ensure the directory is reset,\n",
    "  # whether there was an error or not\n",
    "  finally:\n",
    "    os.chdir(current_dir)"
   ]
  },
  {
   "cell_type": "code",
   "execution_count": null,
   "metadata": {},
   "outputs": [],
   "source": [
    "#Functions as objects, may be use as variables"
   ]
  },
  {
   "cell_type": "code",
   "execution_count": null,
   "metadata": {},
   "outputs": [],
   "source": [
    "\"\"\"\n",
    "Enjoy this sample:\n",
    "Add the functions std(), minimum(), and maximum() to the function_map dictionary, like we did with mean().\n",
    "The name of the function the user wants to call is stored in func_name. Use the dictionary of functions, function_map, to call the chosen function and pass data as an argument.\n",
    "\"\"\""
   ]
  },
  {
   "cell_type": "code",
   "execution_count": null,
   "metadata": {},
   "outputs": [],
   "source": [
    "# Add the missing function references to the function map\n",
    "function_map = {\n",
    "  'mean': mean,\n",
    "  'std': std,\n",
    "  'minimum': minimum,\n",
    "  'maximum': maximum\n",
    "}\n",
    "\n",
    "data = load_data()\n",
    "print(data)\n",
    "\n",
    "func_name = get_user_input()\n",
    "\n",
    "# Call the chosen function and pass \"data\" as an argument\n",
    "function_map[func_name](data)"
   ]
  },
  {
   "cell_type": "code",
   "execution_count": null,
   "metadata": {},
   "outputs": [],
   "source": [
    "# Call has_docstring() on the log_product() function\n",
    "ok = has_docstring(log_product)\n",
    "\n",
    "if not ok:\n",
    "  print(\"log_product() doesn't have a docstring!\")\n",
    "else:\n",
    "  print(\"log_product() looks ok\")"
   ]
  },
  {
   "cell_type": "code",
   "execution_count": null,
   "metadata": {},
   "outputs": [],
   "source": [
    "def create_math_function(func_name):\n",
    "  if func_name == 'add':\n",
    "    def add(a, b):\n",
    "      return a + b\n",
    "    return add\n",
    "  elif func_name == 'subtract':\n",
    "    # Define the subtract() function\n",
    "    def subtract(a,b):\n",
    "      return a-b\n",
    "    return subtract\n",
    "  else:\n",
    "    print(\"I don't know that one\")\n",
    "    \n",
    "add = create_math_function('add')\n",
    "print('5 + 2 = {}'.format(add(5, 2)))\n",
    "\n",
    "subtract = create_math_function('subtract')\n",
    "print('5 - 2 = {}'.format(subtract(5, 2)))"
   ]
  },
  {
   "cell_type": "code",
   "execution_count": null,
   "metadata": {},
   "outputs": [],
   "source": [
    "\"\"\"Scope:\"\"\"\n"
   ]
  },
  {
   "cell_type": "code",
   "execution_count": null,
   "metadata": {},
   "outputs": [],
   "source": [
    "x = 50\n",
    "\n",
    "def one():\n",
    "  x = 10\n",
    "\n",
    "def two():\n",
    "  global x\n",
    "  x = 30\n",
    "\n",
    "def three():\n",
    "  x = 100\n",
    "  print(x)\n",
    "\n",
    "for func in [one, two, three]:\n",
    "  func()\n",
    "  print(x)"
   ]
  },
  {
   "cell_type": "code",
   "execution_count": null,
   "metadata": {},
   "outputs": [],
   "source": [
    "\"\"\"\n",
    "Add a keyword that lets us update call_count from inside the function.\n",
    "->global\n",
    "\n",
    "Add a keyword that lets us modify file_contents from inside save_contents()\n",
    "->nonlocal\n",
    "\n",
    "Add a keyword to done in check_is_done() so that wait_until_done() eventually stops looping.\n",
    "->global\n",
    "\"\"\""
   ]
  },
  {
   "cell_type": "code",
   "execution_count": null,
   "metadata": {},
   "outputs": [],
   "source": [
    "#sample 1\n",
    "call_count = 0\n",
    "\n",
    "def my_function():\n",
    "  # Use a keyword that lets us update call_count \n",
    "  global call_count\n",
    "  call_count += 1\n",
    "  \n",
    "  print(\"You've called my_function() {} times!\".format(\n",
    "    call_count\n",
    "  ))\n",
    "  \n",
    "for _ in range(20):\n",
    "  my_function()"
   ]
  },
  {
   "cell_type": "code",
   "execution_count": null,
   "metadata": {},
   "outputs": [],
   "source": [
    "#sample 2\n",
    "def read_files():\n",
    "  file_contents = None\n",
    "  \n",
    "  def save_contents(filename):\n",
    "    # Add a keyword that lets us modify file_contents\n",
    "    nonlocal file_contents\n",
    "    if file_contents is None:\n",
    "      file_contents = []\n",
    "    with open(filename) as fin:\n",
    "      file_contents.append(fin.read())\n",
    "      \n",
    "  for filename in ['1984.txt', 'MobyDick.txt', 'CatsEye.txt']:\n",
    "    save_contents(filename)\n",
    "    \n",
    "  return file_contents\n",
    "\n",
    "print('\\n'.join(read_files()))"
   ]
  },
  {
   "cell_type": "code",
   "execution_count": null,
   "metadata": {},
   "outputs": [],
   "source": [
    "#sample 3\n",
    "def wait_until_done():\n",
    "  def check_is_done():\n",
    "    # Add a keyword so that wait_until_done() \n",
    "    # doesn't run forever\n",
    "    global done\n",
    "    if random.random() < 0.1:\n",
    "      done = True\n",
    "      \n",
    "  while not done:\n",
    "    check_is_done()\n",
    "\n",
    "done = False\n",
    "wait_until_done()\n",
    "\n",
    "print('Work done? {}'.format(done))"
   ]
  },
  {
   "cell_type": "code",
   "execution_count": null,
   "metadata": {},
   "outputs": [],
   "source": [
    "# attaching nonlocal variables to nested functions\n",
    "#CLOSURE:"
   ]
  },
  {
   "cell_type": "code",
   "execution_count": null,
   "metadata": {},
   "outputs": [],
   "source": [
    "def return_a_func(arg1, arg2):\n",
    "  def new_func():\n",
    "    print('arg1 was {}'.format(arg1))\n",
    "    print('arg2 was {}'.format(arg2))\n",
    "  return new_func\n",
    "    \n",
    "my_func = return_a_func(2, 17)\n",
    "\n",
    "# Show that my_func()'s closure is not None\n",
    "print(my_func.__closure__ is not None)\n",
    "\n",
    "# Show that there are two variables in the closure\n",
    "print(len(my_func.__closure__) == 2)\n",
    "\n",
    "# Get the values of the variables in the closure\n",
    "closure_values = [\n",
    "  my_func.__closure__[i].cell_contents for i in range(2)\n",
    "]\n",
    "print(closure_values == [2, 17])"
   ]
  },
  {
   "cell_type": "code",
   "execution_count": null,
   "metadata": {},
   "outputs": [],
   "source": [
    "def my_special_function():\n",
    "  print('You are running my_special_function()')\n",
    "  \n",
    "def get_new_func(func):\n",
    "  def call_func():\n",
    "    func()\n",
    "  return call_func\n",
    "\n",
    "new_func = get_new_func(my_special_function)\n",
    "\n",
    "# Redefine my_special_function() to just print \"hello\"\n",
    "def my_special_function():\n",
    "  print('hello')\n",
    "\n",
    "new_func()"
   ]
  },
  {
   "cell_type": "code",
   "execution_count": null,
   "metadata": {},
   "outputs": [],
   "source": [
    "def my_special_function():\n",
    "  print('You are running my_special_function()')\n",
    "  \n",
    "def get_new_func(func):\n",
    "  def call_func():\n",
    "    func()\n",
    "  return call_func\n",
    "\n",
    "new_func = get_new_func(my_special_function)\n",
    "\n",
    "# Delete my_special_function()\n",
    "del my_special_function\n",
    "\n",
    "new_func()"
   ]
  },
  {
   "cell_type": "code",
   "execution_count": null,
   "metadata": {},
   "outputs": [],
   "source": [
    "# Overwrite `my_special_function` with the new function\n",
    "my_special_function = get_new_func(my_special_function)\n",
    "\n",
    "my_special_function()"
   ]
  },
  {
   "cell_type": "code",
   "execution_count": null,
   "metadata": {},
   "outputs": [],
   "source": [
    "#Decorators\n"
   ]
  },
  {
   "cell_type": "code",
   "execution_count": null,
   "metadata": {},
   "outputs": [],
   "source": [
    "#Decorate my_function() with the print_args() decorator by redefining my_function().\n",
    "def my_function(a, b, c):\n",
    "  print(a + b + c)\n",
    "\n",
    "# Decorate my_function() with the print_args() decorator\n",
    "my_function = print_args(my_function)\n",
    "\n",
    "my_function(1, 2, 3)"
   ]
  },
  {
   "cell_type": "code",
   "execution_count": null,
   "metadata": {},
   "outputs": [],
   "source": [
    "#Decorate my_function() with the print_args() decorator using decorator syntax.\n",
    "# Decorate my_function() with the print_args() decorator\n",
    "@print_args\n",
    "def my_function(a, b, c):\n",
    "  print(a + b + c)\n",
    "\n",
    "my_function(1, 2, 3)"
   ]
  },
  {
   "cell_type": "code",
   "execution_count": null,
   "metadata": {},
   "outputs": [],
   "source": [
    "\"\"\"\n",
    "Call the function being decorated and pass it the positional arguments *args.\n",
    "Return the new decorated function.\n",
    "\"\"\""
   ]
  },
  {
   "cell_type": "code",
   "execution_count": null,
   "metadata": {},
   "outputs": [],
   "source": [
    "def print_before_and_after(func):\n",
    "  def wrapper(*args):\n",
    "    print('Before {}'.format(func.__name__))\n",
    "    # Call the function being decorated with *args\n",
    "    func(*args)\n",
    "    print('After {}'.format(func.__name__))\n",
    "  # Return the nested function\n",
    "  return wrapper\n",
    "\n",
    "@print_before_and_after\n",
    "def multiply(a, b):\n",
    "  print(a * b)\n",
    "\n",
    "multiply(5, 10)"
   ]
  },
  {
   "cell_type": "code",
   "execution_count": null,
   "metadata": {},
   "outputs": [],
   "source": [
    "#Real-world examples"
   ]
  },
  {
   "cell_type": "code",
   "execution_count": null,
   "metadata": {},
   "outputs": [],
   "source": [
    "\"\"\"\n",
    "Create a nested function, wrapper(), that will become the new decorated function.\n",
    "Call the function being decorated.\n",
    "Return the new decorated function.\n",
    "\"\"\""
   ]
  },
  {
   "cell_type": "code",
   "execution_count": null,
   "metadata": {},
   "outputs": [],
   "source": [
    "\n",
    "def print_return_type(func):\n",
    "  # Define wrapper(), the decorated function\n",
    "  def wrapper(*args, **kwargs):\n",
    "    # Call the function being decorated\n",
    "    result = func(*args, **kwargs)\n",
    "    print('{}() returned type {}'.format(\n",
    "      func.__name__, type(result)\n",
    "    ))\n",
    "    return result\n",
    "  # Return the decorated function\n",
    "  return wrapper\n",
    "  \n",
    "@print_return_type\n",
    "def foo(value):\n",
    "  return value\n",
    "  \n",
    "print(foo(42))\n",
    "print(foo([1, 2, 3]))\n",
    "print(foo({'a': 42}))"
   ]
  },
  {
   "cell_type": "code",
   "execution_count": null,
   "metadata": {},
   "outputs": [],
   "source": [
    "\"\"\"\n",
    "Call the function being decorated and return the result.\n",
    "Return the new decorated function.\n",
    "Decorate foo() with the counter() decorator.\n",
    "\"\"\""
   ]
  },
  {
   "cell_type": "code",
   "execution_count": null,
   "metadata": {},
   "outputs": [],
   "source": [
    "def counter(func):\n",
    "  def wrapper(*args, **kwargs):\n",
    "    wrapper.count += 1\n",
    "    # Call the function being decorated and return the result\n",
    "    return func(*args, **kwargs)\n",
    "  wrapper.count = 0\n",
    "  # Return the new decorated function\n",
    "  return wrapper\n",
    "\n",
    "# Decorate foo() with the counter() decorator\n",
    "@counter\n",
    "def foo():\n",
    "  print('calling foo()')\n",
    "  \n",
    "foo()\n",
    "foo()\n",
    "\n",
    "print('foo() was called {} times.'.format(foo.count))"
   ]
  },
  {
   "cell_type": "code",
   "execution_count": null,
   "metadata": {},
   "outputs": [],
   "source": [
    "#Decorate print_sum() with the add_hello() decorator to replicate the issue that your friend saw - that the docstring disappears.\n",
    "def add_hello(func):\n",
    "  def wrapper(*args, **kwargs):\n",
    "    #To show your friend that they are printing the wrapper() function's docstring, not the print_sum() docstring, add the following docstring to wrapper():\n",
    "    \"\"\"Print 'hello' and then call the decorated function.\"\"\"\n",
    "    print('Hello')\n",
    "    return func(*args, **kwargs)\n",
    "  return wrapper\n",
    "\n",
    "# Decorate print_sum() with the add_hello() decorator\n",
    "@add_hello\n",
    "def print_sum(a, b):\n",
    "  \"\"\"Adds two numbers and prints the sum\"\"\"\n",
    "  print(a + b)\n",
    "  \n",
    "print_sum(10, 20)\n",
    "print(print_sum.__doc__)"
   ]
  },
  {
   "cell_type": "code",
   "execution_count": null,
   "metadata": {},
   "outputs": [],
   "source": [
    "\"\"\"Finally, decorate wrapper() so that the metadata from func() is preserved in the new decorated function.\"\"\"\n",
    "from functools import wraps\n",
    "\n",
    "def add_hello(func):\n",
    "  # Decorate wrapper() so that it keeps func()'s metadata\n",
    "  @wraps(func)\n",
    "  def wrapper(*args, **kwargs):\n",
    "    \"\"\"Print 'hello' and then call the decorated function.\"\"\"\n",
    "    print('Hello')\n",
    "    return func(*args, **kwargs)\n",
    "  return wrapper\n",
    "  \n",
    "@add_hello\n",
    "def print_sum(a, b):\n",
    "  \"\"\"Adds two numbers and prints the sum\"\"\"\n",
    "  print(a + b)\n",
    "  \n",
    "print_sum(10, 20)\n",
    "print(print_sum.__doc__)"
   ]
  },
  {
   "cell_type": "code",
   "execution_count": null,
   "metadata": {},
   "outputs": [],
   "source": [
    "\"\"\"\n",
    "Call the original function instead of the decorated version by using an attribute of the function that the wraps() statement in your boss's decorator added to the decorated function.\n",
    "\"\"\"\n",
    "@check_everything\n",
    "def duplicate(my_list):\n",
    "  \"\"\"Return a new list that repeats the input twice\"\"\"\n",
    "  return my_list + my_list\n",
    "\n",
    "t_start = time.time()\n",
    "duplicated_list = duplicate(list(range(50)))\n",
    "t_end = time.time()\n",
    "decorated_time = t_end - t_start\n",
    "\n",
    "t_start = time.time()\n",
    "# Call the original function instead of the decorated one\n",
    "duplicated_list = duplicate.__wrapped__(list(range(50)))\n",
    "t_end = time.time()\n",
    "undecorated_time = t_end - t_start\n",
    "\n",
    "print('Decorated time: {:.5f}s'.format(decorated_time))\n",
    "print('Undecorated time: {:.5f}s'.format(undecorated_time))"
   ]
  },
  {
   "cell_type": "code",
   "execution_count": null,
   "metadata": {},
   "outputs": [],
   "source": [
    "# Make print_sum() run 10 times with the run_n_times() decorator\n",
    "@run_n_times(10)\n",
    "def print_sum(a, b):\n",
    "  print(a + b)\n",
    "  \n",
    "print_sum(15, 20)"
   ]
  },
  {
   "cell_type": "code",
   "execution_count": null,
   "metadata": {},
   "outputs": [],
   "source": [
    "# Use run_n_times() to create the run_five_times() decorator\n",
    "run_five_times = run_n_times(5)\n",
    "\n",
    "@run_five_times\n",
    "def print_sum(a, b):\n",
    "  print(a + b)\n",
    "  \n",
    "print_sum(4, 100)"
   ]
  },
  {
   "cell_type": "code",
   "execution_count": null,
   "metadata": {},
   "outputs": [],
   "source": [
    "# Modify the print() function to always run 20 times\n",
    "print = run_n_times(20)(print)\n",
    "\n",
    "print('What is happening?!?!')"
   ]
  },
  {
   "cell_type": "code",
   "execution_count": null,
   "metadata": {},
   "outputs": [],
   "source": [
    "#Return the decorator and the decorated function from the correct places in the new html() decorator.\n",
    "def html(open_tag, close_tag):\n",
    "  def decorator(func):\n",
    "    @wraps(func)\n",
    "    def wrapper(*args, **kwargs):\n",
    "      msg = func(*args, **kwargs)\n",
    "      return '{}{}{}'.format(open_tag, msg, close_tag)\n",
    "    # Return the decorated function\n",
    "    return wrapper\n",
    "  # Return the decorator\n",
    "  return decorator"
   ]
  },
  {
   "cell_type": "code",
   "execution_count": null,
   "metadata": {},
   "outputs": [],
   "source": [
    "# Make hello() return bolded text\n",
    "@html('<b>', '</b>')\n",
    "def hello(name):\n",
    "  return 'Hello {}!'.format(name)\n",
    "\n",
    "print(hello('Alice'))"
   ]
  },
  {
   "cell_type": "code",
   "execution_count": null,
   "metadata": {},
   "outputs": [],
   "source": [
    "# Make goodbye() return italicized text\n",
    "@html('<i>', '</i>')\n",
    "def goodbye(name):\n",
    "  return 'Goodbye {}.'.format(name)\n",
    "  \n",
    "print(goodbye('Alice'))"
   ]
  },
  {
   "cell_type": "code",
   "execution_count": null,
   "metadata": {},
   "outputs": [],
   "source": [
    "# Wrap the result of hello_goodbye() in <div> and </div>\n",
    "@html('<div>','</iv>')\n",
    "def hello_goodbye(name):\n",
    "  return '\\n{}\\n{}\\n'.format(hello(name), goodbye(name))\n",
    "  \n",
    "print(hello_goodbye('Alice'))"
   ]
  },
  {
   "cell_type": "code",
   "execution_count": null,
   "metadata": {},
   "outputs": [],
   "source": [
    "\"\"\"NOTES:\n",
    "Remember: decorators like tag() that take arguments are actually decorator factories. tag() should create a new decorator and return it.\n",
    "Use a decorator from the functools module to attach the metadata from func() to the wrapper() function.\n",
    "wrapper() is the decorated function that decorator() returns. Its only job is to call the function being decorated.\n",
    "\"\"\""
   ]
  },
  {
   "cell_type": "code",
   "execution_count": null,
   "metadata": {},
   "outputs": [],
   "source": [
    "\"\"\"\n",
    "Define a new decorator, named decorator(), to return.\n",
    "Ensure the decorated function keeps its metadata.\n",
    "Call the function being decorated and return the result.\n",
    "Return the new decorator.\n",
    "\"\"\"\n",
    "def tag(*tags):\n",
    "  # Define a new decorator, named \"decorator\", to return\n",
    "  def decorator(func):\n",
    "    # Ensure the decorated function keeps its metadata\n",
    "    @wraps(func)\n",
    "    def wrapper(*args, **kwargs):\n",
    "      # Call the function being decorated and return the result\n",
    "      return func(*args, **kwargs)\n",
    "    wrapper.tags = tags\n",
    "    return wrapper\n",
    "  # Return the new decorator\n",
    "  return decorator\n",
    "\n",
    "@tag('test', 'this is a tag')\n",
    "def foo():\n",
    "  pass\n",
    "\n",
    "print(foo.tags)"
   ]
  },
  {
   "cell_type": "code",
   "execution_count": null,
   "metadata": {},
   "outputs": [],
   "source": [
    "def returns_dict(func):\n",
    "  # Complete the returns_dict() decorator\n",
    "  def wrapper(*args, **kwargs):\n",
    "    result = func(*args, **kwargs)\n",
    "    assert(type(result) == dict)\n",
    "    return result\n",
    "  return wrapper\n",
    "\n",
    "@returns_dict\n",
    "def foo(value):\n",
    "  return value\n",
    "\n",
    "try:\n",
    "  print(foo([1,2,3]))\n",
    "except AssertionError:\n",
    "  print('foo() did not return a dict!')"
   ]
  },
  {
   "cell_type": "code",
   "execution_count": null,
   "metadata": {},
   "outputs": [],
   "source": [
    "def returns(return_type):\n",
    "  # Complete the returns() decorator\n",
    "  def decorator(func):\n",
    "    def wrapper(*args, **kwargs):\n",
    "      result = func(*args, **kwargs)\n",
    "      assert(type(result) == return_type)\n",
    "      return result\n",
    "    return wrapper\n",
    "  return decorator\n",
    "  \n",
    "@returns(dict)\n",
    "def foo(value):\n",
    "  return value\n",
    "\n",
    "try:\n",
    "  print(foo([1,2,3]))\n",
    "except AssertionError:\n",
    "  print('foo() did not return a dict!')"
   ]
  }
 ]
}