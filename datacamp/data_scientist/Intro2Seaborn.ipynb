{
 "metadata": {
  "language_info": {
   "codemirror_mode": {
    "name": "ipython",
    "version": 3
   },
   "file_extension": ".py",
   "mimetype": "text/x-python",
   "name": "python",
   "nbconvert_exporter": "python",
   "pygments_lexer": "ipython3",
   "version": 3
  },
  "orig_nbformat": 2
 },
 "nbformat": 4,
 "nbformat_minor": 2,
 "cells": [
  {
   "cell_type": "code",
   "execution_count": null,
   "metadata": {},
   "outputs": [],
   "source": [
    "# Display pandas histogram\n",
    "df['Award_Amount'].plot.hist()\n",
    "plt.show()\n",
    "\n",
    "# Clear out the pandas histogram\n",
    "plt.clf()"
   ]
  },
  {
   "cell_type": "code",
   "execution_count": null,
   "metadata": {},
   "outputs": [],
   "source": [
    "# Display a Seaborn distplot\n",
    "sns.distplot(df['Award_Amount'])\n",
    "plt.show()\n",
    "\n",
    "# Clear the distplot\n",
    "plt.clf()"
   ]
  },
  {
   "cell_type": "code",
   "execution_count": null,
   "metadata": {},
   "outputs": [],
   "source": [
    "\"\"\"\n",
    "The KDE helps to smooth the distribution and is a useful way to look at the data. \n",
    "\"\"\""
   ]
  },
  {
   "cell_type": "code",
   "execution_count": null,
   "metadata": {},
   "outputs": [],
   "source": [
    "# Create a distplot\n",
    "sns.distplot(df['Award_Amount'],\n",
    "             kde=False,\n",
    "             bins=20)\n",
    "\n",
    "# Display the plot\n",
    "plt.show()"
   ]
  },
  {
   "cell_type": "code",
   "execution_count": null,
   "metadata": {},
   "outputs": [],
   "source": [
    "# Create a distplot of the Award Amount\n",
    "sns.distplot(df['Award_Amount'],\n",
    "             hist=False,\n",
    "             rug=True,\n",
    "             kde_kws={'shade':True})\n",
    "\n",
    "# Plot the results\n",
    "plt.show()"
   ]
  },
  {
   "cell_type": "code",
   "execution_count": null,
   "metadata": {},
   "outputs": [],
   "source": [
    "\"\"\"\n",
    "regplot - low level, color-> hue\n",
    "lmplot  -high level, color-> col\n",
    "\"\"\""
   ]
  },
  {
   "cell_type": "code",
   "execution_count": null,
   "metadata": {},
   "outputs": [],
   "source": [
    "# Create a regression plot of premiums vs. insurance_losses\n",
    "sns.regplot(x='insurance_losses', y='premiums', data=df)\n",
    "# Display the plot\n",
    "plt.show()"
   ]
  },
  {
   "cell_type": "code",
   "execution_count": null,
   "metadata": {},
   "outputs": [],
   "source": [
    "# Create a regression plot of premiums vs. insurance_losses\n",
    "sns.lmplot(x='insurance_losses', y='premiums',  col=\"Region\", data=df)\n",
    "# Display the plot\n",
    "plt.show()"
   ]
  },
  {
   "cell_type": "code",
   "execution_count": null,
   "metadata": {},
   "outputs": [],
   "source": [
    "# Create a regression plot using hue\n",
    "sns.lmplot(data=df,\n",
    "           x=\"insurance_losses\",\n",
    "           y=\"premiums\",\n",
    "           hue=\"Region\")\n",
    "# row=\"Region\", col=\"Region\"\n",
    "# Show the results\n",
    "plt.show()"
   ]
  },
  {
   "cell_type": "code",
   "execution_count": null,
   "metadata": {},
   "outputs": [],
   "source": [
    "# Plot the pandas histogram\n",
    "df['fmr_2'].plot.hist()\n",
    "plt.show()\n",
    "plt.clf()\n",
    "\n",
    "# Set the default seaborn style\n",
    "sns.set() \n",
    "\n",
    "# Plot the pandas histogram again\n",
    "df['fmr_2'].plot.hist()\n",
    "plt.show()\n",
    "plt.clf()"
   ]
  },
  {
   "cell_type": "code",
   "execution_count": null,
   "metadata": {},
   "outputs": [],
   "source": [
    "sns.distplot(df['fmr_2'])\n",
    "sns.set_style(\"whitegrid\")\n",
    "plt.show()\n",
    "plt.clf()"
   ]
  },
  {
   "cell_type": "code",
   "execution_count": null,
   "metadata": {},
   "outputs": [],
   "source": [
    "\"\"\"removing axes with despine()\"\"\""
   ]
  },
  {
   "cell_type": "code",
   "execution_count": null,
   "metadata": {},
   "outputs": [],
   "source": [
    "# Set the style to white\n",
    "sns.set_style('white')\n",
    "\n",
    "# Create a regression plot\n",
    "sns.lmplot(data=df,\n",
    "           x='pop2010',\n",
    "           y='fmr_2')\n",
    "\n",
    "# Remove the spines\n",
    "sns.despine()\n",
    "\n",
    "# Show the plot and clear the figure\n",
    "plt.show()\n",
    "plt.clf()"
   ]
  },
  {
   "cell_type": "code",
   "execution_count": null,
   "metadata": {},
   "outputs": [],
   "source": [
    "# sns.palplot() function displays a palette\n",
    "# sns.color_palette() returns the current palette"
   ]
  },
  {
   "cell_type": "code",
   "execution_count": null,
   "metadata": {},
   "outputs": [],
   "source": [
    "\"\"\"\n",
    "for p in sns.palettes.SEABORN_PALETTES:\n",
    "    sns.set_palette(p)\n",
    "    sns.palplot(sns.color_palette())\n",
    "    plt.show()\n",
    "\"\"\""
   ]
  },
  {
   "cell_type": "code",
   "execution_count": null,
   "metadata": {},
   "outputs": [],
   "source": [
    "# Set style, enable color code, and create a magenta distplot\n",
    "sns.set(color_codes=True)\n",
    "sns.distplot(df['fmr_3'], color='m')\n",
    "\n",
    "# Show the plot\n",
    "plt.show()"
   ]
  },
  {
   "cell_type": "code",
   "execution_count": null,
   "metadata": {},
   "outputs": [],
   "source": [
    "# Loop through differences between bright and colorblind palettes\n",
    "for p in ['bright', 'colorblind']:\n",
    "    sns.set_palette(p)\n",
    "    sns.distplot(df['fmr_3'])\n",
    "    plt.show()\n",
    "    \n",
    "    # Clear the plots\n",
    "    plt.clf()"
   ]
  },
  {
   "cell_type": "code",
   "execution_count": null,
   "metadata": {},
   "outputs": [],
   "source": [
    "#Create and display a Purples sequential palette containing 8 colors.\n",
    "sns.palplot(sns.color_palette('Purples',8))\n",
    "plt.show()"
   ]
  },
  {
   "cell_type": "code",
   "execution_count": null,
   "metadata": {},
   "outputs": [],
   "source": [
    "#Create and display a palette with 10 colors using the husl system.\n",
    "sns.palplot(sns.color_palette('husl',10))\n",
    "plt.show()"
   ]
  },
  {
   "cell_type": "code",
   "execution_count": null,
   "metadata": {},
   "outputs": [],
   "source": [
    "#Create and display a diverging palette with 6 colors coolwarm.\n",
    "sns.palplot(sns.color_palette('coolwarm',6))\n",
    "plt.show()"
   ]
  },
  {
   "cell_type": "code",
   "execution_count": null,
   "metadata": {},
   "outputs": [],
   "source": [
    "# Create a figure and axes\n",
    "fig, ax = plt.subplots()\n",
    "\n",
    "# Plot the distribution of data\n",
    "sns.distplot(df['fmr_3'], ax=ax)\n",
    "\n",
    "# Create a more descriptive x axis label\n",
    "ax.set(xlabel=\"3 Bedroom Fair Market Rent\")\n",
    "\n",
    "# Show the plot\n",
    "plt.show()"
   ]
  },
  {
   "cell_type": "code",
   "execution_count": null,
   "metadata": {},
   "outputs": [],
   "source": [
    "\"\"\"\n",
    "Create a distplot of the fmr_1 column.\n",
    "Modify the x axis label to say \"1 Bedroom Fair Market Rent\".\n",
    "Change the x axis limits to be between 100 and 1500.\n",
    "Add a descriptive title of \"US Rent\" to the plot.\n",
    "\"\"\""
   ]
  },
  {
   "cell_type": "code",
   "execution_count": null,
   "metadata": {},
   "outputs": [],
   "source": [
    "# Create a figure and axes\n",
    "fig, ax = plt.subplots()\n",
    "\n",
    "# Plot the distribution of 1 bedroom rents\n",
    "sns.distplot(df['fmr_1'], ax=ax)\n",
    "\n",
    "# Modify the properties of the plot\n",
    "ax.set(xlabel=\"1 Bedroom Fair Market Rent\",\n",
    "       xlim=(100,1500),\n",
    "       title=\"US Rent\")\n",
    "\n",
    "# Display the plot\n",
    "plt.show()"
   ]
  },
  {
   "cell_type": "code",
   "execution_count": null,
   "metadata": {},
   "outputs": [],
   "source": [
    "\"\"\"\n",
    "Create a figure and axes.\n",
    "Plot the fmr_1 column distribution.\n",
    "Add a vertical line using axvline for the median and mean of the values which are already defined.\n",
    "\"\"\""
   ]
  },
  {
   "cell_type": "code",
   "execution_count": null,
   "metadata": {},
   "outputs": [],
   "source": [
    "# Create a figure and axes. Then plot the data\n",
    "fig, ax = plt.subplots()\n",
    "sns.distplot(df['fmr_1'], ax=ax)\n",
    "\n",
    "# Customize the labels and limits\n",
    "ax.set(xlabel=\"1 Bedroom Fair Market Rent\", xlim=(100,1500), title=\"US Rent\")\n",
    "\n",
    "# Add vertical lines for the median and mean\n",
    "ax.axvline(x=median, color='m', label='Median', linestyle='--', linewidth=2)\n",
    "ax.axvline(x=mean, color='b', label='Mean', linestyle='-', linewidth=2)\n",
    "\n",
    "# Show the legend and plot the data\n",
    "ax.legend()\n",
    "plt.show()"
   ]
  },
  {
   "cell_type": "code",
   "execution_count": null,
   "metadata": {},
   "outputs": [],
   "source": [
    "# Create a plot with 1 row and 2 columns that share the y axis label\n",
    "fig, (ax0, ax1) = plt.subplots(nrows=1, ncols=2, sharey=True)\n",
    "\n",
    "# Plot the distribution of 1 bedroom apartments on ax0\n",
    "sns.distplot(df['fmr_1'], ax=ax0)\n",
    "ax0.set(xlabel=\"1 Bedroom Fair Market Rent\", xlim=(100,1500))\n",
    "\n",
    "# Plot the distribution of 2 bedroom apartments on ax1\n",
    "sns.distplot(df['fmr_2'], ax=ax1)\n",
    "ax1.set(xlabel=\"2 Bedroom Fair Market Rent\", xlim=(100,1500))\n",
    "\n",
    "# Display the plot\n",
    "plt.show()"
   ]
  },
  {
   "cell_type": "code",
   "execution_count": null,
   "metadata": {},
   "outputs": [],
   "source": [
    "\"\"\"\n",
    "stripplot, swarmplot ** jitter parameter\n",
    "show all the individual observation on the plot\n",
    "\n",
    "lvplot: hybrid between boxplot and violinplot and is relatively quick to render and easy to interpret\n",
    "catplot: data which takes on a limited and fixed number of values\n",
    "normally combined with numeric data: geograhy, gender, ethnicity, blood type, eye \n",
    "colorbarplot, pointplot: useful summaries of data\n",
    "boxplot: several measures related tı the distribution of data: median, quartiels etc..\n",
    "violinplot: density, displaying large datas\n",
    "\n",
    "statistical estimates: \n",
    "barplot: shows an estimate of the value as a confidence interval.\n",
    "pointplot: show the summary measure and confidence interval; useful for observing how values change acrros categorical values.\n",
    "countplot:like\n",
    "\"\"\""
   ]
  },
  {
   "cell_type": "code",
   "execution_count": null,
   "metadata": {},
   "outputs": [],
   "source": [
    "# Create a stripplot of the Award_Amount with the Model Selected on the y axis with jitter enabled.\n",
    "sns.stripplot(data=df,\n",
    "         x='Award_Amount',\n",
    "         y='Model Selected',\n",
    "         jitter=True)\n",
    "\n",
    "plt.show()"
   ]
  },
  {
   "cell_type": "code",
   "execution_count": null,
   "metadata": {},
   "outputs": [],
   "source": [
    "# Create and display a swarmplot with hue set to the Region\n",
    "sns.swarmplot(data=df,\n",
    "          x='Award_Amount',\n",
    "         y='Model Selected',\n",
    "         hue='Region')\n",
    "\n",
    "plt.show()"
   ]
  },
  {
   "cell_type": "code",
   "execution_count": null,
   "metadata": {},
   "outputs": [],
   "source": [
    "# Create and display a boxplot of the data with Award_Amount on the x axis and Model Selected on the y axis.\n",
    "sns.boxplot(data=df,\n",
    "         x='Award_Amount',\n",
    "         y='Model Selected')\n",
    "\n",
    "plt.show()\n",
    "plt.clf()"
   ]
  },
  {
   "cell_type": "code",
   "execution_count": null,
   "metadata": {},
   "outputs": [],
   "source": [
    "# Create a violinplot with the husl palette\n",
    "sns.violinplot(data=df,\n",
    "         x='Award_Amount',\n",
    "         y='Model Selected',\n",
    "         palette='husl')\n",
    "\n",
    "plt.show()\n",
    "plt.clf()"
   ]
  },
  {
   "cell_type": "code",
   "execution_count": null,
   "metadata": {},
   "outputs": [],
   "source": [
    "# Create a lvplot with the Paired palette and the Region column as the hue\n",
    "sns.lvplot(data=df,\n",
    "         x='Award_Amount',\n",
    "         y='Model Selected',\n",
    "         palette='Paired',\n",
    "         hue='Region')\n",
    "\n",
    "plt.show()\n",
    "plt.clf()"
   ]
  },
  {
   "cell_type": "code",
   "execution_count": null,
   "metadata": {},
   "outputs": [],
   "source": [
    "# Show a countplot with the number of models used with each region a different color\n",
    "sns.countplot(data=df,\n",
    "         y=\"Model Selected\",\n",
    "         hue=\"Region\")\n",
    "\n",
    "plt.show()\n",
    "plt.clf()"
   ]
  },
  {
   "cell_type": "code",
   "execution_count": null,
   "metadata": {},
   "outputs": [],
   "source": [
    "# Create a pointplot and include the capsize in order to show bars on the confidence interval\n",
    "sns.pointplot(data=df,\n",
    "         x='Model Selected',\n",
    "         y='Award_Amount',\n",
    "         capsize=.1)\n",
    "\n",
    "plt.show()\n",
    "plt.clf()"
   ]
  },
  {
   "cell_type": "code",
   "execution_count": null,
   "metadata": {},
   "outputs": [],
   "source": [
    "# Create a barplot with each Region shown as a different color\n",
    "sns.barplot(data=df,\n",
    "         y='Award_Amount',\n",
    "         x='Model Selected',\n",
    "         hue='Region')\n",
    "\n",
    "plt.show()\n",
    "plt.clf()"
   ]
  },
  {
   "cell_type": "code",
   "execution_count": null,
   "metadata": {},
   "outputs": [],
   "source": [
    "\"\"\"Regression plots\"\"\"\n",
    "# residual(artık kalıntı) plot is useful for evaluting the fit of a model\n",
    "# seaborn supports through residplot function\n",
    "#regplot : second order equation, using jitter parameter it is easier to see individiual distributin of the rental values for each month.\n",
    "#x_estimator, x_bins important parameters "
   ]
  },
  {
   "cell_type": "code",
   "execution_count": null,
   "metadata": {},
   "outputs": [],
   "source": [
    "# Display a regression plot for Tuition\n",
    "sns.regplot(data=df,\n",
    "         y='Tuition',\n",
    "         x=\"SAT_AVG_ALL\",\n",
    "         marker='^',\n",
    "         color='g')\n",
    "\n",
    "plt.show()\n",
    "plt.clf()"
   ]
  },
  {
   "cell_type": "code",
   "execution_count": null,
   "metadata": {},
   "outputs": [],
   "source": [
    "# Plot a regression plot of Tuition and the Percentage of Pell Grants\n",
    "sns.regplot(data=df,\n",
    "            y='Tuition',\n",
    "            x=\"PCTPELL\")\n",
    "\n",
    "plt.show()\n",
    "plt.clf()"
   ]
  },
  {
   "cell_type": "code",
   "execution_count": null,
   "metadata": {},
   "outputs": [],
   "source": [
    "# Create another plot that estimates the tuition by PCTPELL\n",
    "sns.regplot(data=df,\n",
    "            y='Tuition',\n",
    "            x=\"PCTPELL\",\n",
    "            x_bins=5)\n",
    "\n",
    "plt.show()\n",
    "plt.clf()"
   ]
  },
  {
   "cell_type": "code",
   "execution_count": null,
   "metadata": {},
   "outputs": [],
   "source": [
    "# The final plot should include a line using a 2nd order polynomial\n",
    "sns.regplot(data=df,\n",
    "            y='Tuition',\n",
    "            x=\"PCTPELL\",\n",
    "            x_bins=5,\n",
    "            order=2)\n",
    "\n",
    "plt.show()\n",
    "plt.clf()"
   ]
  },
  {
   "cell_type": "code",
   "execution_count": null,
   "metadata": {},
   "outputs": [],
   "source": [
    "# Create a scatter plot by disabling the regression line\n",
    "sns.regplot(data=df,\n",
    "            y='Tuition',\n",
    "            x=\"UG\",\n",
    "            fit_reg=False)\n",
    "\n",
    "plt.show()\n",
    "plt.clf()"
   ]
  },
  {
   "cell_type": "code",
   "execution_count": null,
   "metadata": {},
   "outputs": [],
   "source": [
    "# Create a scatter plot and bin the data into 5 bins\n",
    "sns.regplot(data=df,\n",
    "            y='Tuition',\n",
    "            x=\"UG\",\n",
    "            x_bins=5)\n",
    "\n",
    "plt.show()\n",
    "plt.clf()"
   ]
  },
  {
   "cell_type": "code",
   "execution_count": null,
   "metadata": {},
   "outputs": [],
   "source": [
    "# Create a regplot and bin the data into 8 bins\n",
    "sns.regplot(data=df,\n",
    "         y='Tuition',\n",
    "         x=\"UG\",\n",
    "         x_bins=8)\n",
    "\n",
    "plt.show()\n",
    "plt.clf()"
   ]
  },
  {
   "cell_type": "code",
   "execution_count": null,
   "metadata": {},
   "outputs": [],
   "source": [
    "\"\"\"Matrix Plot\"\"\"\n",
    "#heatmap, color, most, least values.. heatmap + corr = regplor"
   ]
  },
  {
   "cell_type": "code",
   "execution_count": null,
   "metadata": {},
   "outputs": [],
   "source": [
    "# Create a crosstab table of the data\n",
    "pd_crosstab = pd.crosstab(df[\"Group\"], df[\"YEAR\"])\n",
    "print(pd_crosstab)\n",
    "\n",
    "# Plot a heatmap of the table\n",
    "sns.heatmap(pd_crosstab)\n",
    "\n",
    "# Rotate tick marks for visibility\n",
    "plt.yticks(rotation=0)\n",
    "plt.xticks(rotation=90)\n",
    "\n",
    "plt.show()"
   ]
  },
  {
   "cell_type": "code",
   "execution_count": null,
   "metadata": {},
   "outputs": [],
   "source": [
    "\"\"\"\n",
    "Create a crosstab table of Group and YEAR\n",
    "Create a heatmap of the data using the BuGn palette\n",
    "Disable the cbar and increase the linewidth to 0.3\n",
    "\"\"\""
   ]
  },
  {
   "cell_type": "code",
   "execution_count": null,
   "metadata": {},
   "outputs": [],
   "source": [
    "# Create the crosstab DataFrame\n",
    "pd_crosstab = pd.crosstab(df[\"Group\"], df[\"YEAR\"])\n",
    "\n",
    "# Plot a heatmap of the table with no color bar and using the BuGn palette\n",
    "sns.heatmap(pd_crosstab, cbar=False, cmap=\"BuGn\", linewidths=0.3)\n",
    "\n",
    "# Rotate tick marks for visibility\n",
    "plt.yticks(rotation=0)\n",
    "plt.xticks(rotation=90)\n",
    "\n",
    "#Show the plot\n",
    "plt.show()\n",
    "plt.clf()"
   ]
  },
  {
   "cell_type": "code",
   "execution_count": null,
   "metadata": {},
   "outputs": [],
   "source": [
    "\"\"\"FacetGrid, factorplot, lmplot\n",
    "small multiples is useful for analyzing data with many variables.\n",
    "comparing multiply plots side by side using the same scales and axes.\n",
    "** To create these plots is that the data must be in tidy format\n",
    "Tidy format: means each row of the data is a single observation and the columns contain the variables.\n",
    "\"\"\""
   ]
  },
  {
   "cell_type": "code",
   "execution_count": null,
   "metadata": {},
   "outputs": [],
   "source": [
    "\"\"\"facetgrids have multiple steps, factorplot function is a shortcut to creating FacetGrids.\n",
    "use matplinb plots as in the map function\"\"\"\n"
   ]
  },
  {
   "cell_type": "code",
   "execution_count": null,
   "metadata": {},
   "outputs": [],
   "source": [
    "\"\"\"lmplot is similar to factorplot\n",
    "seaborn filters the data, these plots show only a subset of data for each plot\"\"\"\n"
   ]
  },
  {
   "cell_type": "code",
   "execution_count": null,
   "metadata": {},
   "outputs": [],
   "source": [
    "\"\"\"Create a FacetGrid that shows a point plot of the Average SAT scores SAT_AVG_ALL.\n",
    "Use row_order to control the display order of the degree types.\"\"\"\n",
    "\n",
    "g2 = sns.FacetGrid(df, \n",
    "             row=\"Degree_Type\",\n",
    "             row_order=['Graduate', 'Bachelors', 'Associates', 'Certificate'])\n",
    "\n",
    "# Map a pointplot of SAT_AVG_ALL onto the grid\n",
    "g2.map(sns.pointplot, 'SAT_AVG_ALL')\n",
    "\n",
    "# Show the plot\n",
    "plt.show()\n",
    "plt.clf()"
   ]
  },
  {
   "cell_type": "code",
   "execution_count": null,
   "metadata": {},
   "outputs": [],
   "source": [
    "# Create a factorplot() that contains a boxplot (box) of Tuition values varying by Degree_Type across rows.\n",
    "sns.factorplot(data=df,\n",
    "         x='Tuition',\n",
    "         kind='box',\n",
    "         row='Degree_Type')\n",
    "\n",
    "plt.show()\n",
    "plt.clf()"
   ]
  },
  {
   "cell_type": "code",
   "execution_count": null,
   "metadata": {},
   "outputs": [],
   "source": [
    "# Create a factorplot() of SAT Averages (SAT_AVG_ALL) facetted across Degree_Type that shows a pointplot (point).\n",
    "# Use row_order to order the degrees from highest to lowest level.\n",
    "sns.factorplot(data=df,\n",
    "        x='SAT_AVG_ALL',\n",
    "        kind='point',\n",
    "        row='Degree_Type',\n",
    "        row_order=['Graduate', 'Bachelors', 'Associates', 'Certificate'])\n",
    "\n",
    "plt.show()\n",
    "plt.clf()"
   ]
  },
  {
   "cell_type": "code",
   "execution_count": null,
   "metadata": {},
   "outputs": [],
   "source": [
    "# Create a FacetGrid() with \"Degree_Type\" columns and scatter plot of \"UG\" and \"PCTPELL\".\n",
    "g = sns.FacetGrid(df, col=\"Degree_Type\", col_order=degree_ord)\n",
    "\n",
    "# Map a scatter plot of Undergrad Population compared to PCTPELL\n",
    "g.map(plt.scatter, 'UG', 'PCTPELL')\n",
    "\n",
    "plt.show()\n",
    "plt.clf()"
   ]
  },
  {
   "cell_type": "code",
   "execution_count": null,
   "metadata": {},
   "outputs": [],
   "source": [
    "# Create a lmplot() using the same values from the FacetGrid().\n",
    "sns.lmplot(data=df,\n",
    "        x='UG',\n",
    "        y='PCTPELL',\n",
    "        col=\"Degree_Type\",\n",
    "        col_order=degree_ord)\n",
    "\n",
    "plt.show()\n",
    "plt.clf()"
   ]
  },
  {
   "cell_type": "code",
   "execution_count": null,
   "metadata": {},
   "outputs": [],
   "source": [
    "# Create a facetted lmplot() comparing \"SATAVGALL\" to \"Tuition\" with columns varying by \"Ownership\" and rows by \"Degree_Type\".\n",
    "# In the lmplot() add a hue for Women Only Universities.\n",
    "sns.lmplot(data=df,\n",
    "        x='SAT_AVG_ALL',\n",
    "        y='Tuition',\n",
    "        col=\"Ownership\",\n",
    "        row='Degree_Type',\n",
    "        row_order=['Graduate', 'Bachelors'],\n",
    "        hue='WOMENONLY',\n",
    "        col_order=inst_ord)\n",
    "\n",
    "plt.show()\n",
    "plt.clf()"
   ]
  },
  {
   "cell_type": "code",
   "execution_count": null,
   "metadata": {},
   "outputs": [],
   "source": [
    "\"\"\"PairGrid- like FacetGrid, pairplot like lmplot\n",
    "difference frın facetgrid etc.. with these plots wwe only define te columns of data we want to compare.\n",
    "PairGrid plot allows us to build plots that show the relationsships between two data elements.\n",
    "we dont define row and column parameters, define the variables\n",
    "map_diag function to define the plotting function for the main diagonal.\n",
    "map_offdiag funcion defines the other diagonal\"\"\"\n"
   ]
  },
  {
   "cell_type": "code",
   "execution_count": null,
   "metadata": {},
   "outputs": [],
   "source": [
    "# Create a PairGrid with a scatter plot for fatal_collisions and premiums\n",
    "g = sns.PairGrid(df, vars=[\"fatal_collisions\", \"premiums\"])\n",
    "g2 = g.map(plt.scatter)\n",
    "\n",
    "plt.show()\n",
    "plt.clf()"
   ]
  },
  {
   "cell_type": "code",
   "execution_count": null,
   "metadata": {},
   "outputs": [],
   "source": [
    "# Create the same PairGrid but map a histogram on the diag\n",
    "# Create another PairGrid but plot a histogram on the diagonal and scatter plot on the off diagonal.\n",
    "g = sns.PairGrid(df, vars=[\"fatal_collisions\", \"premiums\"])\n",
    "g2 = g.map_diag(plt.hist)\n",
    "g3 = g2.map_offdiag(plt.scatter)\n",
    "\n",
    "plt.show()\n",
    "plt.clf()"
   ]
  },
  {
   "cell_type": "code",
   "execution_count": null,
   "metadata": {},
   "outputs": [],
   "source": [
    "# Create a pairwise plot of the variables using a scatter plot\n",
    "sns.pairplot(data=df,\n",
    "        vars=[\"fatal_collisions\", \"premiums\"],\n",
    "        kind='scatter')\n",
    "\n",
    "plt.show()\n",
    "plt.clf()"
   ]
  },
  {
   "cell_type": "code",
   "execution_count": null,
   "metadata": {},
   "outputs": [],
   "source": [
    "\"\"\"\n",
    "Create another pairplot using the \"Region\" to color code the results.\n",
    "Use the RdBu palette to change the colors of the plot.\n",
    "\"\"\"\n",
    "# Plot the same data but use a different color palette and color code by Region\n",
    "sns.pairplot(data=df,\n",
    "        vars=[\"fatal_collisions\", \"premiums\"],\n",
    "        kind='scatter',\n",
    "        hue='Region',\n",
    "        palette='RdBu',\n",
    "        diag_kws={'alpha':.5})\n",
    "\n",
    "plt.show()\n",
    "plt.clf()"
   ]
  },
  {
   "cell_type": "code",
   "execution_count": null,
   "metadata": {},
   "outputs": [],
   "source": [
    "\"\"\"\n",
    "Create a pair plot that examines fatal_collisions_speeding and fatal_collisions_alc on the x axis and premiums and insurance_losses on the y axis.\n",
    "Use the husl palette and color code the scatter plot by Region\n",
    "\"\"\"\n",
    "# Build a pairplot with different x and y variables\n",
    "sns.pairplot(data=df,\n",
    "        x_vars=[\"fatal_collisions_speeding\", \"fatal_collisions_alc\"],\n",
    "        y_vars=['premiums', 'insurance_losses'],\n",
    "        kind='scatter',\n",
    "        hue='Region',\n",
    "        palette='husl')\n",
    "\n",
    "plt.show()\n",
    "plt.clf()"
   ]
  },
  {
   "cell_type": "code",
   "execution_count": null,
   "metadata": {},
   "outputs": [],
   "source": [
    "\"\"\"\n",
    "Build a pairplot() with kde plots along the diagonals. Include the insurance_losses and premiums as the variables.\n",
    "Use a reg plot for the the non-diagonal plots.\n",
    "Use the BrBG palette for the final plot.\n",
    "\"\"\"\n",
    "# plot relationships between insurance_losses and premiums\n",
    "sns.pairplot(data=df,\n",
    "             vars=[\"insurance_losses\", \"premiums\"],\n",
    "             kind='reg',\n",
    "             palette='BrBG',\n",
    "             diag_kind = 'kde',\n",
    "             hue='Region')\n",
    "\n",
    "plt.show()\n",
    "plt.clf()"
   ]
  },
  {
   "cell_type": "code",
   "execution_count": null,
   "metadata": {},
   "outputs": [],
   "source": [
    "\"\"\"JointGrid, jointplot\n",
    "JointGrid allows us to compare the distirbution of data between two variables\n",
    "make different plots and kernel density estimates to give us insight into our data.\n",
    "similar to other grid plots in that it takes a small number of inputs and creates an insightful visualization of the data.\n",
    "this type of plot may be new to many aspiring data scientist, so we will describe the basic layout.\n",
    "X, Y availeble for intpus.\n",
    "use, annotate() function to define additional infrmation about the relationship of the variables.\n",
    "jointplot supports simple createion of scatter, hex, residual, regression, and kde plots.\"\"\"\n"
   ]
  },
  {
   "cell_type": "code",
   "execution_count": null,
   "metadata": {},
   "outputs": [],
   "source": [
    "\"\"\"\n",
    "Use Seaborn's \"whitegrid\" style for these plots.\n",
    "Create a JointGrid() with \"hum\" on the x-axis and \"total_rentals\" on the y.\n",
    "Plot a regplot() and distplot() on the margins.\n",
    "\"\"\"\n",
    "# Build a JointGrid co# Build a JointGrid comparing humidity and total_rentals\n",
    "sns.set_style(\"whitegrid\")\n",
    "g = sns.JointGrid(x=\"hum\",\n",
    "            y=\"total_rentals\",\n",
    "            data=df,\n",
    "            xlim=(0.1, 1.0)) \n",
    "\n",
    "g.plot(sns.regplot, sns.distplot)\n",
    "\n",
    "plt.show()\n",
    "plt.clf()"
   ]
  },
  {
   "cell_type": "code",
   "execution_count": null,
   "metadata": {},
   "outputs": [],
   "source": [
    "# Create a jointplot similar to the JointGrid \n",
    "sns.jointplot(x=\"hum\",\n",
    "        y=\"total_rentals\",\n",
    "        kind='reg',\n",
    "        data=df)\n",
    "\n",
    "plt.show()\n",
    "plt.clf()"
   ]
  },
  {
   "cell_type": "code",
   "execution_count": null,
   "metadata": {},
   "outputs": [],
   "source": [
    "#Create a jointplot with a 2nd order polynomial regression plot comparing temp and total_rentals.\n",
    "sns.jointplot(x=\"temp\",\n",
    "         y=\"total_rentals\",\n",
    "         kind='reg',\n",
    "         data=df,\n",
    "         order=2,\n",
    "         xlim=(0, 1))\n",
    "\n",
    "plt.show()\n",
    "plt.clf()"
   ]
  },
  {
   "cell_type": "code",
   "execution_count": null,
   "metadata": {},
   "outputs": [],
   "source": [
    "#Use a residual plot to check the appropriateness of the model.\n",
    "# Plot a jointplot showing the residuals\n",
    "sns.jointplot(x=\"temp\",\n",
    "        y=\"total_rentals\",\n",
    "        kind='resid',\n",
    "        data=df,\n",
    "        order=2)\n",
    "\n",
    "plt.show()\n",
    "plt.clf()"
   ]
  },
  {
   "cell_type": "code",
   "execution_count": null,
   "metadata": {},
   "outputs": [],
   "source": [
    "\"\"\"\n",
    "Create a jointplot with a scatter plot comparing temp and casual riders.\n",
    "Overlay a kdeplot on top of the scatter plot.\n",
    "\"\"\"\n",
    "# Create a jointplot of temp vs. casual riders\n",
    "# Include a kdeplot over the scatter plot\n",
    "g = (sns.jointplot(x=\"temp\",\n",
    "             y=\"casual\",\n",
    "             kind='scatter',\n",
    "             data=df,\n",
    "             marginal_kws=dict(bins=10, rug=True))\n",
    "    .plot_joint(sns.kdeplot))\n",
    "    \n",
    "plt.show()\n",
    "plt.clf()"
   ]
  },
  {
   "cell_type": "code",
   "execution_count": null,
   "metadata": {},
   "outputs": [],
   "source": [
    "# Replicate the above plot but only for registered riders\n",
    "g = (sns.jointplot(x=\"temp\",\n",
    "             y=\"registered\",\n",
    "             kind='scatter',\n",
    "             data=df,\n",
    "             marginal_kws=dict(bins=10, rug=True))\n",
    "    .plot_joint(sns.kdeplot))\n",
    "\n",
    "plt.show()\n",
    "plt.clf()"
   ]
  },
  {
   "cell_type": "code",
   "execution_count": null,
   "metadata": {},
   "outputs": [],
   "source": [
    "\"\"\"Selecting Seaborn Plot\n",
    "*kdeplot can be used on its own or it can be generated from a distplot().\n",
    "PairGrid() and JointGrid() plots build on top of the regression and distribution plots.\n",
    "STEPS:\n",
    "1-) Analyzing numerical data is looking at its distrubiton:\n",
    "*Univariate Distribution Analysis:\n",
    "distplot is the best place to start for this analysis\n",
    "rugplot and kdeplot can be useful alternatives.\n",
    "*Regression Analysis:\n",
    "lmplot perform regression analysis and supports facetting-> linear relationships between data\n",
    "scatter and residplot in addition to the ability to plot the data on a FacetGrid()\n",
    "*Categorical Plots:\n",
    "boxplot, violinplot to examine the distribution of the variables. ** follow the statistical estimation plots such as the point, bar or countplot\n",
    "If you need to faet the data across rows or columns, use a factorplot()\n",
    "pairplot, jointplot is useful for: you have done some preliminary(ön hazırlık, başlangıç) analysis of regression or distribution of the data.\n",
    "\n",
    "\n",
    "\n",
    "\n",
    "\n",
    "\n"
   ]
  }
 ]
}